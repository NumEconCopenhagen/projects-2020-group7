{
 "cells": [
  {
   "cell_type": "markdown",
   "execution_count": null,
   "metadata": {},
   "outputs": [],
   "source": [
    "# Inaugural Project"
   ]
  },
  {
   "cell_type": "markdown",
   "execution_count": null,
   "metadata": {},
   "outputs": [],
   "source": [
    "> **Note the following:** \n",
    "> 1. This is an example of how to structure your **inaugural project**.\n",
    "> 1. Remember the general advice on structuring and commenting your code from [lecture 5](https://numeconcopenhagen.netlify.com/lectures/Workflow_and_debugging).\n",
    "> 1. Remember this [guide](https://www.markdownguide.org/basic-syntax/) on markdown and (a bit of) latex.\n",
    "> 1. Turn on automatic numbering by clicking on the small icon on top of the table of contents in the left sidebar.\n",
    "> 1. The `inauguralproject.py` file includes a function which can be used multiple times in this notebook."
   ]
  },
  {
   "cell_type": "markdown",
   "execution_count": null,
   "metadata": {},
   "outputs": [],
   "source": [
    "Imports and set magics:"
   ]
  },
  {
   "cell_type": "code",
   "execution_count": null,
   "metadata": {},
   "outputs": [],
   "source": [
    "import numpy as np\n",
    "\n",
    "# autoreload modules when code is run\n",
    "%load_ext autoreload\n",
    "%autoreload 2\n",
    "\n",
    "# local modules\n",
    "import inauguralproject"
   ]
  },
  {
   "cell_type": "markdown",
   "execution_count": null,
   "metadata": {
    "toc-hr-collapsed": true
   },
   "outputs": [],
   "source": [
    "# Question 1"
   ]
  },
  {
   "cell_type": "markdown",
   "execution_count": null,
   "metadata": {},
   "outputs": [],
   "source": [
    "First of all, we imported the function optimize from the package \"scipy\" and we identified the various variables. The values are the ones given in question 1 and we only randomly gave the value 1 to the wage ratio w. We solved the maximization problem coding firstly the utility function and subsequently the total resources constraint, the objective function and the optimizer. As the function \"optimize\" is used in the case of minimization problems, we enter utility with a negative sign in \"opt_choice\". We probably made a mistake in the code as we obtain an utility of 0, a result that seems pretty strange."
   ]
  },
  {
   "cell_type": "code",
   "execution_count": 6,
   "metadata": {},
   "outputs": [
    {
     "name": "stdout",
     "output_type": "stream",
     "text": "Optimal labour supply is: 0.019\nOptimal consumption is: 1.005\nmaximized utility is: 0.000\n"
    }
   ],
   "source": [
    "import numpy as np\n",
    "from scipy import optimize\n",
    "# A. Define variables value\n",
    "m = 1 #cash-on-hand\n",
    "v = 10 #scale the disutility of labour\n",
    "eps = 0.3 #Frish-elasticity\n",
    "teta_0 = 0.4 #standard labour income tax\n",
    "teta_1 = 0.1 #top bracket labour income tax\n",
    "kappa = 0.4 #cut-off for the top labour income bracket\n",
    "w = 1 #rate-wage\n",
    "# B. define utility\n",
    "def lab_sup(c,v,l,eps):\n",
    "    return np.log(c) - v*(l**(1+1/eps))/(1+1/eps)\n",
    "\n",
    "# C. define constraint\n",
    "def cash_constr(m, teta_0, teta_1, w, l, kappa):\n",
    "    return m + w*l - (teta_0*w*l + teta_1*max(w*l - kappa, 0))\n",
    "\n",
    "# D. Define objective function\n",
    "def optimal_choice( l, w, eps, teta_0, teta_1, kappa, v):\n",
    "    c = cash_constr(m, teta_0, teta_1, w, l, kappa)\n",
    "    return - lab_sup(c,v,l,eps)\n",
    "# E. Call optimizer and calculate optimum\n",
    "def opt_problem(m, w, eps, v, teta_0, teta_1, kappa):\n",
    "    res = optimize.minimize_scalar(optimal_choice, method='bounded',bounds=(0,1),\n",
    "    args=(w, eps, teta_0, teta_1, kappa, v))    \n",
    "# e.1 Calculate optimal l,x,u\n",
    "    optimal_l = res.x\n",
    "    optimal_c = cash_constr(m, teta_0, teta_1, w, optimal_l, kappa)\n",
    "    optimal_ut = lab_sup( optimal_c, v , optimal_l, eps = eps)\n",
    "    return optimal_l, optimal_c, optimal_ut\n",
    "optimal_l, optimal_c, optimal_ut = opt_problem(w, eps, v, teta_0, teta_1, kappa, m)\n",
    "# F. Print result\n",
    "print(f'Optimal labour supply is: {optimal_l:.3f}')\n",
    "print(f'Optimal consumption is: {optimal_c:.3f}')\n",
    "print(f'maximized utility is: {optimal_ut:.3f}')"
   ]
  },
  {
   "cell_type": "markdown",
   "execution_count": null,
   "metadata": {},
   "outputs": [],
   "source": [
    "# Question 2"
   ]
  },
  {
   "cell_type": "markdown",
   "execution_count": null,
   "metadata": {},
   "outputs": [],
   "source": [
    "We realize two graphs: the left picture captures the relationship between the wage rate and the optimal consumption, meanwhile the right graph the relationship between the wage rate and the optimal supply of labour.\n",
    "From the figures we can detect that both optimal consumption and labour-supply tend to increase when the wage rate increases.\n"
   ]
  },
  {
   "cell_type": "code",
   "execution_count": 7,
   "metadata": {},
   "outputs": [
    {
     "ename": "NameError",
     "evalue": "name 'opt_problem' is not defined",
     "output_type": "error",
     "traceback": [
      "\u001b[1;31m---------------------------------------------------------------------------\u001b[0m",
      "\u001b[1;31mNameError\u001b[0m                                 Traceback (most recent call last)",
      "\u001b[1;32m<ipython-input-7-6bf498b718d5>\u001b[0m in \u001b[0;36m<module>\u001b[1;34m\u001b[0m\n\u001b[0;32m      7\u001b[0m \u001b[0mw_vec\u001b[0m \u001b[1;33m=\u001b[0m \u001b[0mnp\u001b[0m\u001b[1;33m.\u001b[0m\u001b[0mlinspace\u001b[0m\u001b[1;33m(\u001b[0m\u001b[1;36m0.5\u001b[0m\u001b[1;33m,\u001b[0m \u001b[0mw_max\u001b[0m\u001b[1;33m,\u001b[0m \u001b[0mN\u001b[0m\u001b[1;33m)\u001b[0m\u001b[1;33m\u001b[0m\u001b[1;33m\u001b[0m\u001b[0m\n\u001b[0;32m      8\u001b[0m \u001b[0mw_values\u001b[0m \u001b[1;33m=\u001b[0m \u001b[0mnp\u001b[0m\u001b[1;33m.\u001b[0m\u001b[0mmeshgrid\u001b[0m\u001b[1;33m(\u001b[0m\u001b[0mw_vec\u001b[0m\u001b[1;33m)\u001b[0m\u001b[1;33m\u001b[0m\u001b[1;33m\u001b[0m\u001b[0m\n\u001b[1;32m----> 9\u001b[1;33m \u001b[0ml_values\u001b[0m \u001b[1;33m=\u001b[0m \u001b[0mopt_problem\u001b[0m\u001b[1;33m(\u001b[0m\u001b[0mm\u001b[0m \u001b[1;33m=\u001b[0m \u001b[0mm\u001b[0m\u001b[1;33m,\u001b[0m \u001b[0mw\u001b[0m \u001b[1;33m=\u001b[0m \u001b[0mw_vec\u001b[0m\u001b[1;33m,\u001b[0m \u001b[0meps\u001b[0m \u001b[1;33m=\u001b[0m \u001b[0meps\u001b[0m\u001b[1;33m,\u001b[0m \u001b[0mv\u001b[0m \u001b[1;33m=\u001b[0m \u001b[0mv\u001b[0m\u001b[1;33m,\u001b[0m \u001b[0mteta_0\u001b[0m \u001b[1;33m=\u001b[0m \u001b[0mteta_0\u001b[0m\u001b[1;33m,\u001b[0m \u001b[0mteta_1\u001b[0m \u001b[1;33m=\u001b[0m \u001b[0mteta_1\u001b[0m\u001b[1;33m,\u001b[0m \u001b[0mkappa\u001b[0m \u001b[1;33m=\u001b[0m \u001b[0mkappa\u001b[0m\u001b[1;33m)\u001b[0m\u001b[1;33m\u001b[0m\u001b[1;33m\u001b[0m\u001b[0m\n\u001b[0m\u001b[0;32m     10\u001b[0m \u001b[0mc_values\u001b[0m \u001b[1;33m=\u001b[0m \u001b[0mopt_problem\u001b[0m\u001b[1;33m(\u001b[0m\u001b[0mm\u001b[0m \u001b[1;33m=\u001b[0m \u001b[0mm\u001b[0m\u001b[1;33m,\u001b[0m \u001b[0mw\u001b[0m \u001b[1;33m=\u001b[0m \u001b[0mw_vec\u001b[0m \u001b[1;33m,\u001b[0m \u001b[0meps\u001b[0m \u001b[1;33m=\u001b[0m \u001b[0meps\u001b[0m\u001b[1;33m,\u001b[0m \u001b[0mv\u001b[0m \u001b[1;33m=\u001b[0m \u001b[0mv\u001b[0m \u001b[1;33m,\u001b[0m \u001b[0mteta_0\u001b[0m \u001b[1;33m=\u001b[0m \u001b[0mteta_0\u001b[0m\u001b[1;33m,\u001b[0m \u001b[0mteta_1\u001b[0m \u001b[1;33m=\u001b[0m \u001b[0mteta_1\u001b[0m \u001b[1;33m,\u001b[0m \u001b[0mkappa\u001b[0m \u001b[1;33m=\u001b[0m \u001b[0mkappa\u001b[0m\u001b[1;33m)\u001b[0m\u001b[1;33m\u001b[0m\u001b[1;33m\u001b[0m\u001b[0m\n\u001b[0;32m     11\u001b[0m \u001b[1;33m\u001b[0m\u001b[0m\n",
      "\u001b[1;31mNameError\u001b[0m: name 'opt_problem' is not defined"
     ]
    }
   ],
   "source": [
    "import matplotlib.pyplot as plt # baseline modul\n",
    "plt.style.use('seaborn-whitegrid') \n",
    "\n",
    "# A. setting\n",
    "N=10000\n",
    "w_min = 0.5\n",
    "w_max=1.5\n",
    "# B.\n",
    "w_values = np.linspace(w_min, w_max, N)\n",
    "c_values = np.empty(N)\n",
    "l_values = np.empty(N)\n",
    "for i,w in enumerate(w_values):\n",
    "    ver=opt_problem(m, w, eps, v, teta_0, teta_1, kappa)\n",
    "    l_values[i]=ver[0]\n",
    "    c_values[i]=ver[1]\n",
    "fig = plt.figure(figsize=(10,7))\n",
    "#C. Left figure\n",
    "ax_left = fig.add_subplot(1,2,1)\n",
    "ax_left.plot(w_values,c_values)\n",
    "ax_left.set_title('Consumption given wage')\n",
    "ax_left.set_xlabel('$Wage$')\n",
    "ax_left.set_ylabel('$c^\\star$')\n",
    "ax_left.grid(True)\n",
    "\n",
    "#D. Right figure\n",
    "ax_right = fig.add_subplot(1,2,2)\n",
    "ax_right.plot(w_values,l_values)\n",
    "ax_right.set_title('Labour supply given wage')\n",
    "ax_right.set_xlabel('$Wage$')\n",
    "ax_right.set_ylabel('$l^\\star$')\n",
    "ax_right.grid(True)\n",
    "\n",
    "#E. Show pictures\n",
    "plt.show\n"
   ]
  },
  {
   "cell_type": "markdown",
   "execution_count": null,
   "metadata": {},
   "outputs": [],
   "source": [
    "# Question 3"
   ]
  },
  {
   "cell_type": "markdown",
   "execution_count": null,
   "metadata": {},
   "outputs": [],
   "source": [
    "We calcute the total tax revenue. Firstly, we draw a random vector of individual values wi from the range defined in point 2. Subsequently we define the tax revenue function obtained using the optimal values l*. \n",
    "We find the tax amount for each individual i and then we sum them all. The total tax revenue is approximately 75."
   ]
  },
  {
   "cell_type": "code",
   "execution_count": null,
   "metadata": {},
   "outputs": [],
   "source": [
    "N= 10000\n",
    "np.random.seed(2000)\n",
    "wi_values =  np.random.uniform(w_min,w_max,N)\n",
    "li_values = np.empty(N)\n",
    "c_values = np.empty(N)\n",
    "for i,w in enumerate (wi_values):\n",
    "    bundle = opt_problem(w,eps,v,teta_0,teta_1,kappa,m)\n",
    "    li_values[i] = bundle[0]\n",
    "tax_revenue = lambda li_values, wi_values: teta_0*wi_values*li_values + teta_1 * np.fmax(wi_values*li_values-kappa,0)\n",
    "tax = tax_revenue (li_values,wi_values) # individual tax revenues\n",
    "print(tax)\n",
    "tot_tax = np.sum(tax)\n",
    "print(tot_tax) # total tax revenue"
   ]
  },
  {
   "cell_type": "markdown",
   "execution_count": null,
   "metadata": {},
   "outputs": [],
   "source": [
    "# Question 4"
   ]
  },
  {
   "cell_type": "markdown",
   "execution_count": null,
   "metadata": {},
   "outputs": [],
   "source": [
    "We measure the effects that a change in the Frish-elasticity (eps) has on labor supply and subsequently in the tax revenue.\n",
    "In particular, we expect an increase in the total tax revenue as the elasticity decreases (as we can notice from the labor supply formula). The total tax revenue is approximately 3190."
   ]
  },
  {
   "cell_type": "code",
   "execution_count": null,
   "metadata": {},
   "outputs": [],
   "source": [
    "eps = 0.1\n",
    "N = 10000\n",
    "np.random.seed(2000)\n",
    "wi_values = np.random.uniform(w_min,w_max,N)\n",
    "li_values = np.empty(N)\n",
    "c_values = np.empty(N)\n",
    "for i,w in enumerate(wi_values):\n",
    "    bundle = opt_problem(m, w, eps, v, teta_0, teta_1, kappa)\n",
    "    li_values[i]= bundle [0]\n",
    "\n",
    "tax_revenue = lambda li_values, wi_values: teta_0*wi_values*li_values + teta_1 *np.fmax(wi_values*li_values-kappa,0)\n",
    "tax = tax_revenue(li_values,wi_values) #individual tax revenues\n",
    "print(tax)\n",
    "tot_tax = np.sum(tax)\n",
    "print(tot_tax) # total tax revenue"
   ]
  },
  {
   "cell_type": "markdown",
   "execution_count": null,
   "metadata": {},
   "outputs": [],
   "source": [
    "# Question 5"
   ]
  },
  {
   "cell_type": "markdown",
   "execution_count": null,
   "metadata": {},
   "outputs": [],
   "source": [
    "To answer this question, we should maximize the tax revenue with the purpose of finding the optimal teta_0,teta_1, and kappa. Function tax_rev returns the negative of the total tax revenue function defined in question 4 as the function \"optimize\" works for minimization problems."
   ]
  },
  {
   "cell_type": "code",
   "execution_count": null,
   "metadata": {},
   "outputs": [],
   "source": [
    "def tax_rev(pol, li_values, wi_values):\n",
    "    teta_0 = pol[0]\n",
    "    teta_1 = pol[1]\n",
    "    kappa = pol[2]\n",
    "    return - np.sum(tax(teta_0, teta_1, kappa, li_values, wi_values))\n",
    "\n",
    "# Bounds for teta_0, teta_1 and kappa\n",
    "bounds = ((0,1),(0,1),(0,1)) #It doesn't have sense to have a tax or cut-off lower than 0 or higher than 1.\n",
    "\n",
    "# Initial guesses for teta_0, teta_1 and kappa taken from question 1\n",
    "init_values = [(0.4),(0.1),(0.4)]\n",
    "\n",
    "# Calculate the optimal teta_0, teta_1 and kappa\n",
    "solution = optimize.minimize(tax_rev, init_values, args=(i), method='SLSQP', bounds = bounds)\n",
    "\n",
    "teta_0 = solution.pol[0]\n",
    "teta_1 = solution.pol[1]\n",
    "kappa = solution.pol[2]\n",
    "\n",
    "\n",
    "print(f'Optimal standard labour income is {teta_0:.3f}')\n",
    "print(f'Optimal top bracket labour income tax is {teta_1:.3f}')\n",
    "print(f'Optimal cut-off (kappa) is {kappa:.3f}')\n",
    "print(f'Expected revenue obtained = {kappa:.3f}')"
   ]
  },
  {
   "cell_type": "markdown",
   "execution_count": null,
   "metadata": {},
   "outputs": [],
   "source": [
    "# Conclusion"
   ]
  },
  {
   "cell_type": "markdown",
   "execution_count": null,
   "metadata": {},
   "outputs": [],
   "source": [
    "Beside the strange result in question 1, we have problems in coding the tax_rev function in question 5."
   ]
  }
 ],
 "metadata": {
  "kernelspec": {
   "display_name": "Python 3",
   "language": "python",
   "name": "python3"
  },
  "language_info": {
   "codemirror_mode": {
    "name": "ipython",
    "version": 3
   },
   "file_extension": ".py",
   "mimetype": "text/x-python",
   "name": "python",
   "nbconvert_exporter": "python",
   "pygments_lexer": "ipython3",
   "version": "3.7.4-final"
  },
  "toc-autonumbering": true
 },
 "nbformat": 4,
 "nbformat_minor": 4
}