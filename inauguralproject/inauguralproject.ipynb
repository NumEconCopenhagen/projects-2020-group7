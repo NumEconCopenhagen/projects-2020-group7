{
 "cells": [
  {
   "cell_type": "markdown",
   "metadata": {},
   "source": [
    "# Inaugural Project"
   ]
  },
  {
   "cell_type": "markdown",
   "metadata": {},
   "source": [
    "> **Note the following:** \n",
    "> 1. This is an example of how to structure your **inaugural project**.\n",
    "> 1. Remember the general advice on structuring and commenting your code from [lecture 5](https://numeconcopenhagen.netlify.com/lectures/Workflow_and_debugging).\n",
    "> 1. Remember this [guide](https://www.markdownguide.org/basic-syntax/) on markdown and (a bit of) latex.\n",
    "> 1. Turn on automatic numbering by clicking on the small icon on top of the table of contents in the left sidebar.\n",
    "> 1. The `inauguralproject.py` file includes a function which can be used multiple times in this notebook."
   ]
  },
  {
   "cell_type": "markdown",
   "metadata": {},
   "source": [
    "Imports and set magics:"
   ]
  },
  {
   "cell_type": "code",
   "execution_count": 1,
   "metadata": {},
   "outputs": [],
   "source": [
    "import numpy as np\n",
    "\n",
    "# autoreload modules when code is run\n",
    "%load_ext autoreload\n",
    "%autoreload 2\n",
    "\n",
    "# local modules\n",
    "import inauguralproject"
   ]
  },
  {
   "cell_type": "markdown",
   "metadata": {
    "toc-hr-collapsed": true
   },
   "source": [
    "# Question 1"
   ]
  },
  {
   "cell_type": "markdown",
   "metadata": {},
   "source": [
    "BRIEFLY EXPLAIN HOW YOU SOLVE THE MODEL."
   ]
  },
  {
   "cell_type": "code",
   "execution_count": 3,
   "metadata": {},
   "outputs": [],
   "source": [
    "from scipy import optimize\n",
    "# A. Define variables value\n",
    "m = 1 #cash-on-hand\n",
    "v = 10 #scale the disutility of labour\n",
    "eps = 0.3 #Frish-elasticity\n",
    "teta_0 = 0.4 #standard labour income tax\n",
    "teta_1 = 0.1 #top bracket labour income tax\n",
    "kappa = 0.4 #cut-off for the top labour income bracket\n",
    "w = 1 #rate-wage\n",
    "# b. define utility\n",
    "def lab_sup(c,v,l,eps):\n",
    "    return np.log(c) - v*(l**(1+1/eps))/(1+1/eps)\n",
    "\n",
    "# c. define constraint\n",
    "def cash_constr(m, teta_0, teta_1, w, l, kappa):\n",
    "    return m + w*l - (teta_0*w*l + teta_1*max(w*l, 0))\n",
    "\n",
    "# d. define objective function\n",
    "def optimal_choice(m, l, w, eps, teta_0, teta_1, kappa, v):\n",
    "    c = cash_constr(m, teta_0, teta_1, w, l, kappa)\n",
    "    return - lab_sup(c,v,l,eps)\n",
    "# e. call optimizer and calculate optimum\n",
    "def opt_problem(m, w, eps, v, teta_0, teta_1, kappa):\n",
    "    res = optimize.minimize_scalar(optimal_choice, method='bounded',bounds=(0,1),\n",
    "    args=(w, eps, teta_0, teta_1, kappa, v, m))    \n",
    "#extract and calculate optima for l,x,u\n",
    "    optimal_l = res.x\n",
    "    optimal_c = cash_constr(m, teta_0, teta_1, w, l = optimal_l, kappa = kappa)\n",
    "    optimal_ut = lab_sup( c = optimal_c, v = v, l = optimal_l, eps = eps)\n",
    "    return optimal_l, optimal_c, optimal_ut\n",
    "\n",
    "#da"
   ]
  },
  {
   "cell_type": "markdown",
   "metadata": {},
   "source": [
    "# Question 2"
   ]
  },
  {
   "cell_type": "markdown",
   "metadata": {},
   "source": [
    "ADD ANSWER."
   ]
  },
  {
   "cell_type": "code",
   "execution_count": 3,
   "metadata": {},
   "outputs": [],
   "source": [
    "# code"
   ]
  },
  {
   "cell_type": "markdown",
   "metadata": {},
   "source": [
    "# Question 3"
   ]
  },
  {
   "cell_type": "markdown",
   "metadata": {},
   "source": [
    "ADD ANSWER."
   ]
  },
  {
   "cell_type": "code",
   "execution_count": 4,
   "metadata": {},
   "outputs": [],
   "source": [
    "# code"
   ]
  },
  {
   "cell_type": "markdown",
   "metadata": {},
   "source": [
    "# Question 4"
   ]
  },
  {
   "cell_type": "markdown",
   "metadata": {},
   "source": [
    "ADD ANSWER."
   ]
  },
  {
   "cell_type": "code",
   "execution_count": 5,
   "metadata": {},
   "outputs": [],
   "source": [
    "# code"
   ]
  },
  {
   "cell_type": "markdown",
   "metadata": {},
   "source": [
    "# Question 5"
   ]
  },
  {
   "cell_type": "markdown",
   "metadata": {},
   "source": [
    "ADD ANSWER."
   ]
  },
  {
   "cell_type": "code",
   "execution_count": 6,
   "metadata": {},
   "outputs": [],
   "source": [
    "# code"
   ]
  },
  {
   "cell_type": "markdown",
   "metadata": {},
   "source": [
    "# Conclusion"
   ]
  },
  {
   "cell_type": "markdown",
   "metadata": {},
   "source": [
    "ADD CONCISE CONLUSION."
   ]
  }
 ],
 "metadata": {
  "kernelspec": {
   "display_name": "Python 3",
   "language": "python",
   "name": "python3"
  },
  "language_info": {
   "codemirror_mode": {
    "name": "ipython",
    "version": 3
   },
   "file_extension": ".py",
   "mimetype": "text/x-python",
   "name": "python",
   "nbconvert_exporter": "python",
   "pygments_lexer": "ipython3",
   "version": "3.7.4-final"
  },
  "toc-autonumbering": true
 },
 "nbformat": 4,
 "nbformat_minor": 4
}