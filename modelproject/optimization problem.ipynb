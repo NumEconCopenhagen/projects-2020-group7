{
 "cells": [
  {
   "cell_type": "code",
   "execution_count": 1,
   "metadata": {},
   "outputs": [],
   "source": [
    "import numpy as np\n",
    "import scipy as sp\n",
    "import math\n",
    "from scipy import optimize\n",
    "import sympy as sm\n",
    "from scipy import linalg\n",
    "from sympy import Derivative\n",
    "from scipy import interpolate\n",
    "import scipy.integrate as quad\n",
    "from scipy.integrate import odeint\n",
    "import scipy.special as special\n",
    "from scipy.integrate import quad\n",
    "from sympy import symbol,function\n",
    "import ipywidgets as widgets\n",
    "\n",
    "#autoreload model when code is run\n",
    "%load_ext autoreload\n",
    "%autoreload 2\n",
    "\n",
    "%matplotlib inline\n",
    "import matplotlib.pyplot as plt\n",
    "plt.style.use('seaborn-whitegrid')\n",
    "from matplotlib import cm\n",
    "import matplotlib as mpl\n",
    "from mpl_toolkits.mplot3d import Axes3D"
   ]
  },
  {
   "cell_type": "markdown",
   "metadata": {},
   "source": [
    "## Consumer optimization problem"
   ]
  },
  {
   "cell_type": "markdown",
   "metadata": {},
   "source": [
    "Before moving to the Ak model adding the firm player to our model, we focus on consumers and their optimization problem. The standard Ak model assumes that the individual show a CRRA utility function with respect to consumption of the type:  \n",
    "\n",
    "$$u(c)=\\frac{c^{1-\\theta}-1}{1-\\theta}$$  \n",
    "\n",
    "where $\\theta$ is a measure or relative risk aversion\n",
    "This type of preferences is really useful in the case $\\theta=1$ because in that occasion the CRRA utility becomes a logarithmic utility function.  \n",
    "Lets create a simple utility maximization problem with two periods to see how the above preferences impact the consumer behavior. We take into consideration two periods, $t=0$ and $t=1$.   \n",
    "Our representative consumer maximizes consumption in the present $c_0$ and in the future $c_1$ taking into consideration his labour income will be $w_0$ today and $w_1$ tomorrow. So, our utility maximization problem become:  \n",
    "\n",
    "$$max U(c_0,c_1) = u(c_0)+e^{-rho}u(c_1)$$  \n",
    "\n",
    "under the constraint:  \n",
    "\n",
    "$$c_0+\\frac{1}{1+r}{c_1} = w_0 +\\frac{1}{1+r}{w_1}$$ \n",
    "where r is the interest rate.\n",
    "\n",
    "Now, before solving the problem, we have to give some initial values:\n"
   ]
  },
  {
   "cell_type": "code",
   "execution_count": null,
   "metadata": {},
   "outputs": [],
   "source": []
  },
  {
   "cell_type": "markdown",
   "metadata": {},
   "source": [
    "We set the lagrangian:  \n",
    "\n",
    "$$L=\\max_{c_{0},c_{2}}\\bigg(\\frac{c_{0}^{1 - \\theta} - 1}{1 - \\theta}\\bigg) + e^{-\\rho}\\bigg(\\frac{c_{1}^{1 - \\theta} - 1}{1 - \\theta}\\bigg) + \\lambda\\bigg(w_{0} + \\frac{1}{1 + r}w_{1} - c_{0} - \\frac{1}{1 + r}c_{1}\\bigg)$$  \n",
    "\n",
    "Focs are:\n",
    "$$c_{0}^{-\\theta} = \\lambda$$\n",
    "$$e^{-\\rho}c_{1}^{-\\theta}=\\frac{1}{1 + r}\\lambda$$  \n",
    "\n",
    "The above can reduce to:\n",
    "$$c_{0}^{-\\theta} = e^{-\\rho}(1 + r)c_{1}^{-\\theta}$$  \n",
    "\n",
    "We can now start writing our code:"
   ]
  },
  {
   "cell_type": "code",
   "execution_count": 2,
   "metadata": {},
   "outputs": [],
   "source": [
    "#a. Defining initial parameters\n",
    "theta = 0.5\n",
    "w_t= 12      #present labour income\n",
    "w_t1 = 5     #future labour income\n",
    "rho = 0.9\n",
    "r = 0.5\n",
    "\n",
    "#a. Defining utility function\n",
    "def utility(ct):\n",
    "    return (ct**(1-theta)-1)/(1-theta)"
   ]
  },
  {
   "cell_type": "code",
   "execution_count": 3,
   "metadata": {},
   "outputs": [],
   "source": [
    "#b. Defining utility function for two periods\n",
    "def inter_util(c_t, c_t1):\n",
    "    return utility(c_t)+np.exp(-rho)*utility(c_t1)\n",
    "\n",
    "#c. Defining constraint\n",
    "def constraint(c_t,c_t1):\n",
    "    return w_t+(1/(1+r))*w_t1-c_t-(1/(1+r))*c_t1\n"
   ]
  },
  {
   "cell_type": "code",
   "execution_count": 4,
   "metadata": {},
   "outputs": [
    {
     "name": "stdout",
     "output_type": "stream",
     "text": [
      "The optimal consumption at the present is: 12.29\n",
      "The optimal consumption tomorrow is: 4.57\n",
      "Utility from optimal bundle is: 5.94\n"
     ]
    }
   ],
   "source": [
    "#d. Defining Euler equation\n",
    "def euler(c_t,c_t1):\n",
    "    return c_t**(-theta)-np.exp(-rho)*(1+r)*(c_t1)**(-theta)\n",
    "\n",
    "#e. Creating optimization function\n",
    "def optimalchoice(x):\n",
    "    op = [euler(x[0], x[1])]\n",
    "    op.append(constraint(x[0],x[1]))\n",
    "    return op\n",
    " \n",
    "#f. Applying fsolve function\n",
    "ct_guess, ct1_guess = 0.5, 0.5\n",
    "ct_star, ct1_star = optimize.fsolve(optimalchoice, x0=(ct_guess, ct1_guess))\n",
    "utility_star = inter_util(ct_star, ct1_star)\n",
    " \n",
    "#g. Printing results\n",
    "print(f'The optimal consumption at the present is: {ct_star:.2f}')\n",
    "print(f'The optimal consumption tomorrow is: {ct1_star:.2f}')\n",
    "print(f'Utility from optimal bundle is: {utility_star:.2f}')"
   ]
  },
  {
   "cell_type": "markdown",
   "metadata": {},
   "source": [
    "We now construct an interactive plot to study the behaviour of our consumer preferences for different values of main variables."
   ]
  },
  {
   "cell_type": "code",
   "execution_count": 5,
   "metadata": {},
   "outputs": [],
   "source": [
    "def plot_max_problem(w_t, w_t1, theta, rho, r):\n",
    "\n",
    "    fig1 = plt.figure(figsize=(10,10))\n",
    "    ax = fig1.add_subplot(1,1,1)\n",
    "\n",
    "    #grid of (x,y) values which we will pass to function\n",
    "    x1vec = np.arange(0, 10, 40)\n",
    "    x2vec = np.arange(0, 10, 40)\n",
    "    ct, ct1 = np.meshgrid(x1vec, x2vec)\n",
    "    uti = inter_util(x1vec, x2vec)\n",
    " \n",
    "    cr=ct_star\n",
    "    cr1= ct1_star\n",
    "    \n",
    "    # plot the budget constraint\n",
    "    cons_today = np.linspace(0, 10, 40)\n",
    "    ax.plot(cons_today, (1 + r) * (w_t - cons_today) + w_t1, \n",
    "           color='k')\n",
    "\n",
    "    # demarcate the indifference curve\n",
    "    CS = ax.plot(ct, ct1, uti, np.array([utility_star]), color='k', linewidth=1, linestyle='solid')\n",
    "   \n",
    "    # mark the optimal bundle\n",
    "    ax.hlines(cr, 0, cr1, linestyle='dashed')\n",
    "    ax.vlines(cr1, 0, cr, linestyle='dashed')\n",
    "\n",
    "    # axes, labels, title, colorbar \n",
    "    ax.set_xlim(0, 15)\n",
    "    ax.set_ylim(0, 15)\n",
    "    ax.set_xlabel(r'Present Consumption, $C_{t}$', fontsize=12)\n",
    "    ax.set_ylabel(r'Future Consumption, $C_{t+1}$', fontsize=12)\n",
    "    ax.set_title(r'Optimal bundle for CRRA utility', fontsize=20, pad=15)\n",
    "    plt.show()\n",
    "\n",
    "def plot_time():\n",
    "    widgets.interact(plot_max_problem,\n",
    "    w_t= widgets.IntSlider(\n",
    "           description='$w_{t}$',\n",
    "           min=0,\n",
    "           max=10,\n",
    "           step=1,\n",
    "           value=5,\n",
    "           continuous_update=False,\n",
    "    ),\n",
    "    \n",
    "    w_t1 = widgets.IntSlider(\n",
    "            description=\"$w_{t+1}$\",\n",
    "            min=0,\n",
    "            max=10,\n",
    "            step=1,\n",
    "            value=5,\n",
    "            continuous_update=False,\n",
    "    ),\n",
    "    theta = widgets.FloatSlider(\n",
    "            description=\"$\\\\theta$\",\n",
    "            min=0.5,\n",
    "            max=0.9,\n",
    "            step=0.02,\n",
    "            value=0.5,\n",
    "            continuous_update=False,\n",
    "    ),\n",
    "    rho = widgets.FloatSlider(\n",
    "            description=\"$\\\\rho$\",\n",
    "            min=0.9,\n",
    "            max=0.99,\n",
    "            step=0.01,\n",
    "            value=0.9,\n",
    "            continuous_update=False,\n",
    "    ),\n",
    "    r = widgets.FloatSlider(\n",
    "            description=\"$r$\",\n",
    "            min=0.01,\n",
    "            max=0.1,\n",
    "            step=0.005,\n",
    "            value=0.03,\n",
    "            continuous_update=False,\n",
    "    ),\n",
    ");\n",
    "    "
   ]
  },
  {
   "cell_type": "code",
   "execution_count": 6,
   "metadata": {},
   "outputs": [
    {
     "data": {
      "application/vnd.jupyter.widget-view+json": {
       "model_id": "46b3fb7a772842e8a5b58cf0022804a8",
       "version_major": 2,
       "version_minor": 0
      },
      "text/plain": [
       "interactive(children=(IntSlider(value=5, continuous_update=False, description='$w_{t}$', max=10), IntSlider(va…"
      ]
     },
     "metadata": {},
     "output_type": "display_data"
    }
   ],
   "source": [
    "plot_time()"
   ]
  },
  {
   "cell_type": "code",
   "execution_count": null,
   "metadata": {},
   "outputs": [],
   "source": []
  }
 ],
 "metadata": {
  "kernelspec": {
   "display_name": "Python 3",
   "language": "python",
   "name": "python3"
  },
  "language_info": {
   "codemirror_mode": {
    "name": "ipython",
    "version": 3
   },
   "file_extension": ".py",
   "mimetype": "text/x-python",
   "name": "python",
   "nbconvert_exporter": "python",
   "pygments_lexer": "ipython3",
   "version": "3.7.4"
  }
 },
 "nbformat": 4,
 "nbformat_minor": 2
}
