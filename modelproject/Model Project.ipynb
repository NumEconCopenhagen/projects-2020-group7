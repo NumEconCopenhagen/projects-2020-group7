{
 "cells": [
  {
   "cell_type": "markdown",
   "metadata": {},
   "source": [
    "# MODEL PROJECT"
   ]
  },
  {
   "cell_type": "markdown",
   "metadata": {},
   "source": [
    "## 1. Introduction"
   ]
  },
  {
   "cell_type": "markdown",
   "metadata": {},
   "source": [
    "We start in *section.3* with a classical intertemporal optimization problem in two periods. Our representative household exhibits a CRRA utility function and we want to detect the optimal bundle given underlying variables. In *section.4*, instead, we focus on the optimizing behaviour of our representative firm. Its production function satisfies the Inada condition and  exhibits positive but diminishing marginal products. We come up with the optimal conditions to satisfy profit maximization.   \n",
    "In *section.5*, we add complexity to the model making our representative consumer and firm interact under the features of the classical Ramsey model. Here, we rely on the book *Robert J.Barro and Xavier Sala-i-Martin, Economic Growth* for the main results. We come up with the phase diagram for different consumption and capital paths trying to detect the unique saddle path and steady state for the particular variables we give to the problem. "
   ]
  },
  {
   "cell_type": "markdown",
   "metadata": {},
   "source": [
    "## 2. Import packages"
   ]
  },
  {
   "cell_type": "code",
   "execution_count": 2,
   "metadata": {},
   "outputs": [],
   "source": [
    "import numpy as np\n",
    "import scipy as sp\n",
    "import math\n",
    "from scipy import optimize\n",
    "import sympy as sm\n",
    "from scipy import linalg\n",
    "from sympy import Derivative\n",
    "from scipy import interpolate\n",
    "import scipy.integrate as quad\n",
    "from scipy.integrate import odeint\n",
    "import scipy.special as special\n",
    "from scipy.integrate import quad\n",
    "from sympy import symbol,function\n",
    "import ipywidgets as widgets\n",
    "from IPython.display import display\n",
    "\n",
    "#autoreload model when code is run\n",
    "%load_ext autoreload\n",
    "%autoreload 2\n",
    "\n",
    "%matplotlib inline\n",
    "import matplotlib.pyplot as plt\n",
    "plt.style.use('seaborn-whitegrid')\n",
    "from matplotlib import cm\n",
    "import matplotlib as mpl\n",
    "from mpl_toolkits.mplot3d import Axes3D"
   ]
  },
  {
   "cell_type": "markdown",
   "metadata": {},
   "source": [
    "## 3. Consumer optimization problem"
   ]
  },
  {
   "cell_type": "markdown",
   "metadata": {},
   "source": [
    "Before moving to the Ramsey model, we focus on our representative consumer and his optimization problem. The standard Ramsey model assumes that the household exhibits a CRRA utility function with respect to consumption of the type:  \n",
    "\n",
    "$$u(c)=\\frac{c^{1-\\theta}-1}{1-\\theta}$$  \n",
    "\n",
    "where $\\theta$ is a measure or relative risk aversion.\n",
    "This type of preferences is really useful when $\\theta=1$ because in this case the CRRA utility becomes a logarithmic utility. \n",
    "We create a simple utility maximization problem with two periods to detect how these preferences impact the consumer optimal behavior. We take into consideration two periods, $t=0$ and $t=1$.   \n",
    "Our representative consumer maximizes consumption in the present $c_0$ and in the future $c_1$ taking into consideration his labour income will be $w_0$ today and $w_1$ tomorrow. So, our utility maximization problem become:  \n",
    "\n",
    "$$max \\hspace{2pt} U(c_0,c_1) = u(c_0)+e^{-\\rho}u(c_1)$$  \n",
    "\n",
    "under the constraint:  \n",
    "\n",
    "$$c_0+\\frac{1}{1+r}{c_1} = w_0 +\\frac{1}{1+r}{w_1}$$  \n",
    "\n",
    "where $\\rho$ is the subjective discount rate and $r$ the interest rate.\n",
    "\n",
    "Now, before solving the problem, we assume some initial values:"
   ]
  },
  {
   "cell_type": "code",
   "execution_count": 3,
   "metadata": {},
   "outputs": [],
   "source": [
    "#a. Defining initial parameters\n",
    "theta = 0.5\n",
    "w_t= 10      #present labour income\n",
    "w_t1 = 10     #future labour income\n",
    "rho = 0.9\n",
    "r = 0.5\n",
    "\n",
    "#a. Defining utility function\n",
    "def utility(ct):\n",
    "    return (ct**(1-theta)-1)/(1-theta)\n",
    "\n",
    "#b. Defining utility function for two periods\n",
    "def inter_util(c_t, c_t1):\n",
    "    return utility(c_t)+np.exp(-rho)*utility(c_t1)\n",
    "\n",
    "#c. Defining constraint\n",
    "def constraint(c_t,c_t1):\n",
    "    return w_t+(1/(1+r))*w_t1-c_t-(1/(1+r))*c_t1\n"
   ]
  },
  {
   "cell_type": "markdown",
   "metadata": {},
   "source": [
    "To solve the maximization problem we firstly set the lagrangian:  \n",
    "\n",
    "$$L=\\max_{c_{0},c_{2}}\\bigg(\\frac{c_{0}^{1 - \\theta} - 1}{1 - \\theta}\\bigg) + e^{-\\rho}\\bigg(\\frac{c_{1}^{1 - \\theta} - 1}{1 - \\theta}\\bigg) + \\lambda\\bigg(w_{0} + \\frac{1}{1 + r}w_{1} - c_{0} - \\frac{1}{1 + r}c_{1}\\bigg)$$  \n",
    "\n",
    "and we compute the first order conditions:  \n",
    "\n",
    "$$c_{0}^{-\\theta} = \\lambda$$\n",
    "$$e^{-\\rho}c_{1}^{-\\theta}=\\frac{1}{1 + r}\\lambda$$  \n",
    "\n",
    "The above reduces to:  \n",
    "\n",
    "$$c_{0}^{-\\theta} = e^{-\\rho}(1 + r)c_{1}^{-\\theta}$$    \n",
    "\n",
    "We transpose the above into code:"
   ]
  },
  {
   "cell_type": "code",
   "execution_count": 4,
   "metadata": {},
   "outputs": [
    {
     "name": "stdout",
     "output_type": "stream",
     "text": [
      "The optimal consumption at the present is: 13.36\n",
      "The optimal consumption tomorrow is: 4.97\n",
      "Utility from optimal bundle is: 6.31\n"
     ]
    }
   ],
   "source": [
    "#d. Defining Euler equation\n",
    "def euler(c_t,c_t1):\n",
    "    return c_t**(-theta)-np.exp(-rho)*(1+r)*(c_t1)**(-theta)\n",
    "\n",
    "#e. Creating optimization function\n",
    "def optimalchoice(x):\n",
    "    op = [euler(x[0], x[1])]\n",
    "    op.append(constraint(x[0],x[1]))\n",
    "    return op\n",
    "        \n",
    "#f. Applying fsolve function\n",
    "ct_guess, ct1_guess = 0.5, 0.5\n",
    "ct_star, ct1_star = optimize.fsolve(optimalchoice, x0=(ct_guess, ct1_guess))\n",
    "utility_star = inter_util(ct_star, ct1_star)\n",
    " \n",
    "#g. Printing results\n",
    "print(f'The optimal consumption at the present is: {ct_star:.2f}')\n",
    "print(f'The optimal consumption tomorrow is: {ct1_star:.2f}')\n",
    "print(f'Utility from optimal bundle is: {utility_star:.2f}')"
   ]
  },
  {
   "cell_type": "markdown",
   "metadata": {},
   "source": [
    "## 4. Firm optimization problem "
   ]
  },
  {
   "cell_type": "markdown",
   "metadata": {},
   "source": [
    "In the Ramsey model the representative firm has a production function that satisfies the neoclassical properties of constant return to scale in $K$ (capital) and $L$ (Labour) and each input exhibits positive but diminishing marginal product. \n",
    "The firm wants to maximize its profit:\n",
    "\n",
    "$$\\pi = F(K,L) - wL - (r+\\delta)K$$\n",
    "\n",
    "where $F(K,L)$ is the production function, $w$ is the wage rate, $r$ is the interest rate and $0 \\leq \\delta \\leq 1$ the discount rate.  \n",
    "In the Ramsey model, to obtain constant growth in the steady-state, we have to deal with quantities per unit of effective labor and so we will do assuming that the technology will be $T=1$. The production function will be rewritten in intensive form:  \n",
    "\n",
    "$$\\hat{y}=f(\\hat{k})$$  \n",
    "\n",
    "where $\\hat{y}=\\frac{Y}{LT}$ and $\\hat{k}=\\frac{K}{LT}$. The Profit function becomes:\n",
    "\n",
    "$$\\pi= f(\\hat{k}) - w - (r+\\delta)\\hat{k}$$  \n",
    "\n",
    "Specifically, we are going to assume the following production function:  \n",
    "\n",
    "$$\\hat{y}=f(\\hat{k})=\\hat{k}^{\\alpha}$$  \n",
    "\n",
    "where $0 \\leq \\alpha \\leq 1$ is the capital share of output and $\\hat{k}$ is capital per effective labour. \n",
    "From now on, for simplicity, we assume that technology will increase at the rate $x=0$.\n",
    "We are going to check that the marginal product of capital is diminishing ($f''(\\hat{k})< 0$), that the Inada conditions are satisfied and only afterwards we will calculate the profit maximization conditions."
   ]
  },
  {
   "cell_type": "code",
   "execution_count": 7,
   "metadata": {},
   "outputs": [],
   "source": [
    "#a. Creating parameters\n",
    "sm.init_printing(use_unicode=True) # for pretty printing        \n",
    "alpha = sm.symbols('alpha')        # capital share\n",
    "k = sm.symbols('k')                # capital per effective worker               \n",
    "w = sm.symbols('w')                # wage\n",
    "K = sm.symbols('K')                # capital\n",
    "L = sm.symbols('L')                # labour\n",
    "T = sm.symbols('T')                # technology\n",
    "delta = sm.symbols('delta')        # capital depreciation rate\n",
    "r = sm.symbols('r')                # interest rate"
   ]
  },
  {
   "cell_type": "code",
   "execution_count": 10,
   "metadata": {},
   "outputs": [
    {
     "name": "stdout",
     "output_type": "stream",
     "text": [
      "The production function is:\n"
     ]
    },
    {
     "data": {
      "image/png": "[encoded data removed]",
      "text/latex": [
       "$\\displaystyle k^{\\alpha}$"
      ],
      "text/plain": [
       " α\n",
       "k "
      ]
     },
     "metadata": {},
     "output_type": "display_data"
    },
    {
     "name": "stdout",
     "output_type": "stream",
     "text": [
      "The profit function is:\n"
     ]
    },
    {
     "data": {
      "image/png": "[encoded data removed]",
      "text/latex": [
       "$\\displaystyle - k \\left(\\delta + r\\right) + k^{\\alpha} - w$"
      ],
      "text/plain": [
       "              α    \n",
       "-k⋅(δ + r) + k  - w"
      ]
     },
     "metadata": {},
     "output_type": "display_data"
    },
    {
     "name": "stdout",
     "output_type": "stream",
     "text": [
      "The first derivative with respect to k is:\n"
     ]
    },
    {
     "data": {
      "image/png": "[encoded data removed]",
      "text/latex": [
       "$\\displaystyle \\frac{\\alpha k^{\\alpha}}{k}$"
      ],
      "text/plain": [
       "   α\n",
       "α⋅k \n",
       "────\n",
       " k  "
      ]
     },
     "metadata": {},
     "output_type": "display_data"
    },
    {
     "name": "stdout",
     "output_type": "stream",
     "text": [
      "The second derivative with respect to k is:\n"
     ]
    },
    {
     "data": {
      "image/png": "[encoded data removed]",
      "text/latex": [
       "$\\displaystyle \\frac{\\alpha k^{\\alpha} \\left(\\alpha - 1\\right)}{k^{2}}$"
      ],
      "text/plain": [
       "   α        \n",
       "α⋅k ⋅(α - 1)\n",
       "────────────\n",
       "      2     \n",
       "     k      "
      ]
     },
     "metadata": {},
     "output_type": "display_data"
    },
    {
     "name": "stdout",
     "output_type": "stream",
     "text": [
      "First Inada condition is:\n"
     ]
    },
    {
     "data": {
      "image/png": "[encoded data removed]",
      "text/latex": [
       "$\\displaystyle \\lim_{k \\to 0^+}\\left(\\frac{\\alpha k^{\\alpha}}{k}\\right)$"
      ],
      "text/plain": [
       "     ⎛   α⎞\n",
       "     ⎜α⋅k ⎟\n",
       " lim ⎜────⎟\n",
       "k─→0⁺⎝ k  ⎠"
      ]
     },
     "metadata": {},
     "output_type": "display_data"
    },
    {
     "name": "stdout",
     "output_type": "stream",
     "text": [
      "Second Inada condition is:\n"
     ]
    },
    {
     "data": {
      "image/png": "[encoded data removed]",
      "text/latex": [
       "$\\displaystyle \\lim_{k \\to \\infty}\\left(\\frac{\\alpha k^{\\alpha}}{k}\\right)$"
      ],
      "text/plain": [
       "    ⎛   α⎞\n",
       "    ⎜α⋅k ⎟\n",
       "lim ⎜────⎟\n",
       "k─→∞⎝ k  ⎠"
      ]
     },
     "metadata": {},
     "output_type": "display_data"
    }
   ],
   "source": [
    "#b. Defining production function\n",
    "prod = k**alpha\n",
    "print(f'The production function is:')\n",
    "display(prod)\n",
    "\n",
    "#c. Defining profit function\n",
    "profit = prod - (r+delta)*k - w\n",
    "print(f'The profit function is:')\n",
    "display(profit)\n",
    "\n",
    "#d. Calculating first and second derivatives with respect to k\n",
    "print(f'The first derivative with respect to k is:')\n",
    "sol = sm.diff(prod,k)\n",
    "display(sol)\n",
    "print(f'The second derivative with respect to k is:')\n",
    "sol1 = sm.diff(prod,k, k)\n",
    "display(sol1)\n",
    "\n",
    "#e. Check Inada conditions\n",
    "print(f'First Inada condition is:')\n",
    "inada1 = sm.Limit(sol,k,0)\n",
    "display(inada1)\n",
    "print(f'Second Inada condition is:')\n",
    "inada2 = sm.Limit(sol,k, sm.oo)\n",
    "display(inada2)\n"
   ]
  },
  {
   "cell_type": "markdown",
   "metadata": {},
   "source": [
    "Clearly, the first derivative is positive and the second derivative is negative confirming decreasing marginal product of capital per effective labour. Even if it is already clear that the Inada conditions are satisfied, we are going to plot the production function for different values of alpha to check that it is concave."
   ]
  },
  {
   "cell_type": "code",
   "execution_count": 44,
   "metadata": {},
   "outputs": [
    {
     "data": {
      "image/png": "[encoded data removed]",
      "text/plain": [
       "<Figure size 648x432 with 1 Axes>"
      ]
     },
     "metadata": {
      "needs_background": "light"
     },
     "output_type": "display_data"
    }
   ],
   "source": [
    "#f. Setting different parameters vaues\n",
    "kvec = np.linspace(0,10,100)\n",
    "alpha = 0.3\n",
    "alpha1 = 0.5\n",
    "alpha2 = 0.7\n",
    "y = kvec**alpha\n",
    "y1 = kvec**alpha1\n",
    "y2 = kvec**alpha2\n",
    "\n",
    "#g. Plotting the functions\n",
    "prod_im = plt.figure(figsize = (9,6))\n",
    "ax = prod_im.add_subplot(1, 1, 1)\n",
    "ax.plot(kvec,y, 'red')\n",
    "ax.plot(kvec,y1, 'blue')\n",
    "ax.plot(kvec,y2, 'green')\n",
    "ax.set_title('Production Function For Different Alpha Values', fontsize=15, pad=10)\n",
    "ax.set_ylabel('$\\hat{y}$', fontsize=12)\n",
    "ax.set_xlabel('$\\hat{k}$', fontsize=12)\n",
    "ax.set_xlim(0,10)\n",
    "ax.set_ylim(0,5)\n",
    "\n",
    "plt.show()"
   ]
  },
  {
   "cell_type": "markdown",
   "metadata": {},
   "source": [
    "So our production function is confirmed to be concave. Moreover, we can notice that higher levels of alpha lead to higher outcome per capita. We now move to the profit maximizing conditions."
   ]
  },
  {
   "cell_type": "code",
   "execution_count": 25,
   "metadata": {},
   "outputs": [
    {
     "name": "stdout",
     "output_type": "stream",
     "text": [
      "Optimazing the profit with respect to k, we obtain:\n"
     ]
    },
    {
     "data": {
      "image/png": "[encoded data removed]",
      "text/latex": [
       "$\\displaystyle \\frac{\\alpha k^{\\alpha}}{k} - \\delta - r = 0$"
      ],
      "text/plain": [
       "   α            \n",
       "α⋅k             \n",
       "──── - δ - r = 0\n",
       " k              "
      ]
     },
     "metadata": {},
     "output_type": "display_data"
    },
    {
     "name": "stdout",
     "output_type": "stream",
     "text": [
      "And the optimal k is:\n"
     ]
    },
    {
     "data": {
      "image/png": "[encoded data removed]",
      "text/latex": [
       "$\\displaystyle \\left[ \\left(\\frac{\\delta + r}{\\alpha}\\right)^{\\frac{1}{\\alpha - 1}}\\right]$"
      ],
      "text/plain": [
       "⎡         1  ⎤\n",
       "⎢       ─────⎥\n",
       "⎢       α - 1⎥\n",
       "⎢⎛δ + r⎞     ⎥\n",
       "⎢⎜─────⎟     ⎥\n",
       "⎣⎝  α  ⎠     ⎦"
      ]
     },
     "metadata": {},
     "output_type": "display_data"
    }
   ],
   "source": [
    "#h. Profit maximization with respect to capital per effective worker\n",
    "print(f'Optimazing the profit with respect to k, we obtain:')\n",
    "profitk = sm.Eq(sm.diff(profit,k))\n",
    "display(profitk)\n",
    "print(f'And the optimal k is:')\n",
    "profitk1 = sm.solve(profitk,k)\n",
    "display(profitk1)\n",
    "\n"
   ]
  },
  {
   "cell_type": "markdown",
   "metadata": {},
   "source": [
    "## 5. Ramsey Model"
   ]
  },
  {
   "cell_type": "markdown",
   "metadata": {},
   "source": [
    "We make now our representative consumer and firm interacting with each other under the classical framework of the Ramsey model. Our optimizing household of *section.2* mantains the same CRRA utility function with respect to consumption. The new element is that he maximizes over an infinite horizon taking into account the welfare and resources of his prospective descendants. He expects the size of his future family to grow at the rate $n$, given as exogenous and constant. We normalize the size of the family at time $t= \\small{0}$ to 1, so that at the generic time $t$, the size of the family will be $L(t)=e^{nt}$. The utility maximization problem become:\n",
    " \n",
    "$$U= \\int_{0}^{\\infty} e^{-(\\rho-n)t}\\left[\\frac{c^{1-\\theta}-1}{1-\\theta}\\right]dt$$"
   ]
  },
  {
   "cell_type": "markdown",
   "metadata": {},
   "source": [
    "The household holds assets ($a(t)$) which pay rate of return $r(t)$ and supplies inelastically one unit of labor services for the wage rate $w(t)$. We assume a closed economy so that no assets can be traded internationally and we assume a competitive market so that the interest rate, r $r(t)$, and the wage rate $w(t)$ are given.                              \n",
    "The total income received by the aggregate is the sum of labor income, $w(t)·L(t)$, and asset income, $r (t)·(Assets)$ and the income that it is not consumed, it is used to accumulate more assets:  \n",
    "\n",
    "$$\\frac{d(Assets)}{dt} = r(Assets)+wL-C$$  \n",
    "\n",
    "In per-capita terms, the household budget constraint becomes:  \n",
    "\n",
    "$$\\dot{\\alpha} = (r-n)\\alpha+w-c$$"
   ]
  },
  {
   "cell_type": "markdown",
   "metadata": {},
   "source": [
    "We assume that the credit market imposes a constraint on the amount of borrowing to rule out chain-letter possibilities. The appropriate restriction turns out to be that the present value\n",
    "of assets must be asymptotically non-negative:  \n",
    "\n",
    "$$\\lim_{t \\to \\infty} \\bigg\\{ \\alpha(t)*exp\\left[-\\int_{0}^{t}[r(v)-n]dv \\right] \\bigg\\} = 0$$"
   ]
  },
  {
   "cell_type": "markdown",
   "metadata": {},
   "source": [
    "Our representative firm maintains the same characteristics depicted in *Section.4*. As before, initial technology is normalized to 1  and for simplicity we assume that it grows at rate $x=0$.   \n",
    "One unit of output can be used to generate one unit of household consumption or one unit of additional capital. Therefore, as long as the economy is not at a corner solution in which all current output goes into consumption or new capital, the price of k in terms of c will be fixed at unity. Because consumption will be nonzero in equilibrium, we have to be concerned only with the possibility that none of the output goes into new capital."
   ]
  },
  {
   "cell_type": "markdown",
   "metadata": {},
   "source": [
    "We briefly derive the fundamental equations of the model (for more analytical derivations have a look in *Barro & Martin, Chapter 2* and relative appendix).  \n",
    "Since the economy is closed, the assets per adult person, $a$, equal the capital per worker, $k$. Given the consumer budget constraint, the optimizing conditions for $r$ and $w$ found in the *Section.4* and $a=k$, we get the resource constraint for the economy which determines the evolution for capital per effective labour:\n",
    "\n",
    "$$\\dot{\\hat{k}} = \\hat{k}^{\\alpha} - \\hat{c} -(x+n+\\delta)\\hat{k} \\hspace{7pt}(1)$$\n",
    "\n",
    "The differential equation that determines the evolution of the consumption per effective labour is instead:\n",
    "\n",
    "$$\\frac{\\hat{c}}{c}-x=\\frac{1}{\\theta} \\big[\\alpha \\hat{k}^{\\alpha-1} -\\delta -\\rho-\\theta x \\big] \\hspace{7pt}(2)$$\n",
    "\n",
    "The transversality condition becomes:  \n",
    "\n",
    "$$\\lim_{t \\to \\infty} \\bigg\\{ \\hat{k}*exp\\left[-\\int_{0}^{t}[\\alpha \\hat{k}^{\\alpha-1} -\\delta - n - x]dv \\right] \\bigg\\} = 0$$"
   ]
  },
  {
   "cell_type": "markdown",
   "metadata": {},
   "source": [
    "The steady state values for c and k are determined by setting the expression (1) and (2) to zero. The $\\dot{k}=0$, locus is determined by:\n",
    "\n",
    "$$\\hat{c}= \\hat{k}^{\\alpha}-(x+n+\\delta)\\hat{k}$$\n",
    "\n",
    "Equation (2) implies that the $\\dot{c}=0$ locus is satisfied when:\n",
    "\n",
    "$$\\alpha \\hat{k}^{\\alpha-1}=\\delta +\\rho+\\theta x$$\n",
    "\n",
    "The determination of the steady state occurs at the intersection of the vertical line for $\\dot{c}=0$ and the solid curve for $\\dot{k}=0$ and the two equations for the steady state quantities are:\n",
    "\n",
    "$$ \\hat{k}^{*}=\\big(\\frac{\\delta+\\rho+ x\\theta}{\\alpha}\\big)^{\\frac{1}{\\alpha-1}}$$\n",
    "\n",
    "$$ \\hat{c}^{*}=(k^{*})^{\\alpha}-(n+\\delta+x)k^{*}$$\n",
    "\n",
    "The steady-state value for the production per effective labour becomes $\\hat{y}^{*}=(\\hat{k}^{*})^{\\alpha}$ and the transversality condition implies that $\\rho>n+(1-\\theta)x$. If $\\rho$ not satisfies this condition, the household's optimization problem is not well posed and infinite utility can be attained if consumption grew at the rate $x$."
   ]
  },
  {
   "cell_type": "markdown",
   "metadata": {},
   "source": [
    "We now start to code the main equation for the model and we find the steady-state values for consumption, capital and production for our given values of $\\theta$, $\\rho$, $n$, $\\delta$, $\\alpha$ and $x$.\n"
   ]
  },
  {
   "cell_type": "code",
   "execution_count": 7,
   "metadata": {},
   "outputs": [
    {
     "name": "stdout",
     "output_type": "stream",
     "text": [
      "Is the transversality condition satisfied?\n",
      "Yes, it is satisfied.\n"
     ]
    }
   ],
   "source": [
    "#a. Parameter values \n",
    "\n",
    "theta = 3.0          # measure of relative risk aversion\n",
    "rho = 0.03           # subjective discount rate\n",
    "n = 0.02           # family growth rate\n",
    "delta = 0.33          # depreciation rate of capital          \n",
    "alpha = 0.35         # capital share rate\n",
    "x= 0                  # technology growth rate\n",
    "\n",
    "#b. Transversality condition must be satisfied\n",
    "print(f'Is the transversality condition satisfied?')\n",
    "def transversality():\n",
    "    if  rho > n + (1 - theta)*x:\n",
    "        print(f'Yes, it is satisfied.')\n",
    "    else:\n",
    "        print(f'No, it is not satisfied.')\n",
    "\n",
    "transversality()"
   ]
  },
  {
   "cell_type": "code",
   "execution_count": 8,
   "metadata": {},
   "outputs": [],
   "source": [
    "#c. Defining production function\n",
    "def prod(k_t):\n",
    "    return k_t**alpha\n",
    "\n",
    "#d. Defining the consumption euler equation obtain from 1\n",
    "def cons_t1(c_t, k_t):\n",
    "    return np.exp(-x) * (np.exp(-rho) * (np.exp(-delta) + alpha * cap_t1(c_t, k_t)**(alpha - 1)))**(1 / theta) * c_t\n",
    "\n",
    "#e. Defining the capital equation obtain from 2\n",
    "def cap_t1(c_t,k_t):\n",
    "    return np.exp(-(n + x)) * (prod(k_t) + np.exp(-delta) * k_t - c_t)\n"
   ]
  },
  {
   "cell_type": "code",
   "execution_count": 9,
   "metadata": {},
   "outputs": [
    {
     "name": "stdout",
     "output_type": "stream",
     "text": [
      "The steady state capital per effective labour is: 0.96\n",
      "The steady state consumption per effective labour is: 0.65\n",
      "The steady state production per effective labour is: 0.98\n"
     ]
    }
   ],
   "source": [
    "#f. Steady state capital\n",
    "def k_star():\n",
    "    return ((delta+rho)/alpha)**(1 / (alpha - 1))\n",
    "\n",
    "#g. Steady state consumption\n",
    "def c_star():\n",
    "    return prod(k_star())-(delta+n)*k_star()\n",
    "\n",
    "#h. Steady state production\n",
    "def y_star():\n",
    "    return (k_star())**alpha\n",
    "\n",
    "#i. Values of steady state capital and consumption for our chosen variables\n",
    "print(f'The steady state capital per effective labour is: {k_star():.2f}')\n",
    "print(f'The steady state consumption per effective labour is: {c_star():.2f}')\n",
    "print(f'The steady state production per effective labour is: {y_star():.2f}')"
   ]
  },
  {
   "cell_type": "markdown",
   "metadata": {},
   "source": [
    "### 5.2 Generical Phase Diagram"
   ]
  },
  {
   "cell_type": "markdown",
   "metadata": {},
   "source": [
    "The Ramsey model is interesting for its predictions about the path of capital and consumption growth given an initial condition $k(0)$. We now want to plot the generic phase diagram showing the nature of this dynamics "
   ]
  },
  {
   "cell_type": "code",
   "execution_count": 10,
   "metadata": {},
   "outputs": [],
   "source": [
    "#a. locus for capital\n",
    "def locus_cap(k_t):\n",
    "    return prod(k_t) - k_t*(delta + n)"
   ]
  },
  {
   "cell_type": "code",
   "execution_count": 11,
   "metadata": {},
   "outputs": [
    {
     "data": {
      "image/png": "[encoded data removed]",
      "text/plain": [
       "<Figure size 720x504 with 1 Axes>"
      ]
     },
     "metadata": {
      "needs_background": "light"
     },
     "output_type": "display_data"
    }
   ],
   "source": [
    "#b. Create a grid of points for plotting\n",
    "x_vec = np.linspace(0, 500, 7000)\n",
    "\n",
    "#c. Constructing the generic phase diagram \n",
    "phase = plt.figure(figsize=(10,7))\n",
    "plt.xlim(0,5.5)\n",
    "plt.ylim(0,2)\n",
    "plt.grid(False)\n",
    "plt.xlabel([])\n",
    "\n",
    "#c.1 Adding the capital and consumption locii\n",
    "plt.plot(x_vec, locus_cap(x_vec), linestyle ='--', color='black') \n",
    "plt.axvline(k_star(), linestyle = '-', color = 'red')\n",
    "plt.plot(k_star(), c_star(), marker='o', markersize = 10, color ='red')\n",
    "\n",
    "#c.2 Adding arrows to indicate dynamics \n",
    "plt.arrow((1/2)*k_star(), (1/2)*c_star(), dx=0, dy=0.2, head_width = 0.1, head_length= 0.1, color = 'green')\n",
    "plt.arrow((1/2)*k_star(), (1/2)*c_star(), dx=0.2, dy=0, head_width = 0.1, head_length= 0.1, color = 'orange')\n",
    "plt.arrow((1/2)*k_star(), 2*c_star(), dx=0, dy=0.2, head_width = 0.1, head_length= 0.1, color = 'green')\n",
    "plt.arrow((1/2)*k_star(), 2*c_star(), dx=-0.2, dy=0, head_width = 0.1, head_length= 0.1, color = 'orange')\n",
    "\n",
    "plt.arrow(2*k_star(), (1/2)*c_star(), dx=0, dy=-0.2, head_width = 0.1, head_length = 0.1, color = 'green')\n",
    "plt.arrow(2*k_star(), (1/2)*c_star(), dx=0.2, dy=0, head_width = 0.1, head_length = 0.1, color = 'orange')\n",
    "plt.arrow(2*k_star(), 2*c_star(), dx=0, dy=-0.2, head_width = 0.1, head_length = 0.1, color = 'green')\n",
    "plt.arrow(2*k_star(), 2*c_star(), dx=-0.2, dy=0, head_width = 0.1, head_length = 0.1, color = 'orange')\n",
    "\n",
    "#c.3 Adding axis labels and title\n",
    "plt.xlabel('Capital ($\\hat{k}$)', fontsize = 12)\n",
    "plt.ylabel('Consumption ($\\hat{c}$)', fontsize = 12)\n",
    "plt.title('Ramsey Model Phase Diagram ', fontsize=15, weight='bold', pad = 10)\n",
    "plt.show()"
   ]
  },
  {
   "cell_type": "markdown",
   "metadata": {},
   "source": [
    "The dashed black line represents the $\\dot{k}=0$ loci and red line the $\\dot{c}=0$ loci (the other loci where $\\dot{c}=0$ corresponds the the horizontal axis $\\hat{c}=0$). The red dot displays, instead, the steady state.\n",
    "The arrows depict the nature of the dinamics for consumption and capital. So, consumption rises for value of capital $\\hat{k}<k^{*}$ (green arrows point upwards) and decreases otherwise (green arrown point downwards). Capital, instead, falls for values of consumption above the dashed loci (yellow arrows point leftwards) and rises for values below (yellow arrows point rightwards)."
   ]
  },
  {
   "cell_type": "markdown",
   "metadata": {},
   "source": [
    "### 5.3 Plotting different  paths"
   ]
  },
  {
   "cell_type": "markdown",
   "metadata": {},
   "source": [
    "In the previous subsection we got an overall idea of the dinamics of the systems. Now, we are going to plot the consumption/capital paths for different initial values of consumption. We will see that only one precise value of $c(0)$ will lead us to the the steady state and this path is called the saddle path."
   ]
  },
  {
   "cell_type": "code",
   "execution_count": 12,
   "metadata": {},
   "outputs": [],
   "source": [
    "#a. Create a class to make \n",
    "class Ramsey(object):\n",
    "    \n",
    "    def __init__(self, parameters, k_t=None, c_t=None):\n",
    "\n",
    "        # current value of state variable, k\n",
    "        self.k_t           = k_t\n",
    "        # current value of the control variable, c\n",
    "        self.c_t            = c_t\n",
    "        # dictionary of parameter values\n",
    "        self.par   = parameters\n",
    "        # dictionary of steady state values        \n",
    "        self.dict      = {'k_star':self.k_star_(self.par), \n",
    "                             'c_star':self.c_star_(self.par)}\n",
    "        \n",
    "        \n",
    "    # steady state capital per effective labour\n",
    "    def k_star_(self, parameters): \n",
    "\n",
    "        n     = parameters['n']\n",
    "        x     = parameters['x']\n",
    "        alpha = parameters['alpha']\n",
    "        delta = parameters['delta']\n",
    "        rho   = parameters['rho']\n",
    "        theta = parameters['theta']\n",
    "    \n",
    "        return ((alpha * np.exp(-rho)) / (np.exp(theta * x) - np.exp(-(rho + delta))))**(1 / (1 - alpha))\n",
    "    \n",
    "    # steady state consumption per effective labour\n",
    "    def c_star_(self, parameters): \n",
    "        \n",
    "        # extract params\n",
    "        x     = parameters['x']\n",
    "        k_star = self.k_star_(parameters)\n",
    "        \n",
    "        return k_star**alpha + (np.exp(-delta) - np.exp(n + x)) * k_star\n",
    "    \n",
    "    # next period capital per effective labour\n",
    "    def cap_t1(self, k_t, c_t): \n",
    "        \n",
    "        return np.exp(-(n + x)) * (k_t**alpha + np.exp(-delta) * k_t - c_t)\n",
    "    \n",
    "    # next period consumption per effective labour\n",
    "    def cons_t_1(self, k_t, c_t): \n",
    "    \n",
    "        return np.exp(-x) * (np.exp(-rho) * (np.exp(-delta) + alpha * cap_t1(k_t, c_t)**(alpha - 1)))**(1 / theta) * c_t\n",
    "\n",
    "    # generating futute kt+1 and ct+1 according to cons_t_1 and capital equations\n",
    "    def upgrade(self):\n",
    "       \n",
    "        self.k_t = self.cap_t1(self.k_t, self.c_t) \n",
    "        self.c_t = self.cons_t_1(self.k_t, self.c_t)\n",
    "\n",
    "    # geneating path of lenght n\n",
    "    def _path(self, n=None):\n",
    "        \n",
    "        path = np.zeros(shape=(n, 2))\n",
    "        \n",
    "        for t in range(n):\n",
    "            path[t, 0] = self.k_t\n",
    "            path[t, 1] = self.c_t\n",
    "            self.upgrade()\n",
    "        \n",
    "        return path\n",
    "    \n",
    "    def algorithm(self, k0=None, c0=None, eps=1.6e-7):   #Computing the saddle path (using forward shooting algorithm)\n",
    "        \n",
    "        \n",
    "        k_star, c_star = self.dict['k_star'], self.dict['c_star'] #steady-state values\n",
    "        \n",
    "        if k0 <= k_star:\n",
    "            c_low = 0\n",
    "            c_high = c_star\n",
    "        else:\n",
    "            c_low = c_star\n",
    "            c_high = k0**alpha\n",
    "        c0 = (c_high + c_low) / 2\n",
    "        self.k_t, self.c_t = k0, c0\n",
    "    \n",
    "        #Inizialing the algorithm\n",
    "        col  = 0\n",
    "        iterations = 0\n",
    "        \n",
    "        while 1:\n",
    "            self.upgrade()\n",
    "            dist = np.abs(((self.k_t - k_star)**2 + (self.c_t - c_star)**2)**(1/2))\n",
    "            col = col + 1\n",
    "            if k0 <= k_star:\n",
    "                if self.k_t > k_star:\n",
    "                    if dist < eps:\n",
    "                        break\n",
    "                    else: # initial consumption too low\n",
    "                        c_low = c0\n",
    "                        c0 = (c_high + c_low) / 2\n",
    "                        self.k_t, self.c_t = k0, c0\n",
    "                        col = 0\n",
    "                if self.c_t > c_star:\n",
    "                    if dist < eps:\n",
    "                        break\n",
    "                    else: # initial consumption too high\n",
    "                        c_high = c0 \n",
    "                        c0 = (c_high + c_low) / 2\n",
    "                        self.k_t, self.c_t = k0, c0\n",
    "                        col = 0\n",
    "            else:\n",
    "                if self.k_t < k_star:\n",
    "                    if dist < eps:\n",
    "                        break\n",
    "                    else: \n",
    "                        c_high = c0 \n",
    "                        c0 = (c_high + c_low) / 2\n",
    "                        self.k_t, self.c_t = k0, c0\n",
    "                        col = 0\n",
    "                if self.c_t < c_star:\n",
    "                    if dist < eps:\n",
    "                        break\n",
    "                    else: \n",
    "                        c_low = c0\n",
    "                        c0 = (c_high + c_low) / 2\n",
    "                        self.k_t, self.c_t = k0, c0\n",
    "                        col = 0\n",
    "                \n",
    "        self.k_t, self.c_t = k0, c0\n",
    "        sol_path = self._path(col)\n",
    "\n",
    "        return [self.c_t, sol_path, col, dist]\n",
    "\n",
    "# Create dictionary of values used in the class     \n",
    "parameters = {'theta':theta, 'rho':rho, 'x':x, 'n':n, 'delta':delta, 'alpha':alpha}\n"
   ]
  },
  {
   "cell_type": "code",
   "execution_count": null,
   "metadata": {},
   "outputs": [
    {
     "name": "stderr",
     "output_type": "stream",
     "text": [
      "C:\\Users\\maria\\Anaconda3\\lib\\site-packages\\ipykernel_launcher.py:41: RuntimeWarning: invalid value encountered in double_scalars\n",
      "C:\\Users\\maria\\Anaconda3\\lib\\site-packages\\ipykernel_launcher.py:46: RuntimeWarning: invalid value encountered in double_scalars\n",
      "C:\\Users\\maria\\Anaconda3\\lib\\site-packages\\ipykernel_launcher.py:46: RuntimeWarning: invalid value encountered in double_scalars\n",
      "C:\\Users\\maria\\Anaconda3\\lib\\site-packages\\ipykernel_launcher.py:41: RuntimeWarning: invalid value encountered in double_scalars\n",
      "C:\\Users\\maria\\Anaconda3\\lib\\site-packages\\ipykernel_launcher.py:41: RuntimeWarning: invalid value encountered in double_scalars\n",
      "C:\\Users\\maria\\Anaconda3\\lib\\site-packages\\ipykernel_launcher.py:41: RuntimeWarning: invalid value encountered in double_scalars\n",
      "C:\\Users\\maria\\Anaconda3\\lib\\site-packages\\ipykernel_launcher.py:41: RuntimeWarning: invalid value encountered in double_scalars\n",
      "C:\\Users\\maria\\Anaconda3\\lib\\site-packages\\ipykernel_launcher.py:41: RuntimeWarning: invalid value encountered in double_scalars\n",
      "C:\\Users\\maria\\Anaconda3\\lib\\site-packages\\ipykernel_launcher.py:46: RuntimeWarning: invalid value encountered in double_scalars\n"
     ]
    }
   ],
   "source": [
    "#a. Create a reference to the class Ramsey\n",
    "ram = Ramsey(parameters)\n",
    "\n",
    "#b. Initial levels of consumption and production\n",
    "ram.c_t, ram.k_t = 3, 3\n",
    "\n",
    "#c. Updating the system \n",
    "ram.upgrade()\n",
    "ram.k_t, ram.c_t\n",
    "\n",
    "#d. Generating a sample path of length 10  and a grid point\n",
    "ram._path(10)\n",
    "x1_vec = np.linspace(0, 500, 7000)\n",
    "\n",
    "#e. Given an initial level of capital\n",
    "k0 = 0.75 * ram.dict['k_star']\n",
    "\n",
    "#f. Different initial conditions for choices of consumption per effective worker\n",
    "in_values = np.linspace(ram.dict['c_star']*0.5, ram.dict['c_star']*1.5, num=7)\n",
    "\n",
    "#g. Creating a new plot\n",
    "phase1 = plt.figure(figsize=(10,7))\n",
    "\n",
    "#h. FOR loop plots a sample path for each initial value of c\n",
    "for c_t in in_values:\n",
    "    ram.k_t, ram.c_t = k0, c_t\n",
    "    tr = ram._path(30000) \n",
    "    plt.plot(tr[:, 0], tr[:, 1])\n",
    "\n",
    "#i. Adding loci \n",
    "plt.plot(x1_vec, locus_cap(x1_vec), '-', linestyle = '--')\n",
    "plt.axvline(ram.dict['k_star'], linestyle = '-', color='red')\n",
    "plt.plot(ram.dict['k_star'], ram.dict['c_star'], marker='o', markersize=10, color='red')\n",
    "\n",
    "#j. Adding saddle path\n",
    "ram_sol = ram.algorithm(k0, eps=1.6e-7)\n",
    "plt.plot(ram_sol[1][:, 0], ram_sol[1][:, 1], color='red')\n",
    "\n",
    "#k. Adding the line which identify initial level of capital per worker\n",
    "plt.axvline(k0, color='black', linestyle ='--')\n",
    "\n",
    "#l. Adding axis features and title\n",
    "plt.xlim(0, 15)\n",
    "plt.ylim(0, 2)\n",
    "plt.xlabel('Capital ($\\hat{k}$)', fontsize = 12)\n",
    "plt.ylabel('Consumption ($\\hat{c}$)', fontsize = 12)\n",
    "plt.title('Different Paths & Optimal Saddle Path', fontsize=15, weight='bold')\n",
    "\n",
    "plt.show()"
   ]
  },
  {
   "cell_type": "markdown",
   "metadata": {},
   "source": [
    "The figure shows the dynamics of consumption and capital for different initial values of consumption given a specific initial $k_0$. We can also see the optimal saddle-path (red straight line) which is unique and can be achieved if only that particular $c_0$ is chosen. The saddle-path is the sequence that given an initial amount of capital leads to the steady state. As we have previously detected in the generic phase diagram, values of $c_0$ too low bring to the condition of full capital and no consumption, meanwhile value of $k_0$ too high bring to the condition of full consumption but any capital."
   ]
  }
 ],
 "metadata": {
  "kernelspec": {
   "display_name": "Python 3",
   "language": "python",
   "name": "python3"
  },
  "language_info": {
   "codemirror_mode": {
    "name": "ipython",
    "version": 3
   },
   "file_extension": ".py",
   "mimetype": "text/x-python",
   "name": "python",
   "nbconvert_exporter": "python",
   "pygments_lexer": "ipython3",
   "version": "3.7.4"
  }
 },
 "nbformat": 4,
 "nbformat_minor": 2
}
