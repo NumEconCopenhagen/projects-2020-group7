{
 "cells": [
  {
   "cell_type": "markdown",
   "metadata": {},
   "source": [
    "# MODEL PROJECT"
   ]
  },
  {
   "cell_type": "markdown",
   "metadata": {},
   "source": [
    "## 1. Introduction"
   ]
  },
  {
   "cell_type": "markdown",
   "metadata": {},
   "source": [
    "We start in *section.3* with a classical intertemporal optimization problem in two periods. Our representative consumer exhibits a CRRA utility function and we want to detect his optimizing behaviour given underlying parameters. In *section.4*, instead, we focus on the optimizing behaviour of our representative firm. Its production function satisfies the Inada condition and  exhibits positive but diminishing marginal products. We come up with the optimal conditions to satisfy profit maximization.   \n",
    "In *section.5*, we add complexity to the model making our representative consumer and firm interact under the features of the classical Ramsey model. Here, we rely on the book *Robert J.Barro and Xavier Sala-i-Martin, Economic Growth* for the main results. We find the steady state for the given parameters and we come up with the generical phase diagram showing the dinamics of capital and consumption. Finally we plot sample paths for different initial value of consumption trying to detect the unique saddle path. "
   ]
  },
  {
   "cell_type": "markdown",
   "metadata": {},
   "source": [
    "## 2. Import packages"
   ]
  },
  {
   "cell_type": "code",
   "execution_count": 1,
   "metadata": {},
   "outputs": [],
   "source": [
    "import numpy as np\n",
    "import scipy as sp\n",
    "import math\n",
    "from scipy import optimize\n",
    "import sympy as sm\n",
    "from scipy import linalg\n",
    "from sympy import Derivative\n",
    "from scipy import interpolate\n",
    "from sympy import symbol,function\n",
    "import ipywidgets as widgets\n",
    "from IPython.display import display\n",
    "\n",
    "#autoreload model when code is run\n",
    "%load_ext autoreload\n",
    "%autoreload 2\n",
    "\n",
    "%matplotlib inline\n",
    "import matplotlib.pyplot as plt\n",
    "plt.style.use('seaborn-whitegrid')\n",
    "from matplotlib import cm\n",
    "import matplotlib as mpl\n",
    "from mpl_toolkits.mplot3d import Axes3D"
   ]
  },
  {
   "cell_type": "markdown",
   "metadata": {},
   "source": [
    "## 3. Consumer optimization problem"
   ]
  },
  {
   "cell_type": "markdown",
   "metadata": {},
   "source": [
    "Before moving to the Ramsey model, we focus on our representative consumer and his optimization problem. The standard Ramsey model assumes that the household exhibits a CRRA utility function with respect to consumption of the type:  \n",
    "\n",
    "$$u(c)=\\frac{c^{1-\\theta}-1}{1-\\theta}$$  \n",
    "\n",
    "where $\\theta$ is the measure of relative risk aversion.\n",
    "This type of preferences is really useful when $\\theta=1$ because in this case the CRRA utility becomes a logarithmic utility. \n",
    "We create a simple utility maximization problem in two periods ($t=0$ and $t=1$) to detect how these preferences impact the consumer optimal behavior.\n",
    "Our representative consumer maximizes consumption in the present $c_0$ and in the future $c_1$ taking into consideration his labour income is $w_0$ today and $w_1$ tomorrow. So, for our consumer, the utility maximization problem becomes:  \n",
    "\n",
    "$$max \\hspace{2pt} U(c_0,c_1) = u(c_0)+e^{-\\rho}u(c_1)$$  \n",
    "\n",
    "under the constraint:  \n",
    "\n",
    "$$c_0+\\frac{1}{1+r}{c_1} = w_0 +\\frac{1}{1+r}{w_1}$$  \n",
    "\n",
    "where $\\rho$ is the subjective discount rate and $r$ the interest rate.\n",
    "\n",
    "Now, before solving the problem, we assume some initial values for the parameters and we code the utility function and constraint. "
   ]
  },
  {
   "cell_type": "code",
   "execution_count": 2,
   "metadata": {},
   "outputs": [],
   "source": [
    "#a. Defining initial values for the various parameters\n",
    "theta = 0.5\n",
    "w_t= 10      #present labour income\n",
    "w_t1 = 10     #future labour income\n",
    "rho = 0.1\n",
    "r = 0.5\n",
    "\n",
    "#a. Defining utility function\n",
    "def utility(ct, theta):\n",
    "    if theta != 1:\n",
    "        return (ct**(1-theta)-1)/(1-theta)\n",
    "    else:\n",
    "        return np.log(c_t)\n",
    "    \n",
    "#b. Defining utility function for two periods\n",
    "def inter_util(c_t, c_t1, rho, theta):\n",
    "    return utility(c_t, theta)+np.exp(-rho)*utility(c_t1, theta)\n",
    " \n",
    "#c. Defining constraint\n",
    "def constraint(c_t, c_t1, w_t, w_t1, r):\n",
    "    return w_t+(1/(1+r))*w_t1-c_t-(1/(1+r))*c_t1"
   ]
  },
  {
   "cell_type": "markdown",
   "metadata": {},
   "source": [
    "To solve the maximization problem we firstly set the lagrangian:  \n",
    "\n",
    "$$L=\\max_{c_{0},c_{2}}\\bigg(\\frac{c_{0}^{1 - \\theta} - 1}{1 - \\theta}\\bigg) + e^{-\\rho}\\bigg(\\frac{c_{1}^{1 - \\theta} - 1}{1 - \\theta}\\bigg) + \\lambda\\bigg(w_{0} + \\frac{1}{1 + r}w_{1} - c_{0} - \\frac{1}{1 + r}c_{1}\\bigg)$$  \n",
    "\n",
    "and we compute the first order conditions:  \n",
    "\n",
    "$$c_{0}^{-\\theta} = \\lambda$$\n",
    "$$e^{-\\rho}c_{1}^{-\\theta}=\\frac{1}{1 + r}\\lambda$$  \n",
    "\n",
    "The above reduces to:  \n",
    "\n",
    "$$c_{0}^{-\\theta} = e^{-\\rho}(1 + r)c_{1}^{-\\theta}$$    \n",
    "\n",
    "We transpose the above into code and we solve the optimization problem."
   ]
  },
  {
   "cell_type": "code",
   "execution_count": 3,
   "metadata": {},
   "outputs": [
    {
     "name": "stdout",
     "output_type": "stream",
     "text": [
      "The optimal consumption at the present is: 7.48\n",
      "The optimal consumption tomorrow is: 13.78\n",
      "Utility from optimal bundle is: 8.38\n"
     ]
    }
   ],
   "source": [
    "#d. Defining Euler equation\n",
    "def euler(c_t, c_t1, rho, theta, r):\n",
    "    return c_t**(-theta)-np.exp(-rho)*(1+r)*(c_t1)**(-theta)\n",
    "\n",
    "#e. Creating optimization function\n",
    "def optimalchoice(x, rho, theta, r, w_t, w_t1):\n",
    "    op = [euler(x[0], x[1], rho, theta, r)]\n",
    "    op.append(constraint(x[0],x[1], w_t, w_t1, r))\n",
    "    return op\n",
    "\n",
    "#f. Applying fsolve function\n",
    "ct_star, ct1_star = optimize.fsolve(optimalchoice, args=(rho, theta, r, w_t, w_t1), x0=(0.5, 0.5))\n",
    "utility_star = inter_util(ct_star, ct1_star, rho, theta)\n",
    "\n",
    "#g. Printing results\n",
    "print(f'The optimal consumption at the present is: {ct_star:.2f}')\n",
    "print(f'The optimal consumption tomorrow is: {ct1_star:.2f}')\n",
    "print(f'Utility from optimal bundle is: {utility_star:.2f}')"
   ]
  },
  {
   "cell_type": "markdown",
   "metadata": {},
   "source": [
    "With these particular parameters' values, our household decides to consume more in the future (13.78) than in the present (7.48).  \n",
    "We know construct an interactive graph to detect his optimizing bundle for changes in the various parameters."
   ]
  },
  {
   "cell_type": "code",
   "execution_count": 4,
   "metadata": {},
   "outputs": [],
   "source": [
    "def plot_max_problem(w_t, w_t1, theta, rho, r):\n",
    "\n",
    "    fig1 = plt.figure(figsize=(10,10))\n",
    "    ax = fig1.add_subplot(1,1,1)\n",
    "    \n",
    "    # Applying fsolve function\n",
    "    ctstar, ct1star = optimize.fsolve(optimalchoice, args = (rho, theta, r, w_t, w_t1), x0=(0.5, 0.5))\n",
    "    utility_star = inter_util(ct_star, ct1_star, rho ,theta)\n",
    "    \n",
    "    # Plot the budget constraint\n",
    "    c_t = np.linspace(0, 30, 100)\n",
    "    ax.plot(c_t, (1 + r) * (w_t - c_t) + w_t1, color='k')\n",
    "    \n",
    "    # Plot the optimal bundle and converging dashed lines\n",
    "    ax.hlines(ct1star, 0, ctstar, linestyle='dashed')\n",
    "    ax.vlines(ctstar, 0, ct1star, linestyle='dashed')\n",
    "    ax.plot(ctstar, ct1star, marker='o', markersize = 7, color ='red')\n",
    "    \n",
    "    # Add optimal values for c_t and c_t1\n",
    "    ax.text(0, ct1star, \"{:.1f}\".format(ct1star), color=\"red\", ha=\"right\", va=\"center\")\n",
    "    ax.text(ctstar, 0, \"{:.1f}\".format(ctstar), rotation = 'vertical', color=\"red\", ha='center', va = 'top')\n",
    "    \n",
    "    # Add, axis limits, labels, title\n",
    "    ax.set_xlim(0, 30)\n",
    "    ax.set_ylim(0, 30)\n",
    "    ax.set_xlabel(r'Present Consumption, $C_{t}$', fontsize=14)\n",
    "    ax.set_ylabel(r'Future Consumption, $C_{t+1}$', fontsize=14)\n",
    "    ax.set_title(r'Optimal Bundle For CRRA Utility', fontsize=20, pad=15)\n",
    "    \n",
    "    plt.show()\n",
    "\n",
    "def plot_time():\n",
    "    widgets.interact(plot_max_problem,\n",
    "    w_t= widgets.IntSlider(\n",
    "           description='$w_{t}$',\n",
    "           min=1,\n",
    "           max=10,\n",
    "           step=1,\n",
    "           value=7,\n",
    "           continuous_update=False,\n",
    "    ),\n",
    "    \n",
    "    w_t1 = widgets.IntSlider(\n",
    "            description=\"$w_{t+1}$\",\n",
    "            min=1,\n",
    "            max=10,\n",
    "            step=1,\n",
    "            value=7,\n",
    "            continuous_update=False,\n",
    "    ),\n",
    "    theta = widgets.FloatSlider(\n",
    "            description=\"$\\\\theta$\",\n",
    "            min=0.5,\n",
    "            max=0.9,\n",
    "            step=0.02,\n",
    "            value=0.5,\n",
    "            continuous_update=False,\n",
    "    ),\n",
    "    rho = widgets.FloatSlider(\n",
    "            description=\"$\\\\rho$\",\n",
    "            min=0.1,\n",
    "            max=0.99,\n",
    "            step=0.05,\n",
    "            value=0.1,\n",
    "            continuous_update=False,\n",
    "    ),\n",
    "    r = widgets.FloatSlider(\n",
    "            description=\"$r$\",\n",
    "            min=0.1,\n",
    "            max=0.5,\n",
    "            step=0.1,\n",
    "            value=0.5,\n",
    "            continuous_update=False,\n",
    "    ),\n",
    ");  "
   ]
  },
  {
   "cell_type": "code",
   "execution_count": 5,
   "metadata": {},
   "outputs": [
    {
     "data": {
      "application/vnd.jupyter.widget-view+json": {
       "model_id": "6a162c0b3b3c4cdba2182eb16b823915",
       "version_major": 2,
       "version_minor": 0
      },
      "text/plain": [
       "interactive(children=(IntSlider(value=7, continuous_update=False, description='$w_{t}$', max=10, min=1), IntSl…"
      ]
     },
     "metadata": {},
     "output_type": "display_data"
    }
   ],
   "source": [
    "plot_time()"
   ]
  },
  {
   "cell_type": "markdown",
   "metadata": {},
   "source": [
    "We can know study the behaviour of our consumer more in details. All the following changes are ceteris paribus, that is, when we change one particular parameter, the others remain fixed.  \n",
    "First of all, if the measure of risk aversion ($\\theta$) increases, then our household will increase present consumption and lower future one. The same happens for an increase in the rate of subjective discount ($\\rho$).  \n",
    "Theoretically, if the interest rate ($r$) increases, then present consumption becomes more expensive in comparison to future consumption and we expect consumers to decrease $c_t$ for $c_{t+1}$ (substitution effect). This is actually what happens in the case of our representative household. Futhermore A strong income effect seems not to be present for every value of $r$.\n",
    "An increase only in the future wage ($w_t$), present wage ($w_{t+1})$ or both leads to some increase in both present and future consumption as the budget constraint move rightwards and our consumer splits the additional income in some way among present and future. The way this more income is divided between the two periods depends on the initial wages as well as the values of the other parameters.  \n",
    "In conclusion it is worth to underline that in the case the subjective rate of discount ($\\rho$) equals ($r$), the interest rate, then our consumer with CRRA utility function exactly divides overall income equally between present and future consumption. "
   ]
  },
  {
   "cell_type": "markdown",
   "metadata": {},
   "source": [
    "## 4. Firm optimization problem "
   ]
  },
  {
   "cell_type": "markdown",
   "metadata": {},
   "source": [
    "In the Ramsey model the representative firm has a production function that satisfies the neoclassical properties of constant return to scale in $K$ (capital) and $L$ (Labour) and each input exhibits positive but diminishing marginal product. \n",
    "Moreover, the problem of maximizing the present value of profit reduces to\n",
    "a problem of maximizing profit in each period without regard to the outcomes in other periods.\n",
    "The firm profit at any point in time is:\n",
    "\n",
    "$$\\pi = F(K,L) - wL - (r+\\delta)K$$\n",
    "\n",
    "where $F(K,L)$ is the production function, $w$ is the wage rate, $r$ is the interest rate and $0 \\leq \\delta \\leq 1$ the discount rate.  \n",
    "In the Ramsey model, to obtain constant growth in the steady-state, we have to deal with quantities per unit of effective labor and so we will do, assuming that the technology will be $T=1$. From now on, for simplicity, we assume that technology will increase at the rate $x=0$. The production function will be rewritten in intensive form:  \n",
    "\n",
    "$$\\hat{y}=f(\\hat{k})$$  \n",
    "\n",
    "where $\\hat{y}=\\frac{Y}{LT}$ and $\\hat{k}=\\frac{K}{LT}$. The Profit function becomes:\n",
    "\n",
    "$$\\pi= f(\\hat{k}) - w - (r+\\delta)\\hat{k}$$  \n",
    "\n",
    "Specifically, we are going to assume the following production function:  \n",
    "\n",
    "$$\\hat{y}=f(\\hat{k})=\\hat{k}^{\\alpha}$$  \n",
    "\n",
    "where $0 \\leq \\alpha \\leq 1$ is the capital share of output and $\\hat{k}$ is capital per effective labour. \n",
    "We are going to check that the marginal product of capital is diminishing ($f''(\\hat{k})< 0$), that the Inada conditions are satisfied and only afterwards we will calculate the profit maximization conditions."
   ]
  },
  {
   "cell_type": "code",
   "execution_count": 6,
   "metadata": {},
   "outputs": [],
   "source": [
    "#a. Creating parameters\n",
    "sm.init_printing(use_unicode=True) # for pretty printing        \n",
    "alpha = sm.symbols('alpha')        # capital share\n",
    "\n",
    "k = sm.symbols('k')                # capital per effective worker               \n",
    "\n",
    "w = sm.symbols('w')                # wage\n",
    "\n",
    "l = sm.symbols('L')                # labour per effective worker\n",
    "\n",
    "delta = sm.symbols('delta')        # capital depreciation rate\n",
    "r = sm.symbols('r')                # interest rate"
   ]
  },
  {
   "cell_type": "code",
   "execution_count": 7,
   "metadata": {},
   "outputs": [
    {
     "name": "stdout",
     "output_type": "stream",
     "text": [
      "The production function is:\n"
     ]
    },
    {
     "data": {
      "image/png": "[encoded data removed]",
      "text/latex": [
       "$\\displaystyle k^{\\alpha}$"
      ],
      "text/plain": [
       " α\n",
       "k "
      ]
     },
     "metadata": {},
     "output_type": "display_data"
    },
    {
     "name": "stdout",
     "output_type": "stream",
     "text": [
      "The profit function is:\n"
     ]
    },
    {
     "data": {
      "image/png": "[encoded data removed]",
      "text/latex": [
       "$\\displaystyle - k \\left(\\delta + r\\right) + k^{\\alpha} - w$"
      ],
      "text/plain": [
       "              α    \n",
       "-k⋅(δ + r) + k  - w"
      ]
     },
     "metadata": {},
     "output_type": "display_data"
    },
    {
     "name": "stdout",
     "output_type": "stream",
     "text": [
      "The first derivative with respect to k is:\n"
     ]
    },
    {
     "data": {
      "image/png": "[encoded data removed]",
      "text/latex": [
       "$\\displaystyle \\frac{\\alpha k^{\\alpha}}{k}$"
      ],
      "text/plain": [
       "   α\n",
       "α⋅k \n",
       "────\n",
       " k  "
      ]
     },
     "metadata": {},
     "output_type": "display_data"
    },
    {
     "name": "stdout",
     "output_type": "stream",
     "text": [
      "The second derivative with respect to k is:\n"
     ]
    },
    {
     "data": {
      "image/png": "[encoded data removed]",
      "text/latex": [
       "$\\displaystyle \\frac{\\alpha k^{\\alpha} \\left(\\alpha - 1\\right)}{k^{2}}$"
      ],
      "text/plain": [
       "   α        \n",
       "α⋅k ⋅(α - 1)\n",
       "────────────\n",
       "      2     \n",
       "     k      "
      ]
     },
     "metadata": {},
     "output_type": "display_data"
    },
    {
     "name": "stdout",
     "output_type": "stream",
     "text": [
      "First Inada condition is:\n"
     ]
    },
    {
     "data": {
      "image/png": "[encoded data removed]",
      "text/latex": [
       "$\\displaystyle \\lim_{k \\to 0^+}\\left(\\frac{\\alpha k^{\\alpha}}{k}\\right) = \\infty$"
      ],
      "text/plain": [
       "     ⎛   α⎞    \n",
       "     ⎜α⋅k ⎟    \n",
       " lim ⎜────⎟ = ∞\n",
       "k─→0⁺⎝ k  ⎠    "
      ]
     },
     "metadata": {},
     "output_type": "display_data"
    },
    {
     "name": "stdout",
     "output_type": "stream",
     "text": [
      "Second Inada condition is:\n"
     ]
    },
    {
     "data": {
      "image/png": "[encoded data removed]",
      "text/latex": [
       "$\\displaystyle \\lim_{k \\to \\infty}\\left(\\frac{\\alpha k^{\\alpha}}{k}\\right) = 0$"
      ],
      "text/plain": [
       "    ⎛   α⎞    \n",
       "    ⎜α⋅k ⎟    \n",
       "lim ⎜────⎟ = 0\n",
       "k─→∞⎝ k  ⎠    "
      ]
     },
     "metadata": {},
     "output_type": "display_data"
    }
   ],
   "source": [
    "#b. Defining production function\n",
    "prod = k**alpha\n",
    "print(f'The production function is:')\n",
    "display(prod)\n",
    "\n",
    "#c. Defining profit function\n",
    "profit = prod - (r+delta)*k - w\n",
    "print(f'The profit function is:')\n",
    "display(profit)\n",
    "\n",
    "#d. Calculating first and second derivatives with respect to k\n",
    "print(f'The first derivative with respect to k is:')\n",
    "sol = sm.diff(prod,k)\n",
    "display(sol)\n",
    "print(f'The second derivative with respect to k is:')\n",
    "sol1 = sm.diff(prod,k, k)\n",
    "display(sol1)\n",
    "\n",
    "#e. Check Inada conditions\n",
    "print(f'First Inada condition is:')\n",
    "inada1 = sm.Limit(sol,k,0)\n",
    "inada_ = sm.Eq(inada1,sm.oo)\n",
    "display(inada_)\n",
    "print(f'Second Inada condition is:')\n",
    "inada2 = sm.Limit(sol,k, sm.oo,0)\n",
    "inada_2 = sm.Eq(inada2, 0)\n",
    "display(inada_2)"
   ]
  },
  {
   "cell_type": "markdown",
   "metadata": {},
   "source": [
    "Clearly, the first derivative is positive and the second derivative is negative confirming decreasing marginal product of capital per effective labour. Even if it should be already clear that the Inada conditions are satisfied, we are going to plot the production function for different values of alpha to check that it is actually concave as concavity satisfies Inada conditions."
   ]
  },
  {
   "cell_type": "code",
   "execution_count": 8,
   "metadata": {},
   "outputs": [
    {
     "data": {
      "image/png": "[encoded data removed]",
      "text/plain": [
       "<Figure size 648x432 with 1 Axes>"
      ]
     },
     "metadata": {
      "needs_background": "light"
     },
     "output_type": "display_data"
    }
   ],
   "source": [
    "#f. Setting different parameters vaues\n",
    "kvec = np.linspace(0,10,100)\n",
    "alpha = 0.3\n",
    "alpha1 = 0.5\n",
    "alpha2 = 0.7\n",
    "y = kvec**alpha\n",
    "y1 = kvec**alpha1\n",
    "y2 = kvec**alpha2\n",
    "\n",
    "#g. Plotting the functions\n",
    "prod_im = plt.figure(figsize = (9,6))\n",
    "ax = prod_im.add_subplot(1, 1, 1)\n",
    "ax.plot(kvec,y, 'red')\n",
    "ax.plot(kvec,y1, 'blue')\n",
    "ax.plot(kvec,y2, 'green')\n",
    "ax.set_title('Production Function For Different Alpha Values', fontsize=15, pad=10)\n",
    "ax.set_ylabel('$\\hat{y}$', fontsize=12)\n",
    "ax.set_xlabel('$\\hat{k}$', fontsize=12)\n",
    "ax.set_xlim(0,10)\n",
    "ax.set_ylim(0,5)\n",
    "\n",
    "plt.show()"
   ]
  },
  {
   "cell_type": "markdown",
   "metadata": {},
   "source": [
    "So our production function is confirmed to be concave. Moreover, we can notice that higher levels of alpha lead to higher outcome per effective worker.  \n",
    "We now move to the profit maximization conditions."
   ]
  },
  {
   "cell_type": "code",
   "execution_count": 9,
   "metadata": {},
   "outputs": [
    {
     "name": "stdout",
     "output_type": "stream",
     "text": [
      "Optimazing the profit with respect to k, we obtain:\n"
     ]
    },
    {
     "data": {
      "image/png": "[encoded data removed]",
      "text/latex": [
       "$\\displaystyle \\frac{\\alpha k^{\\alpha}}{k} - \\delta - r = 0$"
      ],
      "text/plain": [
       "   α            \n",
       "α⋅k             \n",
       "──── - δ - r = 0\n",
       " k              "
      ]
     },
     "metadata": {},
     "output_type": "display_data"
    },
    {
     "name": "stdout",
     "output_type": "stream",
     "text": [
      "And the optimal k is:\n"
     ]
    },
    {
     "data": {
      "image/png": "[encoded data removed]",
      "text/latex": [
       "$\\displaystyle \\left[ \\left(\\frac{\\delta + r}{\\alpha}\\right)^{\\frac{1}{\\alpha - 1}}\\right]$"
      ],
      "text/plain": [
       "⎡         1  ⎤\n",
       "⎢       ─────⎥\n",
       "⎢       α - 1⎥\n",
       "⎢⎛δ + r⎞     ⎥\n",
       "⎢⎜─────⎟     ⎥\n",
       "⎣⎝  α  ⎠     ⎦"
      ]
     },
     "metadata": {},
     "output_type": "display_data"
    },
    {
     "name": "stdout",
     "output_type": "stream",
     "text": [
      "Optimazing the profit with respect to l, we obtain the optimal condition that the wage as to equal:\n"
     ]
    },
    {
     "data": {
      "image/png": "[encoded data removed]",
      "text/latex": [
       "$\\displaystyle - \\frac{\\alpha k^{\\alpha}}{k} - k + k^{\\alpha} = w$"
      ],
      "text/plain": [
       "     α             \n",
       "  α⋅k         α    \n",
       "- ──── - k + k  = w\n",
       "   k               "
      ]
     },
     "metadata": {},
     "output_type": "display_data"
    }
   ],
   "source": [
    "#h. Profit maximization with respect to capital per effective worker\n",
    "print(f'Optimazing the profit with respect to k, we obtain:')\n",
    "profitk = sm.Eq(sm.diff(profit,k))\n",
    "display(profitk)\n",
    "print(f'And the optimal k is:')\n",
    "profitk1 = sm.solve(profitk,k)\n",
    "display(profitk1)\n",
    "\n",
    "#i. Profit maximization with respect to labour per effective worker\n",
    "print(f'Optimazing the profit with respect to l, we obtain the optimal condition that the wage as to equal:')\n",
    "profitl = (prod - k - sol)\n",
    "profitleq = sm.Eq(profitl, w)\n",
    "display(profitleq)"
   ]
  },
  {
   "cell_type": "markdown",
   "metadata": {},
   "source": [
    "## 5. Ramsey Model"
   ]
  },
  {
   "cell_type": "markdown",
   "metadata": {},
   "source": [
    "We now make our representative consumer and firm interacting under the classical framework of the Ramsey model. Our optimizing household of *section.3* mantains the same CRRA utility function with respect to consumption but now he maximizes over an infinite horizon taking into account the welfare and resources of his prospective descendants. He expects the size of his future family to grow at the rate $n$, given as exogenous and constant. We normalize the size of his family at time $t= \\small{0}$ to 1, so that at the generic time $t$, the size of the family will be $L(t)=e^{nt}$. The utility maximization problem become:\n",
    " \n",
    "$$U= \\int_{0}^{\\infty} e^{-(\\rho-n)t}\\left[\\frac{c^{1-\\theta}-1}{1-\\theta}\\right]dt$$"
   ]
  },
  {
   "cell_type": "markdown",
   "metadata": {},
   "source": [
    "Futhermore the household holds assets ($a(t)$) which pay rate of return $r(t)$ and he supplies inelastically one unit of labor services for the wage rate $w(t)$. We assume a closed economy so that no assets can be traded internationally and we assume a competitive market so that the interest rate, $r(t)$, and the wage rate $w(t)$ are assumed as given.                              \n",
    "The total income received is the sum of labor income, $w(t)·L(t)$, and asset income, $r(t)·(Assets)$ and the income that it is not consumed is used to accumulate more assets:  \n",
    "\n",
    "$$\\frac{d(Assets)}{dt} = r(Assets)+wL-C$$  \n",
    "\n",
    "In per-capita terms, the household budget constraint becomes:  \n",
    "\n",
    "$$\\dot{\\alpha} = (r-n)\\alpha+w-c$$"
   ]
  },
  {
   "cell_type": "markdown",
   "metadata": {},
   "source": [
    "We assume that the credit market imposes a constraint on the amount of borrowing to rule out chain-letter possibilities (No Ponzi game condition). The appropriate restriction turns out to be that the present value of assets must be asymptotically non-negative:  \n",
    "\n",
    "$$\\lim_{t \\to \\infty} \\bigg\\{ \\alpha(t)*exp\\left[-\\int_{0}^{t}[r(v)-n]dv \\right] \\bigg\\} \\geq 0$$"
   ]
  },
  {
   "cell_type": "markdown",
   "metadata": {},
   "source": [
    "Our representative firm maintains the same characteristics depicted in *Section.4*. As before, initial technology is normalized to 1  and for simplicity we assume that it grows at rate $x=0$.   \n",
    "One unit of output can be used to generate one unit of household consumption or one unit of additional capital. Therefore, as long as the economy is not at a corner solution, in which all current output goes into consumption or capital, the price of capital in terms of consumption will be fixed at unity."
   ]
  },
  {
   "cell_type": "markdown",
   "metadata": {},
   "source": [
    "We briefly derive the fundamental equations of the model (for complete derivations have a look in *Barro & Martin, Chapter 2* and relative appendix).  \n",
    "Since the economy is closed, assets per adult person, $\\hat{a}$, equal capital per worker, $\\hat{k}$. Given the consumer budget constraint, the optimizing conditions for $r$ and $w$ found in *Section.4* and $a=k$, we obtain the resource constraint for the economy which determines the evolution of capital per effective labour:\n",
    "\n",
    "$$\\dot{\\hat{k}} = \\hat{k}^{\\alpha} - \\hat{c} -(x+n+\\delta)\\hat{k} \\hspace{7pt}(1)$$\n",
    "\n",
    "The differential equation that determines the evolution of the consumption per effective labour, obtained from the household optimization problem, is instead:\n",
    "\n",
    "$$\\frac{\\dot{\\hat{c}}}{\\hat{c}}=\\frac{\\hat{c}}{c}-x=\\frac{1}{\\theta} \\big[\\alpha \\hat{k}^{\\alpha-1} -\\delta -\\rho-\\theta x \\big] \\hspace{7pt}(2)$$\n",
    "\n",
    "The transversality condition becomes:  \n",
    "\n",
    "$$\\lim_{t \\to \\infty} \\bigg\\{ \\hat{k}*exp\\left[-\\int_{0}^{t}[\\alpha \\hat{k}^{\\alpha-1} -\\delta - n - x]dv \\right] \\bigg\\} = 0$$"
   ]
  },
  {
   "cell_type": "markdown",
   "metadata": {},
   "source": [
    "The $\\dot{k}=0$ locus is determined by equating (1) to 0:\n",
    "\n",
    "$$\\hat{c}= \\hat{k}^{\\alpha}-(x+n+\\delta)\\hat{k}$$\n",
    "\n",
    "Equation (2) implies instead that the $\\dot{c}=0$ locus is satisfied when:\n",
    "\n",
    "$$\\alpha \\hat{k}^{\\alpha-1}=\\delta +\\rho+\\theta x$$\n",
    "\n",
    "The steady state values for $\\hat{c}$ and $\\hat{k}$ are determined by setting the expression (1) and (2) to zero. Moreover, the determination of the steady state occurs at the intersection of the vertical line for $\\dot{\\hat{c}}=0$ and the solid curve for $\\dot{\\hat{k}}=0$. The two equations for the steady state quantities are:\n",
    "\n",
    "$$ \\hat{k}^{*}=\\big(\\frac{\\delta+\\rho+ x\\theta}{\\alpha}\\big)^{\\frac{1}{\\alpha-1}}$$\n",
    "\n",
    "$$ \\hat{c}^{*}=(k^{*})^{\\alpha}-(n+\\delta+x)k^{*}$$\n",
    "\n",
    "and steady-state value for the production per effective labour becomes $\\hat{y}^{*}=(\\hat{k}^{*})^{\\alpha}$.  \n",
    "After some calculations, the transversality condition implies that $\\rho>n+(1-\\theta)x$. If $\\rho$ doesn't satisfy this condition, the household's optimization problem is not well posed and infinite utility can be attained if consumption grows at the rate $x$.\n",
    "The capital equation for $k_{t+1}$ and the euler equation $\\hat{c_{t+1}}$ are obtained from differentiating (1) and (2) respectively:  \n",
    "\n",
    "$$\\hat{k}_{t+1}= \\big[\\hat{k}^{\\alpha}+\\hat{k}e^{-\\delta}-\\hat{c}\\big]e^{(-(x+n))}$$  \n",
    "$$\\hat{c}_{t+1}= e^{-x}\\big[e^{-rho}(e^{-\\delta}+\\alpha \\hat{k}_{t+1}^{\\alpha-1}\\big]^{\\frac{1}{\\theta}}\\hat{c}_t$$"
   ]
  },
  {
   "cell_type": "markdown",
   "metadata": {},
   "source": [
    "We now start to code the main equation for the model and we find the steady-state values for consumption, capital and production for our given values of $\\theta$, $\\rho$, $n$, $\\delta$, $\\alpha$ and $x$.\n"
   ]
  },
  {
   "cell_type": "code",
   "execution_count": 10,
   "metadata": {},
   "outputs": [
    {
     "name": "stdout",
     "output_type": "stream",
     "text": [
      "Is the transversality condition satisfied?\n",
      "Yes, it is satisfied.\n"
     ]
    }
   ],
   "source": [
    "#a. Parameter values \n",
    "rho = 0.015          # subjective discount rate\n",
    "theta = 1.7          # measure of relative risk aversion\n",
    "x = 0                # growth rate of technology \n",
    "alpha = 0.3          # capital share of output\n",
    "n = 0.003            # growth rate of population\n",
    "delta = 0.03         # discount rate of capital\n",
    "\n",
    "#b. Transversality condition must be satisfied\n",
    "print(f'Is the transversality condition satisfied?')\n",
    "def transversality():\n",
    "    if  rho > n + (1 - theta)*x:\n",
    "        print(f'Yes, it is satisfied.')\n",
    "    else:\n",
    "        print(f'No, it is not satisfied.')\n",
    "\n",
    "transversality()"
   ]
  },
  {
   "cell_type": "code",
   "execution_count": 11,
   "metadata": {},
   "outputs": [],
   "source": [
    "#c. Defining production function\n",
    "def prod(k_t):\n",
    "    return k_t**alpha\n",
    "\n",
    "#d. Defining the consumption euler equation obtained from 1\n",
    "def cons_t1(c_t, k_t):\n",
    "    return np.exp(-x) * (np.exp(-rho) * (np.exp(-delta) + alpha * cap_t1(k_t, c_t)**(alpha - 1)))**(1 / theta) * c_t\n",
    "\n",
    "#e. Defining the capital equation obtain from 2\n",
    "def cap_t1(k_t,c_t):\n",
    "    return (prod(k_t) + np.exp(-delta) * k_t - c_t) * np.exp(-(x + n))\n"
   ]
  },
  {
   "cell_type": "code",
   "execution_count": 12,
   "metadata": {},
   "outputs": [
    {
     "name": "stdout",
     "output_type": "stream",
     "text": [
      "The steady state capital per effective labour is: 15.0\n",
      "The steady state consumption per effective labour is: 1.8\n",
      "The steady state production per effective labour is: 2.3\n"
     ]
    }
   ],
   "source": [
    "#f. Steady state capital\n",
    "def k_star():\n",
    "    return ((delta + rho + theta*x)/alpha)**(1 / (alpha-1))\n",
    "\n",
    "#g. Steady state consumption\n",
    "def c_star():\n",
    "    return prod(k_star())-(n+delta+x)* k_star()\n",
    "\n",
    "#h. Steady state production\n",
    "def y_star():\n",
    "    return (k_star())**alpha\n",
    "\n",
    "#i. Values of steady state capital and consumption for our chosen variables\n",
    "print(f'The steady state capital per effective labour is: {k_star():.1f}')\n",
    "print(f'The steady state consumption per effective labour is: {c_star():.1f}')\n",
    "print(f'The steady state production per effective labour is: {y_star():.1f}')"
   ]
  },
  {
   "cell_type": "markdown",
   "metadata": {},
   "source": [
    "So, for the particular values we gave to the parameters, the steady state capital per effective labour is 15.2, consumption 1.8 and production 2.3."
   ]
  },
  {
   "cell_type": "markdown",
   "metadata": {},
   "source": [
    "### 5.2 Generical Phase Diagram"
   ]
  },
  {
   "cell_type": "markdown",
   "metadata": {},
   "source": [
    "The Ramsey model is interesting for its predictions about the path of capital and consumption growth given initial condition $\\hat{c}_0$ and $\\hat{k}_0$. We now want to plot the generic phase diagram showing the nature of this dynamics."
   ]
  },
  {
   "cell_type": "code",
   "execution_count": 13,
   "metadata": {},
   "outputs": [
    {
     "data": {
      "image/png": "[encoded data removed]",
      "text/plain": [
       "<Figure size 864x504 with 1 Axes>"
      ]
     },
     "metadata": {
      "needs_background": "light"
     },
     "output_type": "display_data"
    }
   ],
   "source": [
    "#a. locus for capital\n",
    "def locus_cap(k_t):\n",
    "    return prod(k_t) - k_t*(delta + n + x)\n",
    "\n",
    "#b. Create a grid of points for plotting\n",
    "x_vec = np.linspace(0, 500, 7000)\n",
    "\n",
    "#c. Constructing the generic phase diagram \n",
    "phase = plt.figure(figsize=(12,7))\n",
    "plt.xlim(0,135)\n",
    "plt.ylim(0,4)\n",
    "plt.grid(False)\n",
    "plt.xlabel([])\n",
    "\n",
    "#c.1 Adding the capital and consumption locii\n",
    "plt.plot(x_vec, locus_cap(x_vec), linestyle ='--', color='black') \n",
    "plt.axvline(k_star(), linestyle = '-', color = 'red')\n",
    "plt.plot(k_star(), c_star(), marker='o', markersize = 10, color ='red')\n",
    "\n",
    "#c.2 Adding arrows to indicate dynamics \n",
    "plt.arrow((1/2)*k_star(), (1/2)*c_star(), dx=0, dy=0.3, head_width = 2, head_length= 0.2, color = 'green')\n",
    "plt.arrow((1/2)*k_star(), (1/2)*c_star(), dx=5, dy=0, head_width = 0.15, head_length= 2, color = 'orange')\n",
    "plt.arrow((1/2)*k_star(), 1.7*c_star(), dx=0, dy=0.3, head_width = 2, head_length= 0.2, color = 'green')\n",
    "plt.arrow((1/2)*k_star(), 1.7*c_star(), dx=-5, dy=0, head_width = 0.15, head_length= 2, color = 'orange')\n",
    "\n",
    "plt.arrow(2*k_star(), (1/2)*c_star(), dx=0, dy=-0.3, head_width = 2, head_length = 0.2, color = 'green')\n",
    "plt.arrow(2*k_star(), (1/2)*c_star(), dx=5, dy=0, head_width = 0.15, head_length = 2, color = 'orange')\n",
    "plt.arrow(2*k_star(), 2*c_star(), dx=0, dy=-0.3, head_width = 2, head_length = 0.2, color = 'green')\n",
    "plt.arrow(2*k_star(), 2*c_star(), dx=-5, dy=0, head_width = 0.15, head_length = 2, color = 'orange')\n",
    "\n",
    "#c.3 Adding axis labels and title\n",
    "plt.xlabel('Capital ($\\hat{k}$)', fontsize = 12)\n",
    "plt.ylabel('Consumption ($\\hat{c}$)', fontsize = 12)\n",
    "plt.title('Ramsey Model Phase Diagram ', fontsize=15, weight='bold', pad = 10)\n",
    "plt.show()"
   ]
  },
  {
   "cell_type": "markdown",
   "metadata": {},
   "source": [
    "The dashed black line represents the $\\dot{k}=0$ loci and red line the $\\dot{c}=0$ loci (the other loci where $\\dot{c}=0$ corresponds the the horizontal axis $\\hat{c}=0$). The red dot displays, instead, the steady state.\n",
    "The arrows depict the nature of the dinamics for consumption and capital. So, consumption rises for value of capital $\\hat{k}<k^{*}$ (green arrows point upwards) and decreases otherwise (green arrows point downwards). Capital, instead, falls for values of consumption above the dashed loci (yellow arrows point leftwards) and rises for values below (yellow arrows point rightwards)."
   ]
  },
  {
   "cell_type": "markdown",
   "metadata": {},
   "source": [
    "### 5.3 Plotting different  paths"
   ]
  },
  {
   "cell_type": "markdown",
   "metadata": {},
   "source": [
    "In the previous subsection we got an overall idea of the dinamics of the systems. Now, we are going to plot the consumption/capital paths for different initial values of consumption. We will see that only one precise value of $c_0$ will lead us to the the steady state and this path is called the saddle path."
   ]
  },
  {
   "cell_type": "code",
   "execution_count": 14,
   "metadata": {},
   "outputs": [],
   "source": [
    "#a. Create dictionary for all parameters values\n",
    "parameters = {'rho':rho, 'theta':theta, 'n':n, 'alpha':alpha, 'x':x, 'delta':delta}\n",
    "\n",
    "#b. Create a class to make our plotting easier\n",
    "class Ramsey(object):\n",
    "    \n",
    "    def __init__(self, parameters, k_t=None, c_t=None):\n",
    "        \n",
    "        # current value of state variable, k\n",
    "        self.c_t            = c_t\n",
    "        self.k_t            = k_t\n",
    "        # dictionary of parameter values\n",
    "        self.par   = parameters\n",
    "        # dictionary of steady state values        \n",
    "        self.steadystate      = {'k_star':self.k_ss(self.par), 'c_star':self.c_ss(self.par)}\n",
    "            \n",
    "        \n",
    "    def k_ss(self, parameters): \n",
    "        \"\"\"\n",
    "        The steady-state level of capital stock per effective worker\n",
    "        \"\"\"\n",
    "        return ((delta + rho + theta*x)/alpha)**(1 / (alpha-1))\n",
    "    \n",
    "    \n",
    "    def c_ss(self, parameters): \n",
    "        \"\"\"\n",
    "        The steady-state level of consumption per effective worker\n",
    "        \"\"\"\n",
    "        k_star = self.k_ss(parameters)\n",
    "        \n",
    "        return prod(k_star)-(n+delta+x)* k_star\n",
    "    \n",
    "\n",
    "    def cap_t1(self, k_t, c_t):\n",
    "        \"\"\"\n",
    "        Next period's capital stock per effective worker \n",
    "        \"\"\"\n",
    "        return np.exp(-(x + n)) * (k_t**alpha + np.exp(-delta) * k_t - c_t)\n",
    "    \n",
    "    \n",
    "    def cons_t1(self, k_t, c_t):\n",
    "        \"\"\"\n",
    "        Next period's consumption per effective worker\n",
    "        \"\"\"\n",
    "        return np.exp(-x) * (np.exp(-rho) * (np.exp(-delta) + alpha * cap_t1(k_t, c_t)**(alpha - 1)))**(1 / theta) * c_t\n",
    "    \n",
    "\n",
    "    def follow(self):\n",
    "        \"\"\"\n",
    "        Update the state variables\n",
    "        \"\"\"\n",
    "        self.k_t = self.cap_t1(self.k_t, self.c_t) \n",
    "        self.c_t = self.cons_t1(self.k_t, self.c_t)\n",
    "\n",
    "    def sample(self, n=None):\n",
    "        \"\"\"\n",
    "        Generate sample path of length n starting from the current state\n",
    "        \"\"\"\n",
    "        path = np.zeros(shape=(n, 2))\n",
    "        \n",
    "        for s in range(n):\n",
    "            path[s, 0] = self.k_t\n",
    "            path[s, 1] = self.c_t\n",
    "            self.follow()\n",
    "        \n",
    "        return path\n",
    "\n",
    "    \n",
    "\n",
    "    def algorithm(self, k0=None, c0=None, eps=1.5e-07):\n",
    "        \"\"\"\n",
    "        Non-linear saddle path for the Ramsey model using the \n",
    "        'forward shooting' algorithm \n",
    "        \"\"\"\n",
    "        # compute steady state values\n",
    "        k_star, c_star = self.steadystate['k_star'], self.steadystate['c_star']\n",
    "        \n",
    "        if k0 <= k_star:\n",
    "            c_low = 0\n",
    "            c_high = c_star\n",
    "        else:\n",
    "            c_low = c_star\n",
    "            c_high = k0**alpha\n",
    "        c0 = (c_high + c_low) / 2\n",
    "        self.k_t, self.c_t = k0, c0\n",
    "    \n",
    "        # Initialize a counter\n",
    "        col  = 0\n",
    "        iterations = 0\n",
    "        \n",
    "        # Forward Shooting Algorithm\n",
    "        while 1:\n",
    "            self.follow()\n",
    "            dis = np.abs(((self.k_t - k_star)**2 + (self.c_t - c_star)**2)**1/2)\n",
    "            col = col + 1\n",
    "            if k0 <= k_star:\n",
    "                if self.k_t > k_star:\n",
    "                    if dis < eps:\n",
    "                        break\n",
    "                    else: # initial c_low too low\n",
    "                        c_low = c0\n",
    "                        c0 = (c_high + c_low) / 2\n",
    "                        self.k_t, self.c_t = k0, c0\n",
    "                        col = 0\n",
    "                if self.c_t > c_star:\n",
    "                    if dis < eps:\n",
    "                        break\n",
    "                    else: # initial c_high too high\n",
    "                        c_high = c0 \n",
    "                        c0 = (c_high + c_low) / 2\n",
    "                        self.k_t, self.c_t = k0, c0\n",
    "                        col = 0\n",
    "            else:\n",
    "                if self.k_t < k_star:\n",
    "                    if dis < eps:\n",
    "                        break\n",
    "                    else: # initial c_low too high\n",
    "                        c_high = c0 \n",
    "                        c0 = (c_high + c_low) / 2\n",
    "                        self.k_t, self.c_t = k0, c0\n",
    "                        col = 0\n",
    "                if self.c_t < c_star:\n",
    "                    if dis < eps:\n",
    "                        break\n",
    "                    else: # initial c_low too low\n",
    "                        c_low = c0\n",
    "                        c0 = (c_high + c_low) / 2\n",
    "                        self.k_t, self.c_t = k0, c0\n",
    "                        col = 0\n",
    "                \n",
    "        self.k_t, self.c_t = k0, c0\n",
    "        solution = self.sample(col)\n",
    "\n",
    "        return [self.c_t, solution, col, dis]\n"
   ]
  },
  {
   "cell_type": "code",
   "execution_count": 15,
   "metadata": {},
   "outputs": [
    {
     "name": "stderr",
     "output_type": "stream",
     "text": [
      "C:\\Users\\maria\\Anaconda3\\lib\\site-packages\\ipykernel_launcher.py:3: RuntimeWarning: invalid value encountered in double_scalars\n",
      "  This is separate from the ipykernel package so we can avoid doing imports until\n",
      "C:\\Users\\maria\\Anaconda3\\lib\\site-packages\\ipykernel_launcher.py:51: RuntimeWarning: invalid value encountered in double_scalars\n",
      "C:\\Users\\maria\\Anaconda3\\lib\\site-packages\\ipykernel_launcher.py:62: RuntimeWarning: invalid value encountered in double_scalars\n",
      "C:\\Users\\maria\\Anaconda3\\lib\\site-packages\\ipykernel_launcher.py:62: RuntimeWarning: invalid value encountered in double_scalars\n",
      "C:\\Users\\maria\\Anaconda3\\lib\\site-packages\\ipykernel_launcher.py:62: RuntimeWarning: invalid value encountered in double_scalars\n",
      "C:\\Users\\maria\\Anaconda3\\lib\\site-packages\\ipykernel_launcher.py:62: RuntimeWarning: invalid value encountered in double_scalars\n",
      "C:\\Users\\maria\\Anaconda3\\lib\\site-packages\\ipykernel_launcher.py:3: RuntimeWarning: invalid value encountered in double_scalars\n",
      "  This is separate from the ipykernel package so we can avoid doing imports until\n",
      "C:\\Users\\maria\\Anaconda3\\lib\\site-packages\\ipykernel_launcher.py:51: RuntimeWarning: invalid value encountered in double_scalars\n"
     ]
    },
    {
     "data": {
      "image/png": "[encoded data removed]",
      "text/plain": [
       "<Figure size 864x504 with 1 Axes>"
      ]
     },
     "metadata": {
      "needs_background": "light"
     },
     "output_type": "display_data"
    }
   ],
   "source": [
    "\n",
    "#c. Create a reference to the class Ramsey\n",
    "ram = Ramsey(parameters)\n",
    "\n",
    "#d. Initial levels of consumption and production\n",
    "ram.c_t, ram.k_t = 10, 0.5\n",
    "\n",
    "#e. Updating the system \n",
    "ram.follow()\n",
    "ram.k_t, ram.c_t\n",
    "\n",
    "#f. Generating a sample path of length 10  and grid\n",
    "ram.sample(30)\n",
    "x1_vec = np.linspace(0, 500, 7000)\n",
    "\n",
    "#g. Given an initial level of capital\n",
    "k0 = 0.5 * ram.steadystate['k_star']\n",
    "\n",
    "#h. Different initial conditions for choices of consumption per effective worker\n",
    "in_consvalues = np.linspace(0.5 * ram.steadystate['c_star'], 1.5 * ram.steadystate['c_star'], num=7)\n",
    "\n",
    "#i. Creating a new plot\n",
    "phase1 = plt.figure(figsize=(12,7))\n",
    "\n",
    "#j Sample path for each value of consumption\n",
    "for c_t in in_consvalues:\n",
    "    ram.k_t, ram.c_t = k0, c_t\n",
    "    tmr = ram.sample(3000) \n",
    "    plt.plot(tmr[:, 0], tmr[:, 1], linestyle ='dashed')\n",
    "\n",
    "#k. Adding loci \n",
    "plt.plot(x1_vec, locus_cap(x1_vec), linestyle = 'solid', color ='black')\n",
    "plt.axvline(ram.steadystate['k_star'], linestyle = 'solid', color='black' )\n",
    "plt.plot(ram.steadystate['k_star'], ram.steadystate['c_star'], marker='o', markersize=10, color='red') \n",
    "\n",
    "#l. Adding saddle path\n",
    "ram_sol = ram.algorithm(k0, eps=1.5e-04)\n",
    "plt.plot(ram_sol[1][:, 0], ram_sol[1][:, 1], linestyle = 'solid', color='red')\n",
    "\n",
    "#m. Adding the line which identify initial level of capital per worker and k0, k** symbol\n",
    "plt.axvline(k0, linestyle='--', color = 'red')\n",
    "plt.text(130, 0, \"$\\hat{k}$**\", color=\"black\", ha='center', va = 'top', fontsize=12)\n",
    "plt.text(k0, 0, \"$\\hat{k}_0$\", color=\"black\", ha='center', va = 'top', fontsize=12)\n",
    "\n",
    "#n. Adding axis features and title\n",
    "plt.xlim(0, 130)\n",
    "plt.ylim(0, 4)\n",
    "plt.xlabel('Capital ($\\hat{k}$)', fontsize = 12)\n",
    "plt.ylabel('Consumption ($\\hat{c}$)', fontsize = 12)\n",
    "plt.title('Different Paths & Optimal Saddle Path', fontsize=15, weight='bold')\n",
    "\n",
    "\n",
    "plt.show()"
   ]
  },
  {
   "cell_type": "markdown",
   "metadata": {},
   "source": [
    "The figure shows the dynamics of consumption and capital for different initial values of consumption given a specific initial $k_0$. We can also see the optimal saddle-path (red solid line) which is unique and can be achieved if only that particular $c_0$ is chosen. The saddle-path is the sequence that  leads to the steady state given an initial amount of capital. As we have previously detected in the generic phase diagram, values of $c_0$ too low bring to the condition of full capital and no consumption $\\hat{k}^{**}$, meanwhile value of $c_0$ too high bring to the condition of full consumption but any capital."
   ]
  },
  {
   "cell_type": "code",
   "execution_count": 18,
   "metadata": {},
   "outputs": [
    {
     "name": "stderr",
     "output_type": "stream",
     "text": [
      "C:\\Users\\maria\\Anaconda3\\lib\\site-packages\\ipykernel_launcher.py:3: RuntimeWarning: invalid value encountered in double_scalars\n",
      "  This is separate from the ipykernel package so we can avoid doing imports until\n",
      "C:\\Users\\maria\\Anaconda3\\lib\\site-packages\\ipykernel_launcher.py:51: RuntimeWarning: invalid value encountered in double_scalars\n",
      "C:\\Users\\maria\\Anaconda3\\lib\\site-packages\\ipykernel_launcher.py:62: RuntimeWarning: invalid value encountered in double_scalars\n",
      "C:\\Users\\maria\\Anaconda3\\lib\\site-packages\\ipykernel_launcher.py:62: RuntimeWarning: invalid value encountered in double_scalars\n",
      "C:\\Users\\maria\\Anaconda3\\lib\\site-packages\\ipykernel_launcher.py:62: RuntimeWarning: invalid value encountered in double_scalars\n"
     ]
    },
    {
     "data": {
      "image/png": "[encoded data removed]",
      "text/plain": [
       "<Figure size 864x504 with 1 Axes>"
      ]
     },
     "metadata": {
      "needs_background": "light"
     },
     "output_type": "display_data"
    }
   ],
   "source": [
    "#g. Given an initial level of capital\n",
    "k0 = 2 * ram.steadystate['k_star']\n",
    "\n",
    "#h. Different initial conditions for choices of consumption per effective worker\n",
    "in_consvalues = np.linspace(1 * ram.steadystate['c_star'], 2 * ram.steadystate['c_star'], num=7)\n",
    "\n",
    "#i. Creating a new plot\n",
    "phase1 = plt.figure(figsize=(12,7))\n",
    "\n",
    "#j Sample path for each value of consumption\n",
    "for c_t in in_consvalues:\n",
    "    ram.k_t, ram.c_t = k0, c_t\n",
    "    tmr = ram.sample(3000) \n",
    "    plt.plot(tmr[:, 0], tmr[:, 1], linestyle ='dashed')\n",
    "\n",
    "#k. Adding loci \n",
    "plt.plot(x1_vec, locus_cap(x1_vec), linestyle = 'solid', color ='black')\n",
    "plt.axvline(ram.steadystate['k_star'], linestyle = 'solid', color='black' )\n",
    "plt.plot(ram.steadystate['k_star'], ram.steadystate['c_star'], marker='o', markersize=10, color='red') \n",
    "\n",
    "#l. Adding saddle path\n",
    "ram_sol = ram.algorithm(k0, eps=1.5e-04)\n",
    "plt.plot(ram_sol[1][:, 0], ram_sol[1][:, 1], linestyle = 'solid', color='red')\n",
    "\n",
    "#m. Adding the line which identify initial level of capital per worker and k0, k** symbol\n",
    "plt.axvline(k0, linestyle='--', color = 'red')\n",
    "plt.text(130, 0, \"$\\hat{k}$**\", color=\"black\", ha='center', va = 'top', fontsize=12)\n",
    "plt.text(k0, 0, \"$\\hat{k}_0$\", color=\"black\", ha='center', va = 'top', fontsize=12)\n",
    "\n",
    "#n. Adding axis features and title\n",
    "plt.xlim(0, 130)\n",
    "plt.ylim(0, 4)\n",
    "plt.xlabel('Capital ($\\hat{k}$)', fontsize = 12)\n",
    "plt.ylabel('Consumption ($\\hat{c}$)', fontsize = 12)\n",
    "plt.title('Different Paths & Optimal Saddle Path', fontsize=15, weight='bold')\n",
    "\n",
    "plt.show()"
   ]
  },
  {
   "cell_type": "markdown",
   "metadata": {},
   "source": [
    "We have chosen another $\\hat{k}_0$, this time on the right of the steady state. We can see again the optimal saddle-path (red solid line) which is unique and can be achieved if only that particular value of $c_0$ is chosen. Again, Values of $\\hat{c}_0$ too low bring to the condition of full capital and no consumption $\\hat{k}^{**}$, meanwhile value of $\\hat{c}_0$ too high bring to the condition of full consumption but any capital."
   ]
  },
  {
   "cell_type": "markdown",
   "metadata": {},
   "source": [
    "## 6. Conclusion"
   ]
  },
  {
   "cell_type": "markdown",
   "metadata": {},
   "source": [
    "In conclusion, we have seen the optimizing behaviour of our consumer and our firm individually. In the Ramsey model their interaction produced the phase diagram of *Section.5*. In particular the elasticity of intertemporal substitution ($1/\\theta$) determines the speed of the adjustment to the steady state and the behavior of the saving rate during the transition. For example, if the elasticity is high then large changes in consumption are not very costly to consumers and, if the real interest rate is high, they will save more. Instead, if the elasticity is low and the real interest rate high, then the consumption smoothing motive is very strong and consumer will save less and consume more."
   ]
  }
 ],
 "metadata": {
  "kernelspec": {
   "display_name": "Python 3",
   "language": "python",
   "name": "python3"
  },
  "language_info": {
   "codemirror_mode": {
    "name": "ipython",
    "version": 3
   },
   "file_extension": ".py",
   "mimetype": "text/x-python",
   "name": "python",
   "nbconvert_exporter": "python",
   "pygments_lexer": "ipython3",
   "version": "3.7.4"
  }
 },
 "nbformat": 4,
 "nbformat_minor": 2
}
