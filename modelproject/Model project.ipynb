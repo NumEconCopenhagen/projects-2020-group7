{
 "cells": [
  {
   "cell_type": "markdown",
   "metadata": {},
   "source": [
    "# MODEL PROJECT"
   ]
  },
  {
   "cell_type": "markdown",
   "metadata": {},
   "source": [
    "## 1. Introduction"
   ]
  },
  {
   "cell_type": "markdown",
   "metadata": {},
   "source": [
    "We first start in *section.3* with a classical intertemporal optimization problem in two periods. Our representative household exhibits a CRRA utility function and we want to detect how is optimazing behaviour adapts to changes in the underlying variables. In *section.4*, instead, the focus on the optimizing behaviour of our representative firm. Its production function satisfies the Inada condition  and  exhibits positive but diminishing marginal products. We come up with the optimal conditions to satisfy profit maximization. In *section.5*, we add complexity to the model making our representative consumer and firm interact under the features of the classical Ramsey model. Here, we rely on the book *Robert J.Barro and Xavier Sala-i-Martin, Economic Growth* for the main results. We come up with the phase diagram for different consumption and capital paths trying to detect the unique saddle path and steady state for the particular variables we give to the problem. Finally, *Section.6* concludes."
   ]
  },
  {
   "cell_type": "markdown",
   "metadata": {},
   "source": [
    "## 2. Import packages"
   ]
  },
  {
   "cell_type": "code",
   "execution_count": 2,
   "metadata": {},
   "outputs": [],
   "source": [
    "import numpy as np\n",
    "import scipy as sp\n",
    "import math\n",
    "from scipy import optimize\n",
    "import sympy as sm\n",
    "from scipy import linalg\n",
    "from sympy import Derivative\n",
    "from scipy import interpolate\n",
    "import scipy.integrate as quad\n",
    "from scipy.integrate import odeint\n",
    "import scipy.special as special\n",
    "from scipy.integrate import quad\n",
    "from sympy import symbol,function\n",
    "import ipywidgets as widgets\n",
    "from IPython.display import display\n",
    "\n",
    "#autoreload model when code is run\n",
    "%load_ext autoreload\n",
    "%autoreload 2\n",
    "\n",
    "%matplotlib inline\n",
    "import matplotlib.pyplot as plt\n",
    "plt.style.use('seaborn-whitegrid')\n",
    "from matplotlib import cm\n",
    "import matplotlib as mpl\n",
    "from mpl_toolkits.mplot3d import Axes3D"
   ]
  },
  {
   "cell_type": "markdown",
   "metadata": {},
   "source": [
    "## 3. Consumer optimization problem"
   ]
  },
  {
   "cell_type": "markdown",
   "metadata": {},
   "source": [
    "Before moving to the Ramsey model, we focus on consumers and their optimization problem. The standard Ramsey model assumes that the individual presents a CRRA utility function with respect to consumption of the type:  \n",
    "\n",
    "$$u(c)=\\frac{c^{1-\\theta}-1}{1-\\theta}$$  \n",
    "\n",
    "where $\\theta$ is a measure or relative risk aversion.\n",
    "This type of preferences is really useful in the case $\\theta=1$. In this occasion the CRRA utility becomes a logarithmic utility function.  \n",
    "We now create a simple utility maximization problem with two periods to detect how these preferences impact the consumer optimal behavior. We take into consideration two periods, $t=0$ and $t=1$.   \n",
    "Our representative consumer maximizes consumption in the present $c_0$ and in the future $c_1$ taking into consideration his labour income will be $w_0$ today and $w_1$ tomorrow. So, our utility maximization problem become:  \n",
    "\n",
    "$$max \\hspace{2pt} U(c_0,c_1) = u(c_0)+e^{-\\rho}u(c_1)$$  \n",
    "\n",
    "under the constraint:  \n",
    "\n",
    "$$c_0+\\frac{1}{1+r}{c_1} = w_0 +\\frac{1}{1+r}{w_1}$$  \n",
    "\n",
    "where $\\rho$ is the subjective discount rate and r the interest rate.\n",
    "\n",
    "Now, before solving the problem, we give some initial values:"
   ]
  },
  {
   "cell_type": "code",
   "execution_count": 3,
   "metadata": {},
   "outputs": [],
   "source": [
    "#a. Defining initial parameters\n",
    "theta = 0.5\n",
    "w_t= 10      #present labour income\n",
    "w_t1 = 10     #future labour income\n",
    "rho = 0.9\n",
    "r = 0.5\n",
    "\n",
    "#a. Defining utility function\n",
    "def utility(ct):\n",
    "    return (ct**(1-theta)-1)/(1-theta)\n",
    "\n",
    "#b. Defining utility function for two periods\n",
    "def inter_util(c_t, c_t1):\n",
    "    return utility(c_t)+np.exp(-rho)*utility(c_t1)\n",
    "\n",
    "#c. Defining constraint\n",
    "def constraint(c_t,c_t1):\n",
    "    return w_t+(1/(1+r))*w_t1-c_t-(1/(1+r))*c_t1\n"
   ]
  },
  {
   "cell_type": "markdown",
   "metadata": {},
   "source": [
    "To solve the maximization problem we firstly set the lagrangian:  \n",
    "\n",
    "$$L=\\max_{c_{0},c_{2}}\\bigg(\\frac{c_{0}^{1 - \\theta} - 1}{1 - \\theta}\\bigg) + e^{-\\rho}\\bigg(\\frac{c_{1}^{1 - \\theta} - 1}{1 - \\theta}\\bigg) + \\lambda\\bigg(w_{0} + \\frac{1}{1 + r}w_{1} - c_{0} - \\frac{1}{1 + r}c_{1}\\bigg)$$  \n",
    "\n",
    "and we compute the first order conditions:\n",
    "$$c_{0}^{-\\theta} = \\lambda$$\n",
    "$$e^{-\\rho}c_{1}^{-\\theta}=\\frac{1}{1 + r}\\lambda$$  \n",
    "\n",
    "The above reduces to:\n",
    "$$c_{0}^{-\\theta} = e^{-\\rho}(1 + r)c_{1}^{-\\theta}$$  \n",
    "\n",
    "We transpose the above into code:"
   ]
  },
  {
   "cell_type": "code",
   "execution_count": 13,
   "metadata": {},
   "outputs": [
    {
     "name": "stdout",
     "output_type": "stream",
     "text": [
      "The optimal consumption at the present is: 13.36\n",
      "The optimal consumption tomorrow is: 4.97\n",
      "Utility from optimal bundle is: 6.31\n"
     ]
    }
   ],
   "source": [
    "#d. Defining Euler equation\n",
    "def euler(c_t,c_t1):\n",
    "    return c_t**(-theta)-np.exp(-rho)*(1+r)*(c_t1)**(-theta)\n",
    "\n",
    "#e. Creating optimization function\n",
    "def optimalchoice(x):\n",
    "    op = [euler(x[0], x[1])]\n",
    "    op.append(constraint(x[0],x[1]))\n",
    "    return op\n",
    " \n",
    "#f. Applying fsolve function\n",
    "ct_guess, ct1_guess = 0.5, 0.5\n",
    "ct_star, ct1_star = optimize.fsolve(optimalchoice, x0=(ct_guess, ct1_guess))\n",
    "utility_star = inter_util(ct_star, ct1_star)\n",
    " \n",
    "#g. Printing results\n",
    "print(f'The optimal consumption at the present is: {ct_star:.2f}')\n",
    "print(f'The optimal consumption tomorrow is: {ct1_star:.2f}')\n",
    "print(f'Utility from optimal bundle is: {utility_star:.2f}')"
   ]
  },
  {
   "cell_type": "markdown",
   "metadata": {},
   "source": [
    "We now construct an interactive plot to study the optimal behaviour of our consumer when the underlying parameters change."
   ]
  },
  {
   "cell_type": "code",
   "execution_count": 14,
   "metadata": {},
   "outputs": [],
   "source": [
    "def plot_max_problem(w_t, w_t1, theta, rho, r):\n",
    "\n",
    "    fig1 = plt.figure(figsize=(10,10))\n",
    "    ax = fig1.add_subplot(1,1,1)\n",
    "\n",
    "    #grid of (x,y) values which we will pass to function\n",
    "    x1vec = np.arange(0, 10, 40)\n",
    "    x2vec = np.arange(0, 10, 40)\n",
    "    ct, ct1 = np.meshgrid(x1vec, x2vec)\n",
    "    uti = inter_util(x1vec, x2vec)\n",
    " \n",
    "    cr=ct_star\n",
    "    cr1= ct1_star\n",
    "    \n",
    "    # plot the budget constraint\n",
    "    cons_today = np.linspace(0, 10, 40)\n",
    "    ax.plot(cons_today, (1 + r) * (w_t - cons_today) + w_t1, \n",
    "           color='k')\n",
    "\n",
    "    # demarcate the indifference curve\n",
    "    CS = ax.plot(ct, ct1, uti, np.array([utility_star]), color='k', linewidth=1, linestyle='solid')\n",
    "   \n",
    "    # mark the optimal bundle\n",
    "    ax.hlines(cr, 0, cr1, linestyle='dashed')\n",
    "    ax.vlines(cr1, 0, cr, linestyle='dashed')\n",
    "\n",
    "    # axes, labels, title, colorbar \n",
    "    ax.set_xlim(0, 15)\n",
    "    ax.set_ylim(0, 15)\n",
    "    ax.set_xlabel(r'Present Consumption, $C_{t}$', fontsize=12)\n",
    "    ax.set_ylabel(r'Future Consumption, $C_{t+1}$', fontsize=12)\n",
    "    ax.set_title(r'Optimal bundle for CRRA utility', fontsize=20, pad=15)\n",
    "    plt.show()\n",
    "\n",
    "def plot_time():\n",
    "    widgets.interact(plot_max_problem,\n",
    "    w_t= widgets.IntSlider(\n",
    "           description='$w_{t}$',\n",
    "           min=0,\n",
    "           max=10,\n",
    "           step=1,\n",
    "           value=5,\n",
    "           continuous_update=False,\n",
    "    ),\n",
    "    \n",
    "    w_t1 = widgets.IntSlider(\n",
    "            description=\"$w_{t+1}$\",\n",
    "            min=0,\n",
    "            max=10,\n",
    "            step=1,\n",
    "            value=5,\n",
    "            continuous_update=False,\n",
    "    ),\n",
    "    theta = widgets.FloatSlider(\n",
    "            description=\"$\\\\theta$\",\n",
    "            min=0.5,\n",
    "            max=0.9,\n",
    "            step=0.02,\n",
    "            value=0.5,\n",
    "            continuous_update=False,\n",
    "    ),\n",
    "    rho = widgets.FloatSlider(\n",
    "            description=\"$\\\\rho$\",\n",
    "            min=0.9,\n",
    "            max=0.99,\n",
    "            step=0.01,\n",
    "            value=0.9,\n",
    "            continuous_update=False,\n",
    "    ),\n",
    "    r = widgets.FloatSlider(\n",
    "            description=\"$r$\",\n",
    "            min=0.01,\n",
    "            max=0.1,\n",
    "            step=0.005,\n",
    "            value=0.03,\n",
    "            continuous_update=False,\n",
    "    ),\n",
    ");  \n",
    "    "
   ]
  },
  {
   "cell_type": "code",
   "execution_count": 15,
   "metadata": {},
   "outputs": [
    {
     "data": {
      "application/vnd.jupyter.widget-view+json": {
       "model_id": "2e55ae73c2e14269bb7b71f8bd61d6b5",
       "version_major": 2,
       "version_minor": 0
      },
      "text/plain": [
       "interactive(children=(IntSlider(value=5, continuous_update=False, description='$w_{t}$', max=10), IntSlider(va…"
      ]
     },
     "metadata": {},
     "output_type": "display_data"
    }
   ],
   "source": [
    "plot_time()"
   ]
  },
  {
   "cell_type": "code",
   "execution_count": 16,
   "metadata": {},
   "outputs": [],
   "source": [
    "\n",
    "def plot_max_problem(w_t, w_t1, theta, rho):\n",
    "\n",
    "    fig1 = plt.figure(dpi=150)\n",
    "    ax = fig1.add_subplot(1,1,1)\n",
    "\n",
    "    #grid of (x,y) values which we will pass to function\n",
    "    ct_range = np.linspace(0, 10, 100)\n",
    "    ct1_range = np.linspace(0, 10, 100)\n",
    "    c_t, c_t1 = np.meshgrid(ct_range, ct1_range)\n",
    "    \n",
    "    # we will actually plot utility\n",
    "    uti = inter_util(c_t, c_t1)\n",
    "    \n",
    "    cr=ct_star\n",
    "    cr1= ct1_star\n",
    "    \n",
    "    # plot the budget constraint\n",
    "    cons_today = np.linspace(0, 10, 100)\n",
    "    ax.plot(cons_today, (1 + r) * (w_t - cons_today) + w_t1, \n",
    "           color='r')\n",
    "\n",
    "    # demarcate the indifference curve\n",
    "    CS = ax.plot(cr, cr1, uti, np.array([utility_star]), colors='k', linewidths=1, linestyles='solid')\n",
    "    ax.clabel(CS, inline=1, fmt='%1.4f')\n",
    "    ax.plot()\n",
    "    # mark the optimal bundle\n",
    "    ax.hlines(ct_star, 0, ct1_star, linestyle='dashed')\n",
    "    ax.vlines(ct1_star, 0, ct_star, linestyle='dashed')\n",
    "\n",
    "    # axes, labels, title, colorbar \n",
    "    ax.set_xlim(0, 10)\n",
    "    ax.set_ylim(0, 10)\n",
    "    ax.set_xlabel(r'Present Consumption, $C_{t}$', fontsize=10)\n",
    "    ax.set_ylabel(r'Future Consumption, $C_{t+1}$', fontsize=10)\n",
    "    ax.set_title(r'Optimal bundle for CRRA utility', fontsize=15)\n",
    "    plt.show()\n",
    "\n",
    "def plot_time():\n",
    "    widgets.interact(plot_max_problem,\n",
    "    w_t= widgets.FloatSlider(\n",
    "           description='$w_{t}$',\n",
    "           min=0,\n",
    "           max=10,\n",
    "           step=1,\n",
    "           value=5,\n",
    "           continuous_update=False,\n",
    "    ),\n",
    "    \n",
    "    w_t1 = widgets.FloatSlider(\n",
    "            description=\"$w_{t+1}$\",\n",
    "            min=0,\n",
    "            max=10,\n",
    "            step=1,\n",
    "            value=5,\n",
    "            continuous_update=False,\n",
    "    ),\n",
    "    theta = widgets.FloatSlider(\n",
    "            description=\"$\\\\theta$\",\n",
    "            min=0.5,\n",
    "            max=0.9,\n",
    "            step=0.02,\n",
    "            value=0.5,\n",
    "            continuous_update=False,\n",
    "    ),\n",
    "    rho = widgets.FloatSlider(\n",
    "            description=\"$\\\\rho$\",\n",
    "            min=0.9,\n",
    "            max=0.99,\n",
    "            step=0.01,\n",
    "            value=0.9,\n",
    "            continuous_update=False,\n",
    "    ),\n",
    ");  \n",
    "    "
   ]
  },
  {
   "cell_type": "code",
   "execution_count": 17,
   "metadata": {},
   "outputs": [
    {
     "data": {
      "application/vnd.jupyter.widget-view+json": {
       "model_id": "56a3097bef7644c7a8e7bc13dd8eb7ad",
       "version_major": 2,
       "version_minor": 0
      },
      "text/plain": [
       "interactive(children=(FloatSlider(value=5.0, continuous_update=False, description='$w_{t}$', max=10.0, step=1.…"
      ]
     },
     "metadata": {},
     "output_type": "display_data"
    },
    {
     "data": {
      "image/png": "[encoded data removed]",
      "text/plain": [
       "<Figure size 900x600 with 1 Axes>"
      ]
     },
     "metadata": {
      "needs_background": "light"
     },
     "output_type": "display_data"
    }
   ],
   "source": [
    "\n"
   ]
  },
  {
   "cell_type": "markdown",
   "metadata": {},
   "source": [
    "## 4. Firm optimization problem "
   ]
  },
  {
   "cell_type": "markdown",
   "metadata": {},
   "source": [
    "In the Ramsey model the represenatative firm has a production function that satisfies the neoclassical properties of constant return to scale in $K$ (capital) and $L$ (Labour) and each input exhibits positive but diminishing marginal product. We will deal with quantities per unit of effective labor. So the production function will be written in intensive form:\n",
    "$\\hat{y}=f(\\hat{k})$ where $\\hat{y}=\\frac{Y}{LT}$, $\\hat{k}=\\frac{K}{LT}$ and T is the technology.\n",
    "\n",
    "Specifically, we are going to assume the following production function:  \n",
    "\n",
    "$$\\hat{y}=f(\\hat{k})=k^{\\alpha}$$  \n",
    "\n",
    "where $\\alpha$ is the capital share of output and $k$ is capital per effective labour. \n",
    "From now on, for simplicity, we assume that technology will increase at the rate $x=0$.\n",
    "We now check that in this case the marginal product of capital are diminishing ($f''< 0$) and that the Inada conditions are satisfied."
   ]
  },
  {
   "cell_type": "code",
   "execution_count": 21,
   "metadata": {},
   "outputs": [],
   "source": [
    "#a. Transposing into symbols\n",
    "sm.init_printing(use_unicode=True) # for pretty printing        \n",
    "alpha = sm.symbols('alpha')        # capital share\n",
    "k = sm.symbols('k')                 # capital per effective worker               \n",
    "W = sm.symbols('W')                # wage\n",
    "l = sm.symbols('l')\n",
    "T = sm.symbols('T')\n",
    "delta = sm.symbols('delta')\n",
    "r = sm.symbols('r')\n",
    "w = sm.symbols('w')\n",
    "L = sm.symbols('L')"
   ]
  },
  {
   "cell_type": "code",
   "execution_count": 22,
   "metadata": {},
   "outputs": [
    {
     "name": "stdout",
     "output_type": "stream",
     "text": [
      "The production function is:\n"
     ]
    },
    {
     "data": {
      "image/png": "[encoded data removed]",
      "text/latex": [
       "$\\displaystyle k^{\\alpha}$"
      ],
      "text/plain": [
       " α\n",
       "k "
      ]
     },
     "metadata": {},
     "output_type": "display_data"
    },
    {
     "name": "stdout",
     "output_type": "stream",
     "text": [
      "The profit function is:\n"
     ]
    },
    {
     "data": {
      "image/png": "[encoded data removed]",
      "text/latex": [
       "$\\displaystyle - L w - k \\left(\\delta + r\\right) + k^{\\alpha}$"
      ],
      "text/plain": [
       "                    α\n",
       "-L⋅w - k⋅(δ + r) + k "
      ]
     },
     "metadata": {},
     "output_type": "display_data"
    },
    {
     "name": "stdout",
     "output_type": "stream",
     "text": [
      "The first derivative with respect to k is:\n"
     ]
    },
    {
     "data": {
      "image/png": "[encoded data removed]",
      "text/latex": [
       "$\\displaystyle \\frac{\\alpha k^{\\alpha}}{k}$"
      ],
      "text/plain": [
       "   α\n",
       "α⋅k \n",
       "────\n",
       " k  "
      ]
     },
     "metadata": {},
     "output_type": "display_data"
    },
    {
     "name": "stdout",
     "output_type": "stream",
     "text": [
      "The second derivative with respect to k is:\n"
     ]
    },
    {
     "data": {
      "image/png": "[encoded data removed]",
      "text/latex": [
       "$\\displaystyle \\frac{\\alpha k^{\\alpha} \\left(\\alpha - 1\\right)}{k^{2}}$"
      ],
      "text/plain": [
       "   α        \n",
       "α⋅k ⋅(α - 1)\n",
       "────────────\n",
       "      2     \n",
       "     k      "
      ]
     },
     "metadata": {},
     "output_type": "display_data"
    },
    {
     "name": "stdout",
     "output_type": "stream",
     "text": [
      "First Inada condition is:\n"
     ]
    },
    {
     "data": {
      "image/png": "[encoded data removed]",
      "text/latex": [
       "$\\displaystyle \\lim_{k \\to 0^+}\\left(\\frac{\\alpha k^{\\alpha}}{k}\\right)$"
      ],
      "text/plain": [
       "     ⎛   α⎞\n",
       "     ⎜α⋅k ⎟\n",
       " lim ⎜────⎟\n",
       "k─→0⁺⎝ k  ⎠"
      ]
     },
     "metadata": {},
     "output_type": "display_data"
    },
    {
     "name": "stdout",
     "output_type": "stream",
     "text": [
      "Second Inada condition is:\n"
     ]
    },
    {
     "ename": "NameError",
     "evalue": "name 'K' is not defined",
     "output_type": "error",
     "traceback": [
      "\u001b[1;31m---------------------------------------------------------------------------\u001b[0m",
      "\u001b[1;31mNameError\u001b[0m                                 Traceback (most recent call last)",
      "\u001b[1;32m<ipython-input-22-7d48a85e5437>\u001b[0m in \u001b[0;36m<module>\u001b[1;34m\u001b[0m\n\u001b[0;32m     22\u001b[0m \u001b[0mdisplay\u001b[0m\u001b[1;33m(\u001b[0m\u001b[0minada1\u001b[0m\u001b[1;33m)\u001b[0m\u001b[1;33m\u001b[0m\u001b[1;33m\u001b[0m\u001b[0m\n\u001b[0;32m     23\u001b[0m \u001b[0mprint\u001b[0m\u001b[1;33m(\u001b[0m\u001b[1;34mf'Second Inada condition is:'\u001b[0m\u001b[1;33m)\u001b[0m\u001b[1;33m\u001b[0m\u001b[1;33m\u001b[0m\u001b[0m\n\u001b[1;32m---> 24\u001b[1;33m \u001b[0minada2\u001b[0m \u001b[1;33m=\u001b[0m \u001b[0msm\u001b[0m\u001b[1;33m.\u001b[0m\u001b[0mLimit\u001b[0m\u001b[1;33m(\u001b[0m\u001b[0msol\u001b[0m\u001b[1;33m,\u001b[0m\u001b[0mK\u001b[0m\u001b[1;33m,\u001b[0m \u001b[0msm\u001b[0m\u001b[1;33m.\u001b[0m\u001b[0moo\u001b[0m\u001b[1;33m)\u001b[0m\u001b[1;33m\u001b[0m\u001b[1;33m\u001b[0m\u001b[0m\n\u001b[0m\u001b[0;32m     25\u001b[0m \u001b[0mdisplay\u001b[0m\u001b[1;33m(\u001b[0m\u001b[0minada2\u001b[0m\u001b[1;33m)\u001b[0m\u001b[1;33m\u001b[0m\u001b[1;33m\u001b[0m\u001b[0m\n",
      "\u001b[1;31mNameError\u001b[0m: name 'K' is not defined"
     ]
    }
   ],
   "source": [
    "#b. Defining production function\n",
    "prod = k**alpha\n",
    "print(f'The production function is:')\n",
    "display(prod)\n",
    "\n",
    "#c. Defining profit function\n",
    "profit = prod - (r+delta)*k -w*L\n",
    "print(f'The profit function is:')\n",
    "display(profit)\n",
    "\n",
    "#d. Calculating first and second derivatives with respect to k\n",
    "print(f'The first derivative with respect to k is:')\n",
    "sol = sm.diff(prod,k)\n",
    "display(sol)\n",
    "print(f'The second derivative with respect to k is:')\n",
    "sol1 = sm.diff(prod,k, k)\n",
    "display(sol1)\n",
    "\n",
    "#e. Check Inada conditions\n",
    "print(f'First Inada condition is:')\n",
    "inada1 = sm.Limit(sol,k,0)\n",
    "display(inada1)\n",
    "print(f'Second Inada condition is:')\n",
    "inada2 = sm.Limit(sol,K, sm.oo)\n",
    "display(inada2)\n"
   ]
  },
  {
   "cell_type": "code",
   "execution_count": 23,
   "metadata": {},
   "outputs": [
    {
     "name": "stdout",
     "output_type": "stream",
     "text": [
      "Optimazing the profit with respect to k, we obtain:\n"
     ]
    },
    {
     "data": {
      "image/png": "[encoded data removed]",
      "text/latex": [
       "$\\displaystyle \\frac{\\alpha k^{\\alpha}}{k} - \\delta - r = 0$"
      ],
      "text/plain": [
       "   α            \n",
       "α⋅k             \n",
       "──── - δ - r = 0\n",
       " k              "
      ]
     },
     "metadata": {},
     "output_type": "display_data"
    },
    {
     "name": "stdout",
     "output_type": "stream",
     "text": [
      "And the optimal k is:\n"
     ]
    },
    {
     "data": {
      "image/png": "[encoded data removed]",
      "text/latex": [
       "$\\displaystyle \\left[ \\left(\\frac{\\delta + r}{\\alpha}\\right)^{\\frac{1}{\\alpha - 1}}\\right]$"
      ],
      "text/plain": [
       "⎡         1  ⎤\n",
       "⎢       ─────⎥\n",
       "⎢       α - 1⎥\n",
       "⎢⎛δ + r⎞     ⎥\n",
       "⎢⎜─────⎟     ⎥\n",
       "⎣⎝  α  ⎠     ⎦"
      ]
     },
     "metadata": {},
     "output_type": "display_data"
    }
   ],
   "source": [
    "#f. Profit maximization with respect to capital per effective worker\n",
    "print(f'Optimazing the profit with respect to k, we obtain:')\n",
    "profitk = sm.Eq(sm.diff(profit,k))\n",
    "display(profitk)\n",
    "print(f'And the optimal k is:')\n",
    "profitk1 = sm.solve(profitk,k)\n",
    "display(profitk1)"
   ]
  },
  {
   "cell_type": "code",
   "execution_count": 24,
   "metadata": {},
   "outputs": [
    {
     "name": "stdout",
     "output_type": "stream",
     "text": [
      "Optimazing the profit with respect to w, we obtain:\n"
     ]
    },
    {
     "data": {
      "text/latex": [
       "$\\displaystyle \\text{True}$"
      ],
      "text/plain": [
       "True"
      ]
     },
     "metadata": {},
     "output_type": "display_data"
    },
    {
     "name": "stdout",
     "output_type": "stream",
     "text": [
      "And the optimal l is:\n"
     ]
    },
    {
     "data": {
      "image/png": "[encoded data removed]",
      "text/latex": [
       "$\\displaystyle \\left[ \\right]$"
      ],
      "text/plain": [
       "[]"
      ]
     },
     "metadata": {},
     "output_type": "display_data"
    }
   ],
   "source": [
    "#d. Profit maximization with respect to labour per effective worker\n",
    "print(f'Optimazing the profit with respect to w, we obtain:')\n",
    "profitl = sm.Eq(sm.diff(profit,l))\n",
    "display(profitl)\n",
    "print(f'And the optimal l is:')\n",
    "profitl1 = sm.solve(profitl,l)\n",
    "display(profitl1)"
   ]
  },
  {
   "cell_type": "code",
   "execution_count": 25,
   "metadata": {},
   "outputs": [
    {
     "ename": "NameError",
     "evalue": "name 'K' is not defined",
     "output_type": "error",
     "traceback": [
      "\u001b[1;31m---------------------------------------------------------------------------\u001b[0m",
      "\u001b[1;31mNameError\u001b[0m                                 Traceback (most recent call last)",
      "\u001b[1;32m<ipython-input-25-202eca6f9ed0>\u001b[0m in \u001b[0;36m<module>\u001b[1;34m\u001b[0m\n\u001b[1;32m----> 1\u001b[1;33m \u001b[0ma\u001b[0m \u001b[1;33m=\u001b[0m \u001b[1;33m(\u001b[0m\u001b[0mK\u001b[0m\u001b[1;33m/\u001b[0m\u001b[1;33m(\u001b[0m\u001b[0mL\u001b[0m\u001b[1;33m)\u001b[0m\u001b[1;33m)\u001b[0m\u001b[1;33m**\u001b[0m\u001b[0malpha\u001b[0m\u001b[1;33m-\u001b[0m\u001b[1;33m(\u001b[0m\u001b[0mK\u001b[0m\u001b[1;33m/\u001b[0m\u001b[1;33m(\u001b[0m\u001b[0mL\u001b[0m\u001b[1;33m)\u001b[0m\u001b[1;33m)\u001b[0m\u001b[1;33m*\u001b[0m\u001b[1;33m(\u001b[0m\u001b[0mr\u001b[0m\u001b[1;33m+\u001b[0m\u001b[0mdelta\u001b[0m\u001b[1;33m)\u001b[0m\u001b[1;33m-\u001b[0m\u001b[0mw\u001b[0m\u001b[1;33m*\u001b[0m\u001b[1;33m(\u001b[0m\u001b[0mK\u001b[0m\u001b[1;33m/\u001b[0m\u001b[1;33m(\u001b[0m\u001b[0mL\u001b[0m\u001b[1;33m)\u001b[0m\u001b[1;33m)\u001b[0m\u001b[1;33m\u001b[0m\u001b[1;33m\u001b[0m\u001b[0m\n\u001b[0m\u001b[0;32m      2\u001b[0m \u001b[0mdisplay\u001b[0m\u001b[1;33m(\u001b[0m\u001b[0ma\u001b[0m\u001b[1;33m)\u001b[0m\u001b[1;33m\u001b[0m\u001b[1;33m\u001b[0m\u001b[0m\n\u001b[0;32m      3\u001b[0m \u001b[0ma1\u001b[0m \u001b[1;33m=\u001b[0m \u001b[0msm\u001b[0m\u001b[1;33m.\u001b[0m\u001b[0mdiff\u001b[0m\u001b[1;33m(\u001b[0m\u001b[0ma\u001b[0m\u001b[1;33m,\u001b[0m\u001b[0ml\u001b[0m\u001b[1;33m)\u001b[0m\u001b[1;33m\u001b[0m\u001b[1;33m\u001b[0m\u001b[0m\n\u001b[0;32m      4\u001b[0m \u001b[0mdisplay\u001b[0m\u001b[1;33m(\u001b[0m\u001b[0ma1\u001b[0m\u001b[1;33m)\u001b[0m\u001b[1;33m\u001b[0m\u001b[1;33m\u001b[0m\u001b[0m\n\u001b[0;32m      5\u001b[0m \u001b[0mb\u001b[0m \u001b[1;33m=\u001b[0m \u001b[0msm\u001b[0m\u001b[1;33m.\u001b[0m\u001b[0msolve\u001b[0m\u001b[1;33m(\u001b[0m\u001b[0ma1\u001b[0m\u001b[1;33m,\u001b[0m\u001b[0ml\u001b[0m\u001b[1;33m)\u001b[0m\u001b[1;33m\u001b[0m\u001b[1;33m\u001b[0m\u001b[0m\n",
      "\u001b[1;31mNameError\u001b[0m: name 'K' is not defined"
     ]
    }
   ],
   "source": [
    "a = (K/(L))**alpha-(K/(L))*(r+delta)-w*(K/(L))\n",
    "display(a)\n",
    "a1 = sm.diff(a,l)\n",
    "display(a1)\n",
    "b = sm.solve(a1,l)\n",
    "display(b)\n",
    "sm.simplify(b)"
   ]
  },
  {
   "cell_type": "markdown",
   "metadata": {},
   "source": [
    "## 5. Ramsey Model"
   ]
  },
  {
   "cell_type": "markdown",
   "metadata": {},
   "source": [
    "We make now our representative consumer and firm interacting with each other under the classical framework of the Ramsey model. Our optimizing household of *section.2* mantains the same CRRA utility function with respect to consumption. The new element is that he maximizes over an infinite horizon taking into account the welfare and resources of his prospective descendants. He expects the size of his future family to grow at the rate $n$, given as exogenous and constant. We normalize the size of the family at time $t= \\small{0}$ to 1, so that at the generic time $t$, the size of the family will be $L(t)=e^{nt}$. The utility maximization problem become:\n",
    " \n",
    "$$U= \\int_{0}^{\\infty} e^{-(\\rho-n)t}\\left[\\frac{c^{1-\\theta}-1}{1-\\theta}\\right]dt$$"
   ]
  },
  {
   "cell_type": "markdown",
   "metadata": {},
   "source": [
    "The household holds assets ($a(t)$) which pay rate of return $r(t)$ and supplies inelastically one unit of labor services for the wage rate $w(t)$. We assume a closed economy so that no assets can be traded internationally and we assume a competitive market so that the interest rate, r $r(t)$, and the wage rate $w(t)$ are given.                              \n",
    "The total income received by the aggregate is the sum of labor income, $w(t)·L(t)$, and asset income, $r (t)·(Assets)$ and the income that it is not consumed, it is used to accumulate more assets:  \n",
    "\n",
    "$$\\frac{d(Assets)}{dt} = r(Assets)+wL-C$$  \n",
    "\n",
    "In per-capita terms, the household budget constraint becomes:  \n",
    "\n",
    "$$\\dot{\\alpha} = (r-n)\\alpha+w-c$$"
   ]
  },
  {
   "cell_type": "markdown",
   "metadata": {},
   "source": [
    "We assume that the credit market imposes a constraint on the amount of borrowing to rule out chain-letter possibilities. The appropriate restriction turns out to be that the present value\n",
    "of assets must be asymptotically non-negative:  \n",
    "\n",
    "$$\\lim_{t \\to \\infty} \\bigg\\{ \\alpha(t)*exp\\left[-\\int_{0}^{t}[r(v)-n]dv \\right] \\bigg\\} = 0$$"
   ]
  },
  {
   "cell_type": "markdown",
   "metadata": {},
   "source": [
    "Our representative firm maintains the same characteristics depicted in *Section.4*. As before, initial technology is normalized to 1  and for simplicity we assume that it grows at rate $x=0$.   \n",
    "One unit of output can be used to generate one unit of household consumption or one unit of additional capital. Therefore, as long as the economy is not at a corner solution in which all current output goes into consumption or new capital, the price of k in terms of c will be fixed at unity. Because consumption will be nonzero in equilibrium, we have to be concerned only with the possibility that none of the output goes into new capital."
   ]
  },
  {
   "cell_type": "markdown",
   "metadata": {},
   "source": [
    "We briefly derive the fundamental equations of the model (for more analytical derivations have a look in *Barro & Martin, Chapter 2* and relative appendix).  \n",
    "Since the economy is closed, the assets per adult person, $a$, equal the capital per worker, $k$. Given the consumer budget constraint, the optimizing conditions for $r$ and $w$ found in the *Section.4* and $a=k$, we get the resource constraint for the economy which determines the evolution for capital per effective labour:\n",
    "\n",
    "$$\\dot{\\hat{k}} = \\hat{k}^{\\alpha} - \\hat{c} -(x+n+\\delta)\\hat{k} \\hspace{7pt}(1)$$\n",
    "\n",
    "The differential equation that determines the evolution of the consumption per effective labour is instead:\n",
    "\n",
    "$$\\frac{\\hat{c}}{c}-x=\\frac{1}{\\theta} \\big[\\alpha \\hat{k}^{\\alpha-1} -\\delta -\\rho-\\theta x \\big] \\hspace{7pt}(2)$$\n",
    "\n",
    "The transversality condition becomes:  \n",
    "\n",
    "$$\\lim_{t \\to \\infty} \\bigg\\{ \\hat{k}*exp\\left[-\\int_{0}^{t}[\\alpha \\hat{k}^{\\alpha-1} -\\delta - n - x]dv \\right] \\bigg\\} = 0$$"
   ]
  },
  {
   "cell_type": "markdown",
   "metadata": {},
   "source": [
    "The steady state values for c and k are determined by setting the expression (1) and (2) to zero. The $\\dot{k}=0$, locus is determined by:\n",
    "\n",
    "$$\\hat{c}= \\hat{k}^{\\alpha}-(x+n+\\delta)\\hat{k}$$\n",
    "\n",
    "Equation (2) implies that the $\\dot{c}=0$ locus is satisfied when:\n",
    "\n",
    "$$\\alpha \\hat{k}^{\\alpha-1}=\\delta +\\rho+\\theta x$$\n",
    "\n",
    "The determination of the steady state occurs at the intersection of the vertical line for $\\dot{c}=0$ and the solid curve for $\\dot{k}=0$ and the two equations for the steady state quantities are:\n",
    "\n",
    "$$ \\hat{k}^{*}=\\big(\\frac{\\delta+\\rho+ x\\theta}{\\alpha}\\big)^{\\frac{1}{\\alpha-1}}$$\n",
    "\n",
    "$$ \\hat{c}^{*}=(k^{*})^{\\alpha}-(n+\\delta+x)k^{*}$$\n",
    "\n",
    "The steady-state value for the production per effective labour becomes $\\hat{y}^{*}=(\\hat{k}^{*})^{\\alpha}$ and the transversality condition implies that $\\rho>n+(1-\\theta)x$. If $\\rho$ not satisfies this condition, the household's optimization problem is not well posed and infinite utility can be attained if consumption grew at the rate $x$."
   ]
  },
  {
   "cell_type": "markdown",
   "metadata": {},
   "source": [
    "We now start to code the main equation for the model and we find the steady-state values for consumption, capital and production for our given values of $\\theta$, $\\rho$, $n$, $\\delta$, $\\alpha$ and $x$.\n"
   ]
  },
  {
   "cell_type": "code",
   "execution_count": 49,
   "metadata": {},
   "outputs": [
    {
     "name": "stdout",
     "output_type": "stream",
     "text": [
      "Is the transversality condition satisfied?\n",
      "Yes, it is satisfied.\n"
     ]
    }
   ],
   "source": [
    "#a. Parameter values \n",
    "\n",
    "theta = 3.0          # measure of relative risk aversion\n",
    "rho = 0.01           # subjective discount rate\n",
    "n = 0.0025           # family growth rate\n",
    "delta = 0.3          # depreciation rate of capital          \n",
    "alpha = 0.3          # capital share rate\n",
    "g=0                  # technomogy growth rate\n",
    "\n",
    "#b. Transversality condition must be satisfied\n",
    "print(f'Is the transversality condition satisfied?')\n",
    "def transversality():\n",
    "    if  rho > n + (1 - theta)*g:\n",
    "        print(f'Yes, it is satisfied.')\n",
    "    else:\n",
    "        print(f'No, it is not satisfied.')\n",
    "\n",
    "transversality()"
   ]
  },
  {
   "cell_type": "code",
   "execution_count": 39,
   "metadata": {},
   "outputs": [],
   "source": [
    "#c. Defining production function\n",
    "def prod(k_t):\n",
    "    return k_t**alpha\n",
    "\n",
    "#d. Defining the consumption function\n",
    "def cons_t1(c_t, k_t):\n",
    "    return (np.exp(-rho) * (np.exp(-delta) + alpha * cap_t1(c_t, k_t)**(alpha - 1)))**(1 / theta) * c_t\n",
    "\n",
    "#e. Defining the capital equation\n",
    "def cap_t1(c_t,k_t):\n",
    "    return np.exp(-n)*(prod(k_t)+np.exp(-delta)*k_t-c_t)\n",
    "\n",
    "#f. Difference between capital in two periods\n",
    "def capt_cap1(c_t, k_t):\n",
    "    return cap_t1(c_t, k_t) - k_t\n",
    "\n",
    "#g. Difference between consumption in two periods\n",
    "def const_const1(c_t, k_t):\n",
    "    return cons_t1(c_t, k_t) - c_t"
   ]
  },
  {
   "cell_type": "code",
   "execution_count": 52,
   "metadata": {},
   "outputs": [
    {
     "name": "stdout",
     "output_type": "stream",
     "text": [
      "The steady state capital per effective labour is: 0.95\n",
      "The steady state consumption per effective labour is: 0.70\n",
      "The steady state production per effective labour is: 0.99\n"
     ]
    }
   ],
   "source": [
    "#h. Steady state capital\n",
    "def k_star():\n",
    "    return ((delta+rho)/alpha)**(1 / (alpha - 1))\n",
    "\n",
    "#i. Steady state consumption\n",
    "def c_star():\n",
    "    return prod(k_star())-(delta+n)*k_star()\n",
    "\n",
    "#j Steady state production\n",
    "def y_star():\n",
    "    return (k_star())**alpha\n",
    "\n",
    "#k. Values of steady state capital and consumption for our chosen variables\n",
    "print(f'The steady state capital per effective labour is: {k_star():.2f}')\n",
    "print(f'The steady state consumption per effective labour is: {c_star():.2f}')\n",
    "print(f'The steady state production per effective labour is: {y_star():.2f}')"
   ]
  },
  {
   "cell_type": "markdown",
   "metadata": {},
   "source": [
    "### 5.2 Generical Phase Diagram"
   ]
  },
  {
   "cell_type": "markdown",
   "metadata": {},
   "source": [
    "The Ramsey model is interesting for its predictions about the path of capital and consumption growth given an initial condition $k(0)$. We now want to plot the generic phase diagram showing the nature of this dynamics "
   ]
  },
  {
   "cell_type": "code",
   "execution_count": 54,
   "metadata": {},
   "outputs": [],
   "source": [
    "#a. locus for capital\n",
    "def locus_cap(k_t):\n",
    "    return prod(k_t) - k_t*(delta + n)"
   ]
  },
  {
   "cell_type": "code",
   "execution_count": 58,
   "metadata": {},
   "outputs": [
    {
     "data": {
      "image/png": "[encoded data removed]",
      "text/plain": [
       "<Figure size 720x504 with 1 Axes>"
      ]
     },
     "metadata": {
      "needs_background": "light"
     },
     "output_type": "display_data"
    }
   ],
   "source": [
    "#b. Create a grid of points for plotting\n",
    "x_vec = np.linspace(0, 500, 7000)\n",
    "\n",
    "#c. Constructing the generic phase diagram \n",
    "phase = plt.figure(figsize=(10,7))\n",
    "plt.xlim(0,5)\n",
    "plt.ylim(0,2)\n",
    "plt.grid(False)\n",
    "plt.xlabel([])\n",
    "\n",
    "#c.1 Adding the capital and consumption locii\n",
    "plt.plot(x_vec, locus_cap(x_vec), linestyle ='--', color='black') \n",
    "plt.axvline(k_star(), linestyle = '-', color = 'red')\n",
    "plt.plot(k_star(), c_star(), marker='o', markersize = 10, color ='red')\n",
    "\n",
    "#c.2 Adding arrows to indicate dynamics \n",
    "plt.arrow((1/2)*k_star(), (1/2)*c_star(), dx=0, dy=0.2, head_width = 0.1, head_length= 0.1, color = 'green')\n",
    "plt.arrow((1/2)*k_star(), (1/2)*c_star(), dx=0.2, dy=0, head_width = 0.1, head_length= 0.1, color = 'orange')\n",
    "plt.arrow((1/2)*k_star(), 2*c_star(), dx=0, dy=0.2, head_width = 0.1, head_length= 0.1, color = 'green')\n",
    "plt.arrow((1/2)*k_star(), 2*c_star(), dx=-0.2, dy=0, head_width = 0.1, head_length= 0.1, color = 'orange')\n",
    "\n",
    "plt.arrow(2*k_star(), (1/2)*c_star(), dx=0, dy=-0.2, head_width = 0.1, head_length = 0.1, color = 'green')\n",
    "plt.arrow(2*k_star(), (1/2)*c_star(), dx=0.2, dy=0, head_width = 0.1, head_length = 0.1, color = 'orange')\n",
    "plt.arrow(2*k_star(), 2*c_star(), dx=0, dy=-0.2, head_width = 0.1, head_length = 0.1, color = 'green')\n",
    "plt.arrow(2*k_star(), 2*c_star(), dx=-0.2, dy=0, head_width = 0.1, head_length = 0.1, color = 'orange')\n",
    "\n",
    "#c.3 Adding axis labels and title\n",
    "plt.xlabel('Capital ($\\hat{k}$)', fontsize = 12)\n",
    "plt.ylabel('Consumption ($\\hat{c}$)', fontsize = 12)\n",
    "plt.title('Ramsey Model Phase Diagram ', fontsize=15, weight='bold', pad = 10)\n",
    "plt.show()"
   ]
  },
  {
   "cell_type": "markdown",
   "metadata": {},
   "source": [
    "The dashed black line represents the $\\dot{k}=0$ loci and red line the $\\dot{c}=0$ loci (the other loci where $\\dot{c}=0$ corresponds the the horizontal axis $\\hat{c}=0$). The red dot displays, instead, the steady state.\n",
    "The arrows depict the nature of the dinamics for consumption and capital. So, consumption rises for value of capital $\\hat{k}<k^{*}$ (green arrows point upwards) and decreases otherwise (green arrown point downwards). Capital, instead, falls for values of consumption above the dashed loci (yellow arrows point leftwards) and rises for values below (yellow arrows point rightwards)."
   ]
  },
  {
   "cell_type": "markdown",
   "metadata": {},
   "source": [
    "### 5.3 Plotting different  paths"
   ]
  },
  {
   "cell_type": "markdown",
   "metadata": {},
   "source": [
    "In the previous subsection we got an overall idea of the dinamics of the systems. Now, we are going to plot the consumption/capital paths for different initial values of consumption. We will see that only one precise value of $c(0)$ will lead us to the the steady state and this path is called the saddle path."
   ]
  },
  {
   "cell_type": "code",
   "execution_count": null,
   "metadata": {},
   "outputs": [],
   "source": [
    "# Simulating deterministic Ak model \n",
    "\n",
    "St_dict = {'k_star': k_star(), 'c_star': c_star()}\n",
    "        \n",
    "# Update variables\n",
    "def update():\n",
    "    c_t = cons_t1(c_t1, k_t1)\n",
    "    k_t = cap_t1(c_t1, k_t1)\n",
    "\n",
    "# Create paths of length n starting from current state variables\n",
    "def s_path( n=None):\n",
    "    \n",
    "    tra = np.zeros(shape=(n,2))\n",
    "            \n",
    "    for t in range (n):\n",
    "        tra[t,0]=k_t\n",
    "        tra[t,1]=c_t\n",
    "        update()\n",
    "            \n",
    "        return tra\n",
    "\n",
    "# Find steady state thorugh optimization\n",
    "def steadystate(k0=None, c0=None):\n",
    "            \n",
    "    def SS(X):\n",
    "        res=[cap_t1(X[0],X[1]-X[0])]\n",
    "        res.append(cons_t1(X[0],X[1]-X[1]))\n",
    "        return res\n",
    "        \n",
    "    return optimize.fsolve(SS, x0=(c0,k0))\n",
    "\n",
    "\n",
    "# Compute saddle_path\n",
    "def optimal_path(k0=None, c0=None, tol=1.5e-08):\n",
    "       \n",
    "        # compute steady state values\n",
    "        c_star, k_star = St_dict['c_star'], St_dict['k_star']\n",
    "        \n",
    "        if k0 <= k_star:\n",
    "            c_l = 0\n",
    "            c_h = c_star\n",
    "        else:\n",
    "            c_l = c_star\n",
    "            c_h = k0**alpha\n",
    "        c0 = (c_h + c_l) / 2\n",
    "        c_t, k_t = c0, k0\n",
    "    \n",
    "        #Initialize algorith \n",
    "        cal  = 0\n",
    "        n_iter = 0\n",
    "        \n",
    "        # Algorithm\n",
    "        while 1:\n",
    "            update()\n",
    "            dist = np.abs(((c_t - c_star)**2 + (k_t - k_star)**2)**(1/2))\n",
    "            cal = cal + 1\n",
    "            if k0 <= k_star:\n",
    "                if k_t > k_star:\n",
    "                    if dist < tol:\n",
    "                        break\n",
    "                    else: \n",
    "                        c_low = c0\n",
    "                        c0 = (c_high + c_low) / 2\n",
    "                        c_t, k_t = c0, k0\n",
    "                        cal = 0\n",
    "                if c_t > c_star:\n",
    "                    if dist < tol:\n",
    "                        break\n",
    "                    else: \n",
    "                        c_high = c0 \n",
    "                        c0 = (c_high + c_low) / 2\n",
    "                        c_t, k_t = c0, k0\n",
    "                        cal = 0\n",
    "            else:\n",
    "                if k_t < k_star:\n",
    "                    if dist < tol:\n",
    "                        break\n",
    "                    else: \n",
    "                        c_high = c0 \n",
    "                        c0 = (c_high + c_low) / 2\n",
    "                        c_t, k_t = c0, k0\n",
    "                        cal = 0\n",
    "                if c_t < c_star:\n",
    "                    if dist < tol:\n",
    "                        break\n",
    "                    else: \n",
    "                        c_low = c0\n",
    "                        c0 = (c_high + c_low) / 2\n",
    "                        c_t, k_t = c0, k0\n",
    "                        cal = 0\n",
    "                \n",
    "        c_t, k_t = c0, k0\n",
    "        result = s_path(cal)\n",
    "\n",
    "        return [c_t, result, s_path, dist]\n",
    "        \n",
    "# Saddle path\n",
    "solution = optimal_path(k0, tol=1.4e-7)"
   ]
  },
  {
   "cell_type": "code",
   "execution_count": null,
   "metadata": {},
   "outputs": [],
   "source": [
    "# Set initial levels for c,k\n",
    "c_t1, k_t1 = 0.4, 12\n",
    "\n",
    "# Generate a sample path of length 10 for the Ramsey economy \n",
    "s_path(10)\n",
    "\n",
    "cap_t1(0.4, 12), cons_t1(0.4, 12)\n"
   ]
  },
  {
   "cell_type": "code",
   "execution_count": 1,
   "metadata": {},
   "outputs": [
    {
     "ename": "NameError",
     "evalue": "name 'np' is not defined",
     "output_type": "error",
     "traceback": [
      "\u001b[1;31m---------------------------------------------------------------------------\u001b[0m",
      "\u001b[1;31mNameError\u001b[0m                                 Traceback (most recent call last)",
      "\u001b[1;32m<ipython-input-1-2e28a2eabe81>\u001b[0m in \u001b[0;36m<module>\u001b[1;34m\u001b[0m\n\u001b[0;32m      1\u001b[0m \u001b[1;31m# Grid of points for plotting\u001b[0m\u001b[1;33m\u001b[0m\u001b[1;33m\u001b[0m\u001b[1;33m\u001b[0m\u001b[0m\n\u001b[1;32m----> 2\u001b[1;33m \u001b[0mx1_vec\u001b[0m \u001b[1;33m=\u001b[0m \u001b[0mnp\u001b[0m\u001b[1;33m.\u001b[0m\u001b[0mlinspace\u001b[0m\u001b[1;33m(\u001b[0m\u001b[1;36m0\u001b[0m\u001b[1;33m,\u001b[0m \u001b[1;36m500\u001b[0m\u001b[1;33m,\u001b[0m \u001b[1;36m7000\u001b[0m\u001b[1;33m)\u001b[0m\u001b[1;33m\u001b[0m\u001b[1;33m\u001b[0m\u001b[0m\n\u001b[0m\u001b[0;32m      3\u001b[0m \u001b[1;33m\u001b[0m\u001b[0m\n\u001b[0;32m      4\u001b[0m \u001b[1;31m#initial level of capital\u001b[0m\u001b[1;33m\u001b[0m\u001b[1;33m\u001b[0m\u001b[1;33m\u001b[0m\u001b[0m\n\u001b[0;32m      5\u001b[0m \u001b[0mk0\u001b[0m \u001b[1;33m=\u001b[0m \u001b[1;36m0.5\u001b[0m \u001b[1;33m*\u001b[0m \u001b[0mSt_dict\u001b[0m\u001b[1;33m[\u001b[0m\u001b[1;34m'k_star'\u001b[0m\u001b[1;33m]\u001b[0m\u001b[1;33m\u001b[0m\u001b[1;33m\u001b[0m\u001b[0m\n",
      "\u001b[1;31mNameError\u001b[0m: name 'np' is not defined"
     ]
    }
   ],
   "source": [
    "# Grid of points for plotting\n",
    "x1_vec = np.linspace(0, 500, 7000)\n",
    "\n",
    "#initial level of capital\n",
    "k0 = 0.5 * St_dict['k_star']\n",
    "\n",
    "# Create an array of initial conditions for choices of consumption per effective worker\n",
    "initial_consumption = np.linspace(0.5 * St_dict['c_star'], 1.5 * St_dict['c_star'], num=5)\n",
    "\n",
    "# Create a new plot\n",
    "plt.figure(figsize=(10,7))\n",
    "plt.xlim(0,7)\n",
    "plt.ylim(0,2)\n",
    "\n",
    "# Add the consumption and capital \n",
    "plt.plot(x1_vec, locus_cap(x1_vec), linestyle ='--', color='black', label=r'$c=(A-\\delta-n)k$')\n",
    "plt.axvline(St_dict['k_star'], color='black')\n",
    "plt.plot(St_dict['k_star'], St_dict['c_star'], marker='o', markersize=7, color='red')\n",
    "# saddle-path\n",
    "plt.plot(solution[1][:, 0], solution[1][:, 1], color='red')\n",
    "\n",
    "# initial level of capital per worker\n",
    "plt.axvline(k0, color='green', ls='--')\n",
    "\n",
    "# FOR loop plots a sample path for each initial value of c\n",
    "for c_t in initial_consumption:\n",
    "    c_t, k_t = c_t, k0\n",
    "    trpath = s_path(1000) \n",
    "    plt.plot(trpath[:, 0], trpath[:, 1])\n",
    "\n",
    "# Add title and axis labels\n",
    "plt.xlabel('Capital (k)', fontsize = 12)\n",
    "plt.ylabel('Consumption (c)', fontsize = 12)\n",
    "plt.title('Ramsey Model Phase Diagram ', fontsize=15, weight='bold', pad = 10)\n",
    "plt.show()"
   ]
  },
  {
   "cell_type": "code",
   "execution_count": null,
   "metadata": {},
   "outputs": [],
   "source": [
    " \n",
    "    "
   ]
  },
  {
   "cell_type": "markdown",
   "metadata": {},
   "source": [
    "## 6. Conclusion"
   ]
  },
  {
   "cell_type": "markdown",
   "metadata": {},
   "source": [
    "the interception between two loci by using Euler and capital equation (they combined characterize the motion of both consumption and capital) is the steady state. Therefor, we can use the equations to draw the phase diagram and characterized the dynamics of the economy and phase diagram. The figur shows the dynamics of consumption and capital for diffrent initial values of consumption and given initial capital- including saddle path. The saddle path is the a sequence of different initial values of consumption as a function of capital that leads to stedy state. In other words it is the combinations of consumption and capital that leads the economy to steady state.\n",
    "This is why we used TVC it ensures that we end up on the saddle path and it rules out all the non-optimal solution"
   ]
  },
  {
   "cell_type": "code",
   "execution_count": null,
   "metadata": {},
   "outputs": [],
   "source": []
  }
 ],
 "metadata": {
  "kernelspec": {
   "display_name": "Python 3",
   "language": "python",
   "name": "python3"
  },
  "language_info": {
   "codemirror_mode": {
    "name": "ipython",
    "version": 3
   },
   "file_extension": ".py",
   "mimetype": "text/x-python",
   "name": "python",
   "nbconvert_exporter": "python",
   "pygments_lexer": "ipython3",
   "version": "3.7.4"
  }
 },
 "nbformat": 4,
 "nbformat_minor": 4
}
