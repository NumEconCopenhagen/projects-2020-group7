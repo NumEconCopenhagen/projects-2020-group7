{
 "cells": [
  {
   "cell_type": "markdown",
   "metadata": {},
   "source": [
    "# MODEL PROJECT"
   ]
  },
  {
   "cell_type": "markdown",
   "metadata": {},
   "source": [
    "## 1. Introduction"
   ]
  },
  {
   "cell_type": "markdown",
   "metadata": {},
   "source": [
    "For our model project we have decided to focus on the Kass-Koopmans model of exogenous growth. Before moving to the overall equilibrium, we focus on the consumner optimization problem. We subsequently introduce the firm player and the main features of the model"
   ]
  },
  {
   "cell_type": "markdown",
   "metadata": {},
   "source": [
    "## 2. Import packages"
   ]
  },
  {
   "cell_type": "code",
   "execution_count": 11,
   "metadata": {},
   "outputs": [
    {
     "name": "stdout",
     "output_type": "stream",
     "text": [
      "The autoreload extension is already loaded. To reload it, use:\n",
      "  %reload_ext autoreload\n"
     ]
    }
   ],
   "source": [
    "import numpy as np\n",
    "import scipy as sp\n",
    "import math\n",
    "from scipy import optimize\n",
    "import sympy as sm\n",
    "from scipy import linalg\n",
    "from sympy import Derivative\n",
    "from scipy import interpolate\n",
    "import scipy.integrate as quad\n",
    "from scipy.integrate import odeint\n",
    "import scipy.special as special\n",
    "from scipy.integrate import quad\n",
    "from sympy import symbol,function\n",
    "import ipywidgets as widgets\n",
    "from IPython.display import display\n",
    "\n",
    "#autoreload model when code is run\n",
    "%load_ext autoreload\n",
    "%autoreload 2\n",
    "\n",
    "%matplotlib inline\n",
    "import matplotlib.pyplot as plt\n",
    "plt.style.use('seaborn-whitegrid')\n",
    "from matplotlib import cm\n",
    "import matplotlib as mpl\n",
    "from mpl_toolkits.mplot3d import Axes3D"
   ]
  },
  {
   "cell_type": "markdown",
   "metadata": {},
   "source": [
    "## 3. Consumer optimization problem"
   ]
  },
  {
   "cell_type": "markdown",
   "metadata": {},
   "source": [
    "Before moving to the Ramsey model, we focus on consumers and their optimization problem. The standard Ramsey model assumes that the individual presents a CRRA utility function with respect to consumption of the type:  \n",
    "\n",
    "$$u(c)=\\frac{c^{1-\\theta}-1}{1-\\theta}$$  \n",
    "\n",
    "where $\\theta$ is a measure or relative risk aversion.\n",
    "This type of preferences is really useful in the case $\\theta=1$. In this occasion the CRRA utility becomes a logarithmic utility function.  \n",
    "We now create a simple utility maximization problem with two periods to detect how these preferences impact the consumer optimal behavior. We take into consideration two periods, $t=0$ and $t=1$.   \n",
    "Our representative consumer maximizes consumption in the present $c_0$ and in the future $c_1$ taking into consideration his labour income will be $w_0$ today and $w_1$ tomorrow. So, our utility maximization problem become:  \n",
    "\n",
    "$$max \\hspace{2pt} U(c_0,c_1) = u(c_0)+e^{-\\rho}u(c_1)$$  \n",
    "\n",
    "under the constraint:  \n",
    "\n",
    "$$c_0+\\frac{1}{1+r}{c_1} = w_0 +\\frac{1}{1+r}{w_1}$$  \n",
    "\n",
    "where $\\rho$ is the subjective discount rate and r the interest rate.\n",
    "\n",
    "Now, before solving the problem, we give some initial values:"
   ]
  },
  {
   "cell_type": "code",
   "execution_count": 12,
   "metadata": {},
   "outputs": [],
   "source": [
    "#a. Defining initial parameters\n",
    "theta = 0.5\n",
    "w_t= 10      #present labour income\n",
    "w_t1 = 10     #future labour income\n",
    "rho = 0.9\n",
    "r = 0.5\n",
    "\n",
    "#a. Defining utility function\n",
    "def utility(ct):\n",
    "    return (ct**(1-theta)-1)/(1-theta)\n",
    "\n",
    "#b. Defining utility function for two periods\n",
    "def inter_util(c_t, c_t1):\n",
    "    return utility(c_t)+np.exp(-rho)*utility(c_t1)\n",
    "\n",
    "#c. Defining constraint\n",
    "def constraint(c_t,c_t1):\n",
    "    return w_t+(1/(1+r))*w_t1-c_t-(1/(1+r))*c_t1\n"
   ]
  },
  {
   "cell_type": "markdown",
   "metadata": {},
   "source": [
    "To solve the maximization problem we firstly set the lagrangian:  \n",
    "\n",
    "$$L=\\max_{c_{0},c_{2}}\\bigg(\\frac{c_{0}^{1 - \\theta} - 1}{1 - \\theta}\\bigg) + e^{-\\rho}\\bigg(\\frac{c_{1}^{1 - \\theta} - 1}{1 - \\theta}\\bigg) + \\lambda\\bigg(w_{0} + \\frac{1}{1 + r}w_{1} - c_{0} - \\frac{1}{1 + r}c_{1}\\bigg)$$  \n",
    "\n",
    "and we compute the first order conditions:\n",
    "$$c_{0}^{-\\theta} = \\lambda$$\n",
    "$$e^{-\\rho}c_{1}^{-\\theta}=\\frac{1}{1 + r}\\lambda$$  \n",
    "\n",
    "The above reduces to:\n",
    "$$c_{0}^{-\\theta} = e^{-\\rho}(1 + r)c_{1}^{-\\theta}$$  \n",
    "\n",
    "We transpose the above into code:"
   ]
  },
  {
   "cell_type": "code",
   "execution_count": 13,
   "metadata": {},
   "outputs": [
    {
     "name": "stdout",
     "output_type": "stream",
     "text": [
      "The optimal consumption at the present is: 13.36\n",
      "The optimal consumption tomorrow is: 4.97\n",
      "Utility from optimal bundle is: 6.31\n"
     ]
    }
   ],
   "source": [
    "#d. Defining Euler equation\n",
    "def euler(c_t,c_t1):\n",
    "    return c_t**(-theta)-np.exp(-rho)*(1+r)*(c_t1)**(-theta)\n",
    "\n",
    "#e. Creating optimization function\n",
    "def optimalchoice(x):\n",
    "    op = [euler(x[0], x[1])]\n",
    "    op.append(constraint(x[0],x[1]))\n",
    "    return op\n",
    " \n",
    "#f. Applying fsolve function\n",
    "ct_guess, ct1_guess = 0.5, 0.5\n",
    "ct_star, ct1_star = optimize.fsolve(optimalchoice, x0=(ct_guess, ct1_guess))\n",
    "utility_star = inter_util(ct_star, ct1_star)\n",
    " \n",
    "#g. Printing results\n",
    "print(f'The optimal consumption at the present is: {ct_star:.2f}')\n",
    "print(f'The optimal consumption tomorrow is: {ct1_star:.2f}')\n",
    "print(f'Utility from optimal bundle is: {utility_star:.2f}')"
   ]
  },
  {
   "cell_type": "markdown",
   "metadata": {},
   "source": [
    "We now construct an interactive plot to study the optimal behaviour of our consumer when the underlying parameters change."
   ]
  },
  {
   "cell_type": "code",
   "execution_count": 14,
   "metadata": {},
   "outputs": [],
   "source": [
    "\n",
    "def plot_max_problem(w_t, w_t1, theta, rho):\n",
    "\n",
    "    fig1 = plt.figure(dpi=150)\n",
    "    ax = fig1.add_subplot(1,1,1)\n",
    "\n",
    "    #grid of (x,y) values which we will pass to function\n",
    "    ct_range = np.linspace(0, 10, 1)\n",
    "    ct1_range = np.linspace(0, 10, 1)\n",
    "    c_t, c_t1 = np.meshgrid(ct_range, ct1_range)\n",
    "    \n",
    "    # we will actually plot utility\n",
    "    uti = inter_util(c_t, c_t1)\n",
    "\n",
    "    # plot the budget constraint\n",
    "    cons_today = np.linspace(0, 10, 100)\n",
    "    ax.plot(cons_today, (1 + r) * (w_t - cons_today) + w_t1, \n",
    "           color='r')\n",
    "\n",
    "    # demarcate the indifference curve\n",
    "    CS = ax.contour(ct_star, ct1_star, utility_star, np.array([utility_star]), colors='k', linewidths=1, linestyles='solid')\n",
    "    ax.clabel(CS, inline=1, fmt='%1.4f')\n",
    "\n",
    "    # mark the optimal bundle\n",
    "    ax.hlines(ct_star, 0, ct1_star, linestyle='dashed')\n",
    "    ax.vlines(ct1_star, 0, ct_star, linestyle='dashed')\n",
    "\n",
    "    # axes, labels, title, colorbar \n",
    "    ax.set_xlim(0, 10)\n",
    "    ax.set_ylim(0, 10)\n",
    "    ax.set_xlabel(r'Present Consumption, $C_{t}$', fontsize=10)\n",
    "    ax.set_ylabel(r'Future Consumption, $C_{t+1}$', fontsize=10)\n",
    "    ax.set_title(r'Optimal bundle for CRRA utility', fontsize=15)\n",
    "    plt.show()\n",
    "\n",
    "def plot_time():\n",
    "    widgets.interact(plot_max_problem,\n",
    "    w_t= widgets.FloatSlider(\n",
    "           description='$w_{t}$',\n",
    "           min=0,\n",
    "           max=10,\n",
    "           step=1,\n",
    "           value=5,\n",
    "           continuous_update=False,\n",
    "    ),\n",
    "    \n",
    "    w_t1 = widgets.FloatSlider(\n",
    "            description=\"$w_{t+1}$\",\n",
    "            min=0,\n",
    "            max=10,\n",
    "            step=1,\n",
    "            value=5,\n",
    "            continuous_update=False,\n",
    "    ),\n",
    "    theta = widgets.FloatSlider(\n",
    "            description=\"$\\\\theta$\",\n",
    "            min=0.5,\n",
    "            max=0.9,\n",
    "            step=0.02,\n",
    "            value=0.5,\n",
    "            continuous_update=False,\n",
    "    ),\n",
    "    rho = widgets.FloatSlider(\n",
    "            description=\"$\\\\rho$\",\n",
    "            min=0.9,\n",
    "            max=0.99,\n",
    "            step=0.01,\n",
    "            value=0.9,\n",
    "            continuous_update=False,\n",
    "    ),\n",
    ");  \n",
    "    "
   ]
  },
  {
   "cell_type": "code",
   "execution_count": 15,
   "metadata": {},
   "outputs": [
    {
     "data": {
      "application/vnd.jupyter.widget-view+json": {
       "model_id": "b9fb95268fef417087e088f7c262ef69",
       "version_major": 2,
       "version_minor": 0
      },
      "text/plain": [
       "interactive(children=(FloatSlider(value=5.0, continuous_update=False, description='$w_{t}$', max=10.0, step=1.…"
      ]
     },
     "metadata": {},
     "output_type": "display_data"
    },
    {
     "data": {
      "image/png": "[encoded data removed]",
      "text/plain": [
       "<Figure size 900x600 with 1 Axes>"
      ]
     },
     "metadata": {},
     "output_type": "display_data"
    }
   ],
   "source": [
    "plot_time()\n"
   ]
  },
  {
   "cell_type": "markdown",
   "metadata": {},
   "source": [
    "## 4. Firm optimization problem "
   ]
  },
  {
   "cell_type": "markdown",
   "metadata": {},
   "source": [
    "In the Ramsey model the represenatative firm has a production function that satisfies the neoclassical properties of constant return to scale in $K$ (capital) and $L$ (Labour) and each input exhibits positive but diminishing marginal product. We will deal with quantities per unit of effective labor. So the production function will be written in intensive form:\n",
    "$\\hat{y}=f(\\hat{k})$ where $\\hat{y}=\\frac{Y}{LT}$, $\\hat{k}=\\frac{K}{LT}$ and T is the technology.\n",
    "\n",
    "Specifically, we are going to assume the following production function:  \n",
    "\n",
    "$$\\hat{y}=f(\\hat{k})=k^{\\alpha}$$  \n",
    "\n",
    "where $\\alpha$ is the capital share of output and $k$ is capital per effective labour. \n",
    "From now on, for simplicity, we assume that technology will increase at the rate $x=0$.\n",
    "We now check that in this case the marginal product of capital are diminishing ($f''< 0$) and that the Inada conditions are satisfied."
   ]
  },
  {
   "cell_type": "code",
   "execution_count": 52,
   "metadata": {},
   "outputs": [],
   "source": [
    "#a. Transposing into symbols\n",
    "sm.init_printing(use_unicode=True) # for pretty printing        \n",
    "alpha = sm.symbols('alpha')        # capital share\n",
    "k = sm.symbols('k')                 # capital per effective worker               \n",
    "W = sm.symbols('W')                # wage\n",
    "l = sm.symbols('l')\n",
    "T = sm.symbols('T')\n",
    "delta = sm.symbols('delta')\n",
    "r = sm.symbols('r')\n",
    "w = sm.symbols('w')"
   ]
  },
  {
   "cell_type": "code",
   "execution_count": 53,
   "metadata": {},
   "outputs": [
    {
     "name": "stdout",
     "output_type": "stream",
     "text": [
      "The production function is:\n"
     ]
    },
    {
     "data": {
      "image/png": "[encoded data removed]",
      "text/latex": [
       "$\\displaystyle k^{\\alpha}$"
      ],
      "text/plain": [
       " α\n",
       "k "
      ]
     },
     "metadata": {},
     "output_type": "display_data"
    },
    {
     "name": "stdout",
     "output_type": "stream",
     "text": [
      "The profit function is:\n"
     ]
    },
    {
     "data": {
      "image/png": "[encoded data removed]",
      "text/latex": [
       "$\\displaystyle - k \\left(\\delta + r\\right) + k^{\\alpha} - l w$"
      ],
      "text/plain": [
       "              α      \n",
       "-k⋅(δ + r) + k  - l⋅w"
      ]
     },
     "metadata": {},
     "output_type": "display_data"
    },
    {
     "name": "stdout",
     "output_type": "stream",
     "text": [
      "The first derivative with respect to k is:\n"
     ]
    },
    {
     "data": {
      "image/png": "[encoded data removed]",
      "text/latex": [
       "$\\displaystyle \\frac{\\alpha k^{\\alpha}}{k}$"
      ],
      "text/plain": [
       "   α\n",
       "α⋅k \n",
       "────\n",
       " k  "
      ]
     },
     "metadata": {},
     "output_type": "display_data"
    },
    {
     "name": "stdout",
     "output_type": "stream",
     "text": [
      "The second derivative with respect to k is:\n"
     ]
    },
    {
     "data": {
      "image/png": "[encoded data removed]",
      "text/latex": [
       "$\\displaystyle \\frac{\\alpha k^{\\alpha} \\left(\\alpha - 1\\right)}{k^{2}}$"
      ],
      "text/plain": [
       "   α        \n",
       "α⋅k ⋅(α - 1)\n",
       "────────────\n",
       "      2     \n",
       "     k      "
      ]
     },
     "metadata": {},
     "output_type": "display_data"
    },
    {
     "name": "stdout",
     "output_type": "stream",
     "text": [
      "First Inada condition is:\n"
     ]
    },
    {
     "data": {
      "image/png": "[encoded data removed]",
      "text/latex": [
       "$\\displaystyle \\lim_{k \\to 0^+}\\left(\\frac{\\alpha k^{\\alpha}}{k}\\right)$"
      ],
      "text/plain": [
       "     ⎛   α⎞\n",
       "     ⎜α⋅k ⎟\n",
       " lim ⎜────⎟\n",
       "k─→0⁺⎝ k  ⎠"
      ]
     },
     "metadata": {},
     "output_type": "display_data"
    },
    {
     "name": "stdout",
     "output_type": "stream",
     "text": [
      "Second Inada condition is:\n"
     ]
    },
    {
     "data": {
      "image/png": "[encoded data removed]",
      "text/latex": [
       "$\\displaystyle \\lim_{k \\to \\infty}\\left(\\frac{\\alpha k^{\\alpha}}{k}\\right)$"
      ],
      "text/plain": [
       "    ⎛   α⎞\n",
       "    ⎜α⋅k ⎟\n",
       "lim ⎜────⎟\n",
       "k─→∞⎝ k  ⎠"
      ]
     },
     "metadata": {},
     "output_type": "display_data"
    }
   ],
   "source": [
    "#b. Defining production function\n",
    "prod = k**alpha\n",
    "print(f'The production function is:')\n",
    "display(prod)\n",
    "\n",
    "#c. Defining profit function\n",
    "profit = prod - (r+delta)*k -w*L\n",
    "print(f'The profit function is:')\n",
    "display(profit)\n",
    "\n",
    "#d. Calculating first and second derivatives with respect to k\n",
    "print(f'The first derivative with respect to k is:')\n",
    "sol = sm.diff(prod,k)\n",
    "display(sol)\n",
    "print(f'The second derivative with respect to k is:')\n",
    "sol1 = sm.diff(prod,k, k)\n",
    "display(sol1)\n",
    "\n",
    "#e. Check Inada conditions\n",
    "print(f'First Inada condition is:')\n",
    "inada1 = sm.Limit(sol,k,0)\n",
    "display(inada1)\n",
    "print(f'Second Inada condition is:')\n",
    "inada2 = sm.Limit(sol,K, sm.oo)\n",
    "display(inada2)\n"
   ]
  },
  {
   "cell_type": "code",
   "execution_count": 50,
   "metadata": {},
   "outputs": [
    {
     "name": "stdout",
     "output_type": "stream",
     "text": [
      "Optimazing the profit with respect to k, we obtain:\n"
     ]
    },
    {
     "data": {
      "image/png": "[encoded data removed]",
      "text/latex": [
       "$\\displaystyle \\frac{\\alpha k^{\\alpha}}{k} - \\delta - r = 0$"
      ],
      "text/plain": [
       "   α            \n",
       "α⋅k             \n",
       "──── - δ - r = 0\n",
       " k              "
      ]
     },
     "metadata": {},
     "output_type": "display_data"
    },
    {
     "name": "stdout",
     "output_type": "stream",
     "text": [
      "And the optimal k is:\n"
     ]
    },
    {
     "data": {
      "image/png": "[encoded data removed]",
      "text/latex": [
       "$\\displaystyle \\left[ \\left(\\frac{\\delta + r}{\\alpha}\\right)^{\\frac{1}{\\alpha - 1}}\\right]$"
      ],
      "text/plain": [
       "⎡         1  ⎤\n",
       "⎢       ─────⎥\n",
       "⎢       α - 1⎥\n",
       "⎢⎛δ + r⎞     ⎥\n",
       "⎢⎜─────⎟     ⎥\n",
       "⎣⎝  α  ⎠     ⎦"
      ]
     },
     "metadata": {},
     "output_type": "display_data"
    }
   ],
   "source": [
    "#f. Profit maximization with respect to capital per effective worker\n",
    "print(f'Optimazing the profit with respect to k, we obtain:')\n",
    "profitk = sm.Eq(sm.diff(profit,k))\n",
    "display(profitk)\n",
    "print(f'And the optimal k is:')\n",
    "profitk1 = sm.solve(profitk,k)\n",
    "display(profitk1)"
   ]
  },
  {
   "cell_type": "code",
   "execution_count": 54,
   "metadata": {},
   "outputs": [
    {
     "name": "stdout",
     "output_type": "stream",
     "text": [
      "Optimazing the profit with respect to w, we obtain:\n"
     ]
    },
    {
     "data": {
      "image/png": "[encoded data removed]",
      "text/latex": [
       "$\\displaystyle - w = 0$"
      ],
      "text/plain": [
       "-w = 0"
      ]
     },
     "metadata": {},
     "output_type": "display_data"
    },
    {
     "name": "stdout",
     "output_type": "stream",
     "text": [
      "And the optimal k is:\n"
     ]
    },
    {
     "data": {
      "image/png": "[encoded data removed]",
      "text/latex": [
       "$\\displaystyle \\left[ \\right]$"
      ],
      "text/plain": [
       "[]"
      ]
     },
     "metadata": {},
     "output_type": "display_data"
    }
   ],
   "source": [
    "#d. Profit maximization with respect to labour per effective worker\n",
    "print(f'Optimazing the profit with respect to w, we obtain:')\n",
    "profitl = sm.Eq(sm.diff(profit,l))\n",
    "display(profitl)\n",
    "print(f'And the optimal l is:')\n",
    "profitl1 = sm.solve(profitl,l)\n",
    "display(profitl1)"
   ]
  },
  {
   "cell_type": "code",
   "execution_count": 63,
   "metadata": {},
   "outputs": [
    {
     "data": {
      "image/png": "[encoded data removed]",
      "text/latex": [
       "$\\displaystyle - \\frac{k w}{l} - \\frac{k \\left(\\delta + r\\right)}{l} + \\left(\\frac{k}{l}\\right)^{\\alpha}$"
      ],
      "text/plain": [
       "                       α\n",
       "  k⋅w   k⋅(δ + r)   ⎛k⎞ \n",
       "- ─── - ───────── + ⎜─⎟ \n",
       "   l        l       ⎝l⎠ "
      ]
     },
     "metadata": {},
     "output_type": "display_data"
    },
    {
     "data": {
      "image/png": "[encoded data removed]",
      "text/latex": [
       "$\\displaystyle - \\frac{\\alpha \\left(\\frac{k}{l}\\right)^{\\alpha}}{l} + \\frac{k w}{l^{2}} + \\frac{k \\left(\\delta + r\\right)}{l^{2}}$"
      ],
      "text/plain": [
       "       α                  \n",
       "    ⎛k⎞                   \n",
       "  α⋅⎜─⎟                   \n",
       "    ⎝l⎠    k⋅w   k⋅(δ + r)\n",
       "- ────── + ─── + ─────────\n",
       "    l        2        2   \n",
       "            l        l    "
      ]
     },
     "metadata": {},
     "output_type": "display_data"
    },
    {
     "data": {
      "image/png": "[encoded data removed]",
      "text/latex": [
       "$\\displaystyle \\left[ k^{\\frac{\\alpha}{\\alpha - 1}} \\left(\\frac{k \\left(\\delta + r + w\\right)}{\\alpha}\\right)^{- \\frac{1}{\\alpha - 1}}\\right]$"
      ],
      "text/plain": [
       "⎡                       -1  ⎤\n",
       "⎢   α                  ─────⎥\n",
       "⎢ ─────                α - 1⎥\n",
       "⎢ α - 1 ⎛k⋅(δ + r + w)⎞     ⎥\n",
       "⎢k     ⋅⎜─────────────⎟     ⎥\n",
       "⎣       ⎝      α      ⎠     ⎦"
      ]
     },
     "metadata": {},
     "output_type": "display_data"
    },
    {
     "data": {
      "image/png": "[encoded data removed]",
      "text/latex": [
       "$\\displaystyle \\left[ k^{\\frac{\\alpha}{\\alpha - 1}} \\left(\\frac{k \\left(\\delta + r + w\\right)}{\\alpha}\\right)^{- \\frac{1}{\\alpha - 1}}\\right]$"
      ],
      "text/plain": [
       "⎡                       -1  ⎤\n",
       "⎢   α                  ─────⎥\n",
       "⎢ ─────                α - 1⎥\n",
       "⎢ α - 1 ⎛k⋅(δ + r + w)⎞     ⎥\n",
       "⎢k     ⋅⎜─────────────⎟     ⎥\n",
       "⎣       ⎝      α      ⎠     ⎦"
      ]
     },
     "execution_count": 63,
     "metadata": {},
     "output_type": "execute_result"
    }
   ],
   "source": [
    "a = (K/(L))**alpha-(K/(L))*(r+delta)-w*(K/(L))\n",
    "display(a)\n",
    "a1 = sm.diff(a,l)\n",
    "display(a1)\n",
    "b = sm.solve(a1,l)\n",
    "display(b)\n",
    "sm.simplify(b)"
   ]
  },
  {
   "cell_type": "markdown",
   "metadata": {},
   "source": [
    "## 5. Model Equilibrium & Dinamics"
   ]
  },
  {
   "cell_type": "markdown",
   "metadata": {},
   "source": [
    "We make now our representative consumer and firm interacting with each other and we briefly describe the main features of the Ramsey model. Our optimizer household of *section.2* exhibits the same CRRA utility function with respect to consumption. The new element is that he maximizes over an infinite horizon taking into account the welfare and resources of his prospective descendants. The current household expects the size of its future family to grow at the rate $n$, given as exogenous and constant. We normalize the size of the family at time $t= \\small{0}$ to 1, so that at the generic time $t$, the size of the family will be $L(t)=e^{nt}$. So, the utility maximization problem become:\n",
    " \n",
    "$$U= \\int_{0}^{\\infty} e^{-(\\rho-n)t}\\left[\\frac{c^{1-\\theta}-1}{1-\\theta}\\right]dt$$"
   ]
  },
  {
   "cell_type": "markdown",
   "metadata": {},
   "source": [
    "The household hold assets ($a(t)$) which pay rate of return $r(t)$ and supplies inelastically one unit of labor services for the wage rate $w(t)$. We assume a closed economy so that no assets can be traded internationally and we assume a competitive market so that the interest rate, r $r(t)$, and the wage rate $w(t)$ are given.                              \n",
    "The total income received by the aggregate is the sum of labor income, $w(t)·L(t)$, and asset income, $r (t)·(Assets)$ and the income that it is not consumed, it is used to accumulate more assets:  \n",
    "\n",
    "$$\\frac{d(Assets)}{dt} = r(Assets)+wL-C$$  \n",
    "\n",
    "In per-capita terms it becomes:  \n",
    "\n",
    "$$\\dot{\\alpha} = (r-n)\\alpha+w-c$$"
   ]
  },
  {
   "cell_type": "markdown",
   "metadata": {},
   "source": [
    "We assume that the credit market imposes a constraint on the amount of borrowing to rule out chain-letter possibilities. The appropriate restriction turns out to be that the present value\n",
    "of assets must be asymptotically nonnegative:  \n",
    "$$\\lim_{t \\to \\infty} \\bigg\\{ \\alpha(t)exp\\left[-\\int_{0}^{t}[r(v)-n]dv \\right] \\bigg\\} = 0$$"
   ]
  },
  {
   "cell_type": "markdown",
   "metadata": {},
   "source": []
  },
  {
   "cell_type": "code",
   "execution_count": null,
   "metadata": {},
   "outputs": [],
   "source": [
    "# Solving differential equation for multiple values\n",
    "A =2 \n",
    "def model(c, t, sigma, delta, rho):\n",
    "    dcdt = sigma**(A-delta-rho)\n",
    "    return dcdt\n",
    "\n",
    "#initial condition\n",
    "c0 = 3\n",
    "\n",
    "#time point\n",
    "t=np.linspace(0,10,10) #start,f\n",
    "\n",
    "# Solve ODEs\n",
    "sigma= 0.1\n",
    "delta= 0.3\n",
    "rho= 0.9\n",
    "c1 = odeint(model,c0,t, args=(sigma, delta, rho,))\n",
    "sigma=0.2\n",
    "delta=0.3\n",
    "rho=0.9\n",
    "c2 = odeint(model,c0,t, args=(sigma, delta, rho,))\n",
    "sigma= 0.3\n",
    "delta= 0.3\n",
    "rho= 0.9\n",
    "c3 = odeint(model,c0,t, args=(sigma, delta, rho,))\n",
    "\n",
    "#plot results\n",
    "plt.plot(t,c1,'r-', linewidth=2)\n",
    "plt.plot(t,c2,'b--', linewidth=2)\n",
    "plt.plot(t,c3,'g:', linewidth=2)\n",
    "plt.xlabel('time')\n",
    "plt.ylabel('c(t)')"
   ]
  },
  {
   "cell_type": "code",
   "execution_count": null,
   "metadata": {},
   "outputs": [],
   "source": []
  },
  {
   "cell_type": "code",
   "execution_count": null,
   "metadata": {},
   "outputs": [],
   "source": [
    "# parameter values \n",
    "theta = 3.0\n",
    "rho = 0.01\n",
    "n = 0.0025\n",
    "delta = 0.3\n",
    "alpha = 0.3\n",
    "g=0\n",
    "\n",
    "#Sanity check for parameter values\n",
    "(rho - n) > (1 - theta)*g"
   ]
  },
  {
   "cell_type": "code",
   "execution_count": null,
   "metadata": {},
   "outputs": [],
   "source": [
    "#define production function\n",
    "def prod(k_t):\n",
    "    return k_t**alpha\n",
    "\n",
    "def cons_t1(c_t, k_t):\n",
    "    return (np.exp(-rho) * (np.exp(-delta) + alpha * cap_t1(c_t, k_t)**(alpha - 1)))**(1 / theta) * c_t\n",
    "\n",
    "#define capital equation\n",
    "def cap_t1(c_t,k_t):\n",
    "    return np.exp(-n)*(prod(k_t)+np.exp(-delta)*k_t-c_t)\n",
    "\n",
    "#difference between two periods capital\n",
    "def capt_cap1(c_t, k_t):\n",
    "    return cap_t1(c_t, k_t) - k_t\n",
    "\n",
    "#difference between two period consumption\n",
    "def const_const1(c_t, k_t):\n",
    "    return cons_t1(c_t, k_t) - c_t"
   ]
  },
  {
   "cell_type": "code",
   "execution_count": null,
   "metadata": {},
   "outputs": [],
   "source": [
    "def k_star():\n",
    "    return ((alpha * np.exp(-rho)) / (1 - np.exp(-(rho + delta))))**(1 / (1 - alpha))\n",
    "\n",
    "def c_star():\n",
    "    return prod(k_star())+(np.exp(-delta)-np.exp(n))*k_star()\n",
    "\n",
    "k_star()"
   ]
  },
  {
   "cell_type": "code",
   "execution_count": null,
   "metadata": {},
   "outputs": [],
   "source": [
    "#k a crescita 0\n",
    "def locus_cap(k_t):\n",
    "    return prod(k_t) - k_t*(-np.exp(-delta) + np.exp(n))\n",
    "\n",
    "#define saddle path\n",
    "def saddle_path(k):\n",
    "    return (A-delta-n-epsilon)*k"
   ]
  },
  {
   "cell_type": "code",
   "execution_count": null,
   "metadata": {},
   "outputs": [],
   "source": [
    "# Create a grid of points for plotting\n",
    "x_vec = np.linspace(0, 500, 7000)\n",
    "# Create a new figure\n",
    "plt.figure(figsize=(10,7))\n",
    "plt.xlim(0,7)\n",
    "plt.ylim(0,2)\n",
    "plt.grid(False)\n",
    "plt.xlabel([])\n",
    "\n",
    "# Add the capital and consumption locii\n",
    "plt.plot(x_vec, locus_cap(x_vec), linestyle ='--', color='black') \n",
    "plt.axvline(k_star(), linestyle = '-', color = 'black')\n",
    "plt.plot(k_star(), c_star(), marker='o', markersize = 10, color ='red')\n",
    "\n",
    "# Arrows to indicate  dynamics \n",
    "\n",
    "plt.arrow((1/2)*k_star(), (1/2)*c_star(), dx=0, dy=0.2, head_width = 0.1, head_length= 0.1, color = 'orange')\n",
    "plt.arrow((1/2)*k_star(), (1/2)*c_star(), dx=0.2, dy=0, head_width = 0.1, head_length= 0.1, color = 'orange')\n",
    "plt.arrow((1/2)*k_star(), 2*c_star(), dx=0, dy=0.2, head_width = 0.1, head_length= 0.1, color = 'orange')\n",
    "plt.arrow((1/2)*k_star(), 2*c_star(), dx=-0.2, dy=0, head_width = 0.1, head_length= 0.1, color = 'orange')\n",
    "\n",
    "plt.arrow(2*k_star(), (1/2)*c_star(), dx=0, dy=-0.2, head_width = 0.1, head_length = 0.1, color = 'orange')\n",
    "plt.arrow(2*k_star(), (1/2)*c_star(), dx=0.2, dy=0, head_width = 0.1, head_length = 0.1, color = 'orange')\n",
    "plt.arrow(2*k_star(), 2*c_star(), dx=0, dy=-0.2, head_width = 0.1, head_length = 0.1, color = 'orange')\n",
    "plt.arrow(2*k_star(), 2*c_star(), dx=-0.2, dy=0, head_width = 0.1, head_length = 0.1, color = 'orange')\n",
    "plt.tick_params(axis='x', labelbottom=False)\n",
    "plt.tick_params(axis='y', labelleft=False)\n",
    "\n",
    "# Add title and axis labels\n",
    "plt.xlabel('Capital (k)', fontsize = 12)\n",
    "plt.ylabel('Consumption (c)', fontsize = 12)\n",
    "plt.title('Ramsey Model Phase Diagram ', fontsize=15, weight='bold', pad = 10)\n",
    "plt.show()\n"
   ]
  },
  {
   "cell_type": "code",
   "execution_count": null,
   "metadata": {},
   "outputs": [],
   "source": [
    "# Simulating deterministic Ak model \n",
    "\n",
    "St_dict = {'k_star': k_star(), 'c_star': c_star()}\n",
    "        \n",
    "# Update variables\n",
    "def update():\n",
    "    c_t = cons_t1(c_t1, k_t1)\n",
    "    k_t = cap_t1(c_t1, k_t1)\n",
    "\n",
    "# Create paths of length n starting from current state variables\n",
    "def s_path( n=None):\n",
    "    \n",
    "    tra = np.zeros(shape=(n,2))\n",
    "            \n",
    "    for t in range (n):\n",
    "        tra[t,0]=k_t\n",
    "        tra[t,1]=c_t\n",
    "        update()\n",
    "            \n",
    "        return tra\n",
    "\n",
    "# Find steady state thorugh optimization\n",
    "def steadystate(k0=None, c0=None):\n",
    "            \n",
    "    def SS(X):\n",
    "        res=[cap_t1(X[0],X[1]-X[0])]\n",
    "        res.append(cons_t1(X[0],X[1]-X[1]))\n",
    "        return res\n",
    "        \n",
    "    return optimize.fsolve(SS, x0=(c0,k0))\n",
    "\n",
    "\n",
    "# Compute saddle_path\n",
    "def optimal_path(k0=None, c0=None, tol=1.5e-08):\n",
    "       \n",
    "        # compute steady state values\n",
    "        c_star, k_star = St_dict['c_star'], St_dict['k_star']\n",
    "        \n",
    "        if k0 <= k_star:\n",
    "            c_l = 0\n",
    "            c_h = c_star\n",
    "        else:\n",
    "            c_l = c_star\n",
    "            c_h = k0**alpha\n",
    "        c0 = (c_h + c_l) / 2\n",
    "        c_t, k_t = c0, k0\n",
    "    \n",
    "        #Initialize algorith \n",
    "        cal  = 0\n",
    "        n_iter = 0\n",
    "        \n",
    "        # Algorithm\n",
    "        while 1:\n",
    "            update()\n",
    "            dist = np.abs(((c_t - c_star)**2 + (k_t - k_star)**2)**(1/2))\n",
    "            cal = cal + 1\n",
    "            if k0 <= k_star:\n",
    "                if k_t > k_star:\n",
    "                    if dist < tol:\n",
    "                        break\n",
    "                    else: \n",
    "                        c_low = c0\n",
    "                        c0 = (c_high + c_low) / 2\n",
    "                        c_t, k_t = c0, k0\n",
    "                        cal = 0\n",
    "                if c_t > c_star:\n",
    "                    if dist < tol:\n",
    "                        break\n",
    "                    else: \n",
    "                        c_high = c0 \n",
    "                        c0 = (c_high + c_low) / 2\n",
    "                        c_t, k_t = c0, k0\n",
    "                        cal = 0\n",
    "            else:\n",
    "                if k_t < k_star:\n",
    "                    if dist < tol:\n",
    "                        break\n",
    "                    else: \n",
    "                        c_high = c0 \n",
    "                        c0 = (c_high + c_low) / 2\n",
    "                        c_t, k_t = c0, k0\n",
    "                        cal = 0\n",
    "                if c_t < c_star:\n",
    "                    if dist < tol:\n",
    "                        break\n",
    "                    else: \n",
    "                        c_low = c0\n",
    "                        c0 = (c_high + c_low) / 2\n",
    "                        c_t, k_t = c0, k0\n",
    "                        cal = 0\n",
    "                \n",
    "        c_t, k_t = c0, k0\n",
    "        result = s_path(cal)\n",
    "\n",
    "        return [c_t, result, s_path, dist]\n",
    "        \n",
    "# Saddle path\n",
    "solution = optimal_path(k0, tol=1.4e-7)"
   ]
  },
  {
   "cell_type": "code",
   "execution_count": null,
   "metadata": {},
   "outputs": [],
   "source": [
    "# Set initial levels for c,k\n",
    "c_t1, k_t1 = 0.4, 12\n",
    "\n",
    "# Generate a sample path of length 10 for the Ramsey economy \n",
    "s_path(10)\n",
    "\n",
    "cap_t1(0.4, 12), cons_t1(0.4, 12)\n"
   ]
  },
  {
   "cell_type": "code",
   "execution_count": null,
   "metadata": {},
   "outputs": [],
   "source": [
    "# Grid of points for plotting\n",
    "x1_vec = np.linspace(0, 500, 7000)\n",
    "\n",
    "#initial level of capital\n",
    "k0 = 0.5 * St_dict['k_star']\n",
    "\n",
    "# Create an array of initial conditions for choices of consumption per effective worker\n",
    "initial_consumption = np.linspace(0.5 * St_dict['c_star'], 1.5 * St_dict['c_star'], num=5)\n",
    "\n",
    "# Create a new plot\n",
    "plt.figure(figsize=(10,7))\n",
    "plt.xlim(0,7)\n",
    "plt.ylim(0,2)\n",
    "\n",
    "# Add the consumption and capital \n",
    "plt.plot(x1_vec, locus_cap(x1_vec), linestyle ='--', color='black', label=r'$c=(A-\\delta-n)k$')\n",
    "plt.axvline(St_dict['k_star'], color='black')\n",
    "plt.plot(St_dict['k_star'], St_dict['c_star'], marker='o', markersize=7, color='red')\n",
    "# saddle-path\n",
    "plt.plot(solution[1][:, 0], solution[1][:, 1], color='red')\n",
    "\n",
    "# initial level of capital per worker\n",
    "plt.axvline(k0, color='green', ls='--')\n",
    "\n",
    "# FOR loop plots a sample path for each initial value of c\n",
    "for c_t in initial_consumption:\n",
    "    c_t, k_t = c_t, k0\n",
    "    trpath = s_path(1000) \n",
    "    plt.plot(trpath[:, 0], trpath[:, 1])\n",
    "\n",
    "# Add title and axis labels\n",
    "plt.xlabel('Capital (k)', fontsize = 12)\n",
    "plt.ylabel('Consumption (c)', fontsize = 12)\n",
    "plt.title('Ramsey Model Phase Diagram ', fontsize=15, weight='bold', pad = 10)\n",
    "plt.show()"
   ]
  },
  {
   "cell_type": "code",
   "execution_count": null,
   "metadata": {},
   "outputs": [],
   "source": [
    " \n",
    "    "
   ]
  },
  {
   "cell_type": "code",
   "execution_count": null,
   "metadata": {},
   "outputs": [],
   "source": []
  },
  {
   "cell_type": "code",
   "execution_count": null,
   "metadata": {},
   "outputs": [],
   "source": []
  },
  {
   "cell_type": "code",
   "execution_count": null,
   "metadata": {},
   "outputs": [],
   "source": []
  }
 ],
 "metadata": {
  "kernelspec": {
   "display_name": "Python 3",
   "language": "python",
   "name": "python3"
  },
  "language_info": {
   "codemirror_mode": {
    "name": "ipython",
    "version": 3
   },
   "file_extension": ".py",
   "mimetype": "text/x-python",
   "name": "python",
   "nbconvert_exporter": "python",
   "pygments_lexer": "ipython3",
   "version": "3.7.4"
  }
 },
 "nbformat": 4,
 "nbformat_minor": 2
}
